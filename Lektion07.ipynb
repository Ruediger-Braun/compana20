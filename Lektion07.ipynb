{
 "cells": [
  {
   "cell_type": "markdown",
   "metadata": {
    "slideshow": {
     "slide_type": "slide"
    }
   },
   "source": [
    "# Computergestützte Mathematik zur Analysis\n",
    "\n",
    "Vorlesung vom 10.12.2020\n",
    "\n",
    "*Prof. Dr. Rüdiger Braun*"
   ]
  },
  {
   "cell_type": "code",
   "execution_count": 1,
   "metadata": {
    "slideshow": {
     "slide_type": "slide"
    }
   },
   "outputs": [],
   "source": [
    "from sympy import *\n",
    "init_printing()"
   ]
  },
  {
   "cell_type": "markdown",
   "metadata": {
    "slideshow": {
     "slide_type": "slide"
    }
   },
   "source": [
    "## Polarkoordinaten"
   ]
  },
  {
   "cell_type": "code",
   "execution_count": 2,
   "metadata": {
    "slideshow": {
     "slide_type": "slide"
    }
   },
   "outputs": [
    {
     "data": {
      "image/png": "[encoded data removed]",
      "text/latex": [
       "$\\displaystyle \\left( r \\cos{\\left(\\phi \\right)}, \\  r \\sin{\\left(\\phi \\right)}\\right)$"
      ],
      "text/plain": [
       "(r⋅cos(φ), r⋅sin(φ))"
      ]
     },
     "execution_count": 2,
     "metadata": {},
     "output_type": "execute_result"
    }
   ],
   "source": [
    "r = Symbol('r', positive=True)\n",
    "phi = Symbol('phi', real=True)\n",
    "x = r*cos(phi)\n",
    "y = r*sin(phi)\n",
    "x, y"
   ]
  },
  {
   "cell_type": "code",
   "execution_count": 3,
   "metadata": {},
   "outputs": [
    {
     "data": {
      "text/plain": [
       "True"
      ]
     },
     "execution_count": 3,
     "metadata": {},
     "output_type": "execute_result"
    }
   ],
   "source": [
    "r == simplify(sqrt(x**2+y**2))"
   ]
  },
  {
   "cell_type": "code",
   "execution_count": 4,
   "metadata": {},
   "outputs": [
    {
     "data": {
      "text/plain": [
       "False"
      ]
     },
     "execution_count": 4,
     "metadata": {},
     "output_type": "execute_result"
    }
   ],
   "source": [
    "phi == tan(y/x)"
   ]
  },
  {
   "cell_type": "markdown",
   "metadata": {
    "slideshow": {
     "slide_type": "fragment"
    }
   },
   "source": [
    "Das ist tatsächlich falsch, da $\\phi$ nur bis auf ein ganzes Vielfaches von $\\pi$ bestimmt ist."
   ]
  },
  {
   "cell_type": "code",
   "execution_count": 5,
   "metadata": {},
   "outputs": [
    {
     "data": {
      "text/plain": [
       "True"
      ]
     },
     "execution_count": 5,
     "metadata": {},
     "output_type": "execute_result"
    }
   ],
   "source": [
    "tan(phi) == tan(phi+pi)"
   ]
  },
  {
   "cell_type": "markdown",
   "metadata": {
    "slideshow": {
     "slide_type": "slide"
    }
   },
   "source": [
    "Deswegen kann $\\phi$ nicht durch den $\\arctan$ ausgedrückt werden."
   ]
  },
  {
   "cell_type": "code",
   "execution_count": 6,
   "metadata": {},
   "outputs": [
    {
     "data": {
      "image/png": "[encoded data removed]",
      "text/latex": [
       "$\\displaystyle \\frac{\\pi}{2}$"
      ],
      "text/plain": [
       "π\n",
       "─\n",
       "2"
      ]
     },
     "execution_count": 6,
     "metadata": {},
     "output_type": "execute_result"
    }
   ],
   "source": [
    "atan2(1,0)"
   ]
  },
  {
   "cell_type": "code",
   "execution_count": 7,
   "metadata": {},
   "outputs": [
    {
     "data": {
      "image/png": "[encoded data removed]",
      "text/latex": [
       "$\\displaystyle 0$"
      ],
      "text/plain": [
       "0"
      ]
     },
     "execution_count": 7,
     "metadata": {},
     "output_type": "execute_result"
    }
   ],
   "source": [
    "atan2(0,1)"
   ]
  },
  {
   "cell_type": "code",
   "execution_count": 8,
   "metadata": {},
   "outputs": [
    {
     "data": {
      "image/png": "[encoded data removed]",
      "text/latex": [
       "$\\displaystyle - \\frac{\\pi}{2}$"
      ],
      "text/plain": [
       "-π \n",
       "───\n",
       " 2 "
      ]
     },
     "execution_count": 8,
     "metadata": {},
     "output_type": "execute_result"
    }
   ],
   "source": [
    "atan2(-1,0)"
   ]
  },
  {
   "cell_type": "code",
   "execution_count": 9,
   "metadata": {},
   "outputs": [
    {
     "data": {
      "image/png": "[encoded data removed]",
      "text/latex": [
       "$\\displaystyle \\pi$"
      ],
      "text/plain": [
       "π"
      ]
     },
     "execution_count": 9,
     "metadata": {},
     "output_type": "execute_result"
    }
   ],
   "source": [
    "atan2(0,-1)"
   ]
  },
  {
   "cell_type": "code",
   "execution_count": 10,
   "metadata": {
    "slideshow": {
     "slide_type": "slide"
    }
   },
   "outputs": [
    {
     "data": {
      "text/plain": [
       "True"
      ]
     },
     "execution_count": 10,
     "metadata": {},
     "output_type": "execute_result"
    }
   ],
   "source": [
    "x == r*cos(atan2(y,x)).simplify()"
   ]
  },
  {
   "cell_type": "code",
   "execution_count": 11,
   "metadata": {},
   "outputs": [
    {
     "data": {
      "text/plain": [
       "False"
      ]
     },
     "execution_count": 11,
     "metadata": {},
     "output_type": "execute_result"
    }
   ],
   "source": [
    "phi == atan2(y,x)"
   ]
  },
  {
   "cell_type": "markdown",
   "metadata": {},
   "source": [
    "Tatsächlich falsch, weil $\\phi$ nicht aus dem Intervall $(-\\pi,\\pi]$ stammen muss."
   ]
  },
  {
   "cell_type": "markdown",
   "metadata": {},
   "source": [
    "Übung:  $\\tan(y/x)$ und `atan2(y,x)` plotten."
   ]
  },
  {
   "cell_type": "markdown",
   "metadata": {
    "slideshow": {
     "slide_type": "slide"
    }
   },
   "source": [
    "## Potenzfunktionen"
   ]
  },
  {
   "cell_type": "code",
   "execution_count": 12,
   "metadata": {
    "slideshow": {
     "slide_type": "slide"
    }
   },
   "outputs": [
    {
     "data": {
      "image/png": "[encoded data removed]",
      "text/plain": [
       "<Figure size 432x288 with 1 Axes>"
      ]
     },
     "metadata": {
      "needs_background": "light"
     },
     "output_type": "display_data"
    }
   ],
   "source": [
    "x = S('x')\n",
    "f = x**Rational(1,3)\n",
    "plot(f);"
   ]
  },
  {
   "cell_type": "code",
   "execution_count": 13,
   "metadata": {
    "slideshow": {
     "slide_type": "slide"
    }
   },
   "outputs": [
    {
     "data": {
      "image/png": "[encoded data removed]",
      "text/latex": [
       "$\\displaystyle \\sqrt[3]{-1}$"
      ],
      "text/plain": [
       "3 ____\n",
       "╲╱ -1 "
      ]
     },
     "execution_count": 13,
     "metadata": {},
     "output_type": "execute_result"
    }
   ],
   "source": [
    "f.subs(x, -1)"
   ]
  },
  {
   "cell_type": "code",
   "execution_count": 14,
   "metadata": {
    "slideshow": {
     "slide_type": "fragment"
    }
   },
   "outputs": [
    {
     "data": {
      "image/png": "[encoded data removed]",
      "text/latex": [
       "$\\displaystyle \\frac{1}{2} + \\frac{\\sqrt{3} i}{2}$"
      ],
      "text/plain": [
       "1   √3⋅ⅈ\n",
       "─ + ────\n",
       "2    2  "
      ]
     },
     "execution_count": 14,
     "metadata": {},
     "output_type": "execute_result"
    }
   ],
   "source": [
    "f.subs(x, -1).expand(complex=True)"
   ]
  },
  {
   "cell_type": "code",
   "execution_count": 15,
   "metadata": {
    "slideshow": {
     "slide_type": "fragment"
    }
   },
   "outputs": [
    {
     "data": {
      "image/png": "[encoded data removed]",
      "text/latex": [
       "$\\displaystyle i \\sin{\\left(\\frac{\\operatorname{atan_{2}}{\\left(\\sin{\\left(t \\right)},\\cos{\\left(t \\right)} \\right)}}{3} \\right)} + \\cos{\\left(\\frac{\\operatorname{atan_{2}}{\\left(\\sin{\\left(t \\right)},\\cos{\\left(t \\right)} \\right)}}{3} \\right)}$"
      ],
      "text/plain": [
       "     ⎛atan2(sin(t), cos(t))⎞      ⎛atan2(sin(t), cos(t))⎞\n",
       "ⅈ⋅sin⎜─────────────────────⎟ + cos⎜─────────────────────⎟\n",
       "     ⎝          3          ⎠      ⎝          3          ⎠"
      ]
     },
     "execution_count": 15,
     "metadata": {},
     "output_type": "execute_result"
    }
   ],
   "source": [
    "t = Symbol('t', real=True)\n",
    "f.subs(x,(exp(I*t))).expand(complex=True).trigsimp()"
   ]
  },
  {
   "cell_type": "code",
   "execution_count": 16,
   "metadata": {
    "slideshow": {
     "slide_type": "slide"
    }
   },
   "outputs": [
    {
     "data": {
      "image/png": "[encoded data removed]",
      "text/plain": [
       "<Figure size 432x288 with 1 Axes>"
      ]
     },
     "metadata": {
      "needs_background": "light"
     },
     "output_type": "display_data"
    }
   ],
   "source": [
    "p1 = plot(re(f.subs(x, exp(I*t))), (t, -pi, pi), line_color='green', label=\"Realteil\", show=False)\n",
    "p2 = plot(im(f.subs(x, exp(I*t))), (t,-pi, pi), line_color='red', label=\"Imaginärteil\", show=False)\n",
    "p1.append(p2[0])\n",
    "p1.legend = True\n",
    "p1.show()"
   ]
  },
  {
   "cell_type": "code",
   "execution_count": 17,
   "metadata": {
    "slideshow": {
     "slide_type": "slide"
    }
   },
   "outputs": [
    {
     "data": {
      "image/png": "[encoded data removed]",
      "text/latex": [
       "$\\displaystyle \\sqrt[3]{\\left|{x}\\right|} \\operatorname{sign}{\\left(x \\right)}$"
      ],
      "text/plain": [
       "3 _____        \n",
       "╲╱ │x│ ⋅sign(x)"
      ]
     },
     "execution_count": 17,
     "metadata": {},
     "output_type": "execute_result"
    }
   ],
   "source": [
    "h = sign(x)*abs(x)**Rational(1,3)\n",
    "h"
   ]
  },
  {
   "cell_type": "code",
   "execution_count": 18,
   "metadata": {},
   "outputs": [
    {
     "data": {
      "image/png": "[encoded data removed]",
      "text/plain": [
       "<Figure size 432x288 with 1 Axes>"
      ]
     },
     "metadata": {
      "needs_background": "light"
     },
     "output_type": "display_data"
    }
   ],
   "source": [
    "plot(h);"
   ]
  },
  {
   "cell_type": "markdown",
   "metadata": {
    "slideshow": {
     "slide_type": "slide"
    }
   },
   "source": [
    "## nutzergesteuerte trigonometrische Vereinfachungen"
   ]
  },
  {
   "cell_type": "code",
   "execution_count": 19,
   "metadata": {
    "slideshow": {
     "slide_type": "slide"
    }
   },
   "outputs": [
    {
     "data": {
      "image/png": "[encoded data removed]",
      "text/latex": [
       "$\\displaystyle \\sin{\\left(x \\right)} + \\sin{\\left(y \\right)}$"
      ],
      "text/plain": [
       "sin(x) + sin(y)"
      ]
     },
     "execution_count": 19,
     "metadata": {},
     "output_type": "execute_result"
    }
   ],
   "source": [
    "x = S('x')\n",
    "y = S('y')\n",
    "b = sin(x) + sin(y)\n",
    "b"
   ]
  },
  {
   "cell_type": "code",
   "execution_count": 20,
   "metadata": {},
   "outputs": [
    {
     "data": {
      "image/png": "[encoded data removed]",
      "text/latex": [
       "$\\displaystyle \\sin{\\left(x \\right)} + \\sin{\\left(y \\right)}$"
      ],
      "text/plain": [
       "sin(x) + sin(y)"
      ]
     },
     "execution_count": 20,
     "metadata": {},
     "output_type": "execute_result"
    }
   ],
   "source": [
    "b.trigsimp()"
   ]
  },
  {
   "cell_type": "code",
   "execution_count": 21,
   "metadata": {
    "slideshow": {
     "slide_type": "fragment"
    }
   },
   "outputs": [
    {
     "data": {
      "image/png": "[encoded data removed]",
      "text/latex": [
       "$\\displaystyle \\sin{\\left(x \\right)} + \\sin{\\left(y \\right)}$"
      ],
      "text/plain": [
       "sin(x) + sin(y)"
      ]
     },
     "execution_count": 21,
     "metadata": {},
     "output_type": "execute_result"
    }
   ],
   "source": [
    "b.trigsimp(method='fu')"
   ]
  },
  {
   "cell_type": "markdown",
   "metadata": {
    "slideshow": {
     "slide_type": "slide"
    }
   },
   "source": [
    "Wie kompliziert ist dieser Ausdruck?"
   ]
  },
  {
   "cell_type": "code",
   "execution_count": 22,
   "metadata": {},
   "outputs": [
    {
     "data": {
      "image/png": "[encoded data removed]",
      "text/latex": [
       "$\\displaystyle ADD + 2 SIN$"
      ],
      "text/plain": [
       "ADD + 2⋅SIN"
      ]
     },
     "execution_count": 22,
     "metadata": {},
     "output_type": "execute_result"
    }
   ],
   "source": [
    "b.count_ops(visual=True)"
   ]
  },
  {
   "cell_type": "code",
   "execution_count": 28,
   "metadata": {
    "slideshow": {
     "slide_type": "slide"
    }
   },
   "outputs": [],
   "source": [
    "def my_measure(expr):\n",
    "    opc = expr.count_ops(visual=True)\n",
    "    print(opc)  # zur Fehlersuche\n",
    "    strafe = {}\n",
    "    strafe['ADD'] = 1\n",
    "    strafe['SIN'] = 1\n",
    "    strafe['MUL'] = -100\n",
    "    return opc.subs(strafe)"
   ]
  },
  {
   "cell_type": "code",
   "execution_count": 29,
   "metadata": {
    "slideshow": {
     "slide_type": "fragment"
    }
   },
   "outputs": [
    {
     "name": "stdout",
     "output_type": "stream",
     "text": [
      "ADD + 2*SIN\n"
     ]
    },
    {
     "data": {
      "image/png": "[encoded data removed]",
      "text/latex": [
       "$\\displaystyle 3$"
      ],
      "text/plain": [
       "3"
      ]
     },
     "execution_count": 29,
     "metadata": {},
     "output_type": "execute_result"
    }
   ],
   "source": [
    "my_measure(b)"
   ]
  },
  {
   "cell_type": "code",
   "execution_count": 31,
   "metadata": {
    "slideshow": {
     "slide_type": "slide"
    }
   },
   "outputs": [],
   "source": [
    "# b.trigsimp(method='fu', measure=my_measure)  # TypeError"
   ]
  },
  {
   "cell_type": "code",
   "execution_count": 32,
   "metadata": {
    "slideshow": {
     "slide_type": "fragment"
    }
   },
   "outputs": [],
   "source": [
    "def my_measure(expr):\n",
    "    opc = expr.count_ops(visual=True)\n",
    "    # print(opc)  # zur Fehlersuche\n",
    "    strafe = {}\n",
    "    strafe['ADD'] = 1\n",
    "    strafe['SIN'] = 1\n",
    "    strafe['MUL'] = -100\n",
    "    strafe['COS'] = 1\n",
    "    strafe['DIV'] = 1\n",
    "    strafe['SUB'] = 1\n",
    "    return opc.subs(strafe)"
   ]
  },
  {
   "cell_type": "code",
   "execution_count": 33,
   "metadata": {
    "slideshow": {
     "slide_type": "fragment"
    }
   },
   "outputs": [
    {
     "data": {
      "image/png": "[encoded data removed]",
      "text/latex": [
       "$\\displaystyle 2 \\sin{\\left(\\frac{x}{2} + \\frac{y}{2} \\right)} \\cos{\\left(\\frac{x}{2} - \\frac{y}{2} \\right)}$"
      ],
      "text/plain": [
       "     ⎛x   y⎞    ⎛x   y⎞\n",
       "2⋅sin⎜─ + ─⎟⋅cos⎜─ - ─⎟\n",
       "     ⎝2   2⎠    ⎝2   2⎠"
      ]
     },
     "execution_count": 33,
     "metadata": {},
     "output_type": "execute_result"
    }
   ],
   "source": [
    "c = b.trigsimp(method='fu', measure=my_measure)\n",
    "c"
   ]
  },
  {
   "cell_type": "code",
   "execution_count": 34,
   "metadata": {
    "slideshow": {
     "slide_type": "slide"
    }
   },
   "outputs": [
    {
     "data": {
      "image/png": "[encoded data removed]",
      "text/latex": [
       "$\\displaystyle \\sin{\\left(x \\right)} + \\sin{\\left(y \\right)}$"
      ],
      "text/plain": [
       "sin(x) + sin(y)"
      ]
     },
     "execution_count": 34,
     "metadata": {},
     "output_type": "execute_result"
    }
   ],
   "source": [
    "c.trigsimp()"
   ]
  },
  {
   "cell_type": "code",
   "execution_count": 35,
   "metadata": {
    "slideshow": {
     "slide_type": "slide"
    }
   },
   "outputs": [],
   "source": [
    "d = sin(x)**8"
   ]
  },
  {
   "cell_type": "code",
   "execution_count": 36,
   "metadata": {},
   "outputs": [],
   "source": [
    "def my_measure(expr):\n",
    "    opc = expr.count_ops(visual=True)\n",
    "    # print(opc)  # zur Fehlersuche\n",
    "    strafe = {}\n",
    "    strafe['ADD'] = 1\n",
    "    strafe['SIN'] = 100\n",
    "    strafe['MUL'] = 1\n",
    "    strafe['COS'] = 1\n",
    "    strafe['DIV'] = 1\n",
    "    strafe['SUB'] = 1\n",
    "    strafe['POW'] = 1\n",
    "    return opc.subs(strafe)"
   ]
  },
  {
   "cell_type": "code",
   "execution_count": 37,
   "metadata": {
    "slideshow": {
     "slide_type": "fragment"
    }
   },
   "outputs": [
    {
     "data": {
      "image/png": "[encoded data removed]",
      "text/latex": [
       "$\\displaystyle \\cos^{8}{\\left(x \\right)} - 4 \\cos^{6}{\\left(x \\right)} + 6 \\cos^{4}{\\left(x \\right)} - 4 \\cos^{2}{\\left(x \\right)} + 1$"
      ],
      "text/plain": [
       "   8           6           4           2       \n",
       "cos (x) - 4⋅cos (x) + 6⋅cos (x) - 4⋅cos (x) + 1"
      ]
     },
     "execution_count": 37,
     "metadata": {},
     "output_type": "execute_result"
    }
   ],
   "source": [
    "d.trigsimp(method='fu', measure=my_measure)"
   ]
  },
  {
   "cell_type": "markdown",
   "metadata": {
    "slideshow": {
     "slide_type": "slide"
    }
   },
   "source": [
    "## nutzergesteuertes `simplify`"
   ]
  },
  {
   "cell_type": "code",
   "execution_count": 38,
   "metadata": {
    "slideshow": {
     "slide_type": "slide"
    }
   },
   "outputs": [],
   "source": [
    "x = Symbol('x', positive=True)\n",
    "y = Symbol('y', positive=True)"
   ]
  },
  {
   "cell_type": "code",
   "execution_count": 39,
   "metadata": {},
   "outputs": [
    {
     "data": {
      "image/png": "[encoded data removed]",
      "text/latex": [
       "$\\displaystyle 2 \\log{\\left(x \\right)} + \\log{\\left(\\frac{x}{y} \\right)}$"
      ],
      "text/plain": [
       "              ⎛x⎞\n",
       "2⋅log(x) + log⎜─⎟\n",
       "              ⎝y⎠"
      ]
     },
     "execution_count": 39,
     "metadata": {},
     "output_type": "execute_result"
    }
   ],
   "source": [
    "a = log(x/y) + 2*log(x)\n",
    "a"
   ]
  },
  {
   "cell_type": "code",
   "execution_count": 40,
   "metadata": {},
   "outputs": [
    {
     "data": {
      "image/png": "[encoded data removed]",
      "text/latex": [
       "$\\displaystyle \\log{\\left(\\frac{x^{3}}{y} \\right)}$"
      ],
      "text/plain": [
       "   ⎛ 3⎞\n",
       "   ⎜x ⎟\n",
       "log⎜──⎟\n",
       "   ⎝y ⎠"
      ]
     },
     "execution_count": 40,
     "metadata": {},
     "output_type": "execute_result"
    }
   ],
   "source": [
    "a.simplify()"
   ]
  },
  {
   "cell_type": "markdown",
   "metadata": {
    "slideshow": {
     "slide_type": "slide"
    }
   },
   "source": [
    "Ich will aber $x$- und die $y$-Terme getrennt lassen"
   ]
  },
  {
   "cell_type": "code",
   "execution_count": 41,
   "metadata": {},
   "outputs": [],
   "source": [
    "def my_measure(expr):\n",
    "    opc = expr.count_ops(visual=True)\n",
    "    # print(opc)  # zur Fehlersuche\n",
    "    strafe = {}\n",
    "    strafe['ADD'] = 1\n",
    "    strafe['MUL'] = 1\n",
    "    strafe['DIV'] = 10\n",
    "    strafe['SUB'] = 1\n",
    "    strafe['POW'] = 1\n",
    "    strafe['LOG'] = 1\n",
    "    return opc.subs(strafe)"
   ]
  },
  {
   "cell_type": "code",
   "execution_count": 42,
   "metadata": {},
   "outputs": [
    {
     "data": {
      "image/png": "[encoded data removed]",
      "text/latex": [
       "$\\displaystyle 3 \\log{\\left(x \\right)} - \\log{\\left(y \\right)}$"
      ],
      "text/plain": [
       "3⋅log(x) - log(y)"
      ]
     },
     "execution_count": 42,
     "metadata": {},
     "output_type": "execute_result"
    }
   ],
   "source": [
    "a.simplify(measure=my_measure)"
   ]
  },
  {
   "cell_type": "markdown",
   "metadata": {
    "slideshow": {
     "slide_type": "slide"
    }
   },
   "source": [
    "## Reihenentwicklungen"
   ]
  },
  {
   "cell_type": "code",
   "execution_count": 43,
   "metadata": {
    "slideshow": {
     "slide_type": "slide"
    }
   },
   "outputs": [
    {
     "data": {
      "image/png": "[encoded data removed]",
      "text/latex": [
       "$\\displaystyle 1 - 2 x^{2} + \\frac{2 x^{4}}{3} - \\frac{4 x^{6}}{45} + \\frac{2 x^{8}}{315} - \\frac{4 x^{10}}{14175} + O\\left(x^{12}\\right)$"
      ],
      "text/plain": [
       "              4      6      8      10         \n",
       "       2   2⋅x    4⋅x    2⋅x    4⋅x      ⎛ 12⎞\n",
       "1 - 2⋅x  + ──── - ──── + ──── - ───── + O⎝x  ⎠\n",
       "            3      45    315    14175         "
      ]
     },
     "execution_count": 43,
     "metadata": {},
     "output_type": "execute_result"
    }
   ],
   "source": [
    "f = cos(2*x)\n",
    "f.series(x, n=12)"
   ]
  },
  {
   "cell_type": "code",
   "execution_count": 44,
   "metadata": {
    "slideshow": {
     "slide_type": "fragment"
    }
   },
   "outputs": [
    {
     "data": {
      "image/png": "[encoded data removed]",
      "text/latex": [
       "$\\displaystyle \\frac{\\pi}{2} + \\frac{4 \\left(x - \\frac{\\pi}{4}\\right)^{3}}{3} - \\frac{4 \\left(x - \\frac{\\pi}{4}\\right)^{5}}{15} - 2 x + O\\left(\\left(x - \\frac{\\pi}{4}\\right)^{6}; x\\rightarrow \\frac{\\pi}{4}\\right)$"
      ],
      "text/plain": [
       "             3            5                           \n",
       "      ⎛    π⎞      ⎛    π⎞                            \n",
       "    4⋅⎜x - ─⎟    4⋅⎜x - ─⎟           ⎛       6       ⎞\n",
       "π     ⎝    4⎠      ⎝    4⎠           ⎜⎛    π⎞       π⎟\n",
       "─ + ────────── - ────────── - 2⋅x + O⎜⎜x - ─⎟ ; x → ─⎟\n",
       "2       3            15              ⎝⎝    4⎠       4⎠"
      ]
     },
     "execution_count": 44,
     "metadata": {},
     "output_type": "execute_result"
    }
   ],
   "source": [
    "f.series(x, pi/4)"
   ]
  },
  {
   "cell_type": "code",
   "execution_count": 47,
   "metadata": {
    "slideshow": {
     "slide_type": "slide"
    }
   },
   "outputs": [
    {
     "data": {
      "image/png": "[encoded data removed]",
      "text/latex": [
       "$\\displaystyle \\frac{1}{x^{5}} - \\frac{1}{x^{3}} + \\frac{1}{x^{2}} + O\\left(\\frac{1}{x^{6}}; x\\rightarrow \\infty\\right)$"
      ],
      "text/plain": [
       "1    1    1     ⎛1        ⎞\n",
       "── - ── + ── + O⎜──; x → ∞⎟\n",
       " 5    3    2    ⎜ 6       ⎟\n",
       "x    x    x     ⎝x        ⎠"
      ]
     },
     "execution_count": 47,
     "metadata": {},
     "output_type": "execute_result"
    }
   ],
   "source": [
    "g = 1/(x**2+x+1)\n",
    "gs = g.series(x, oo)\n",
    "gs"
   ]
  },
  {
   "cell_type": "code",
   "execution_count": 48,
   "metadata": {
    "slideshow": {
     "slide_type": "fragment"
    }
   },
   "outputs": [
    {
     "data": {
      "image/png": "[encoded data removed]",
      "text/latex": [
       "$\\displaystyle \\frac{1}{x^{2} + x - \\frac{x + 1}{x^{3} - x^{2} + 1} + 1}$"
      ],
      "text/plain": [
       "           1            \n",
       "────────────────────────\n",
       " 2          x + 1       \n",
       "x  + x - ─────────── + 1\n",
       "          3    2        \n",
       "         x  - x  + 1    "
      ]
     },
     "execution_count": 48,
     "metadata": {},
     "output_type": "execute_result"
    }
   ],
   "source": [
    "g1 = gs.removeO()\n",
    "1/(1/g1).ratsimp()"
   ]
  },
  {
   "cell_type": "code",
   "execution_count": 49,
   "metadata": {
    "slideshow": {
     "slide_type": "slide"
    }
   },
   "outputs": [
    {
     "data": {
      "image/png": "[encoded data removed]",
      "text/latex": [
       "$\\displaystyle O\\left(- \\frac{1}{x^{25}}; x\\rightarrow -\\infty\\right)$"
      ],
      "text/plain": [
       " ⎛-1         ⎞\n",
       "O⎜───; x → -∞⎟\n",
       " ⎜ 25        ⎟\n",
       " ⎝x          ⎠"
      ]
     },
     "execution_count": 49,
     "metadata": {},
     "output_type": "execute_result"
    }
   ],
   "source": [
    "h = exp(x)\n",
    "h.series(x, -oo, n=25)"
   ]
  },
  {
   "cell_type": "code",
   "execution_count": 50,
   "metadata": {},
   "outputs": [
    {
     "data": {
      "image/png": "[encoded data removed]",
      "text/latex": [
       "$\\displaystyle e^{x}$"
      ],
      "text/plain": [
       " x\n",
       "ℯ "
      ]
     },
     "execution_count": 50,
     "metadata": {},
     "output_type": "execute_result"
    }
   ],
   "source": [
    "h.series(x, oo)"
   ]
  },
  {
   "cell_type": "code",
   "execution_count": 51,
   "metadata": {
    "slideshow": {
     "slide_type": "slide"
    }
   },
   "outputs": [
    {
     "data": {
      "image/png": "[encoded data removed]",
      "text/latex": [
       "$\\displaystyle e^{\\sqrt{x + 1}}$"
      ],
      "text/plain": [
       "   _______\n",
       " ╲╱ x + 1 \n",
       "ℯ         "
      ]
     },
     "execution_count": 51,
     "metadata": {},
     "output_type": "execute_result"
    }
   ],
   "source": [
    "exp(sqrt(x+1)).series(x, oo)"
   ]
  },
  {
   "cell_type": "code",
   "execution_count": 52,
   "metadata": {},
   "outputs": [
    {
     "data": {
      "image/png": "[encoded data removed]",
      "text/latex": [
       "$\\displaystyle \\frac{181}{3840 x^{\\frac{5}{2}}} - \\frac{5}{48 x^{\\frac{3}{2}}} + \\frac{1}{2 \\sqrt{x}} - \\frac{23}{384 x^{2}} + \\frac{1}{8 x} + 1 + O\\left(\\frac{1}{x^{3}}; x\\rightarrow \\infty\\right)$"
      ],
      "text/plain": [
       "   181         5       1       23      1         ⎛1        ⎞\n",
       "───────── - ─────── + ──── - ────── + ─── + 1 + O⎜──; x → ∞⎟\n",
       "      5/2       3/2   2⋅√x        2   8⋅x        ⎜ 3       ⎟\n",
       "3840⋅x      48⋅x             384⋅x               ⎝x        ⎠"
      ]
     },
     "execution_count": 52,
     "metadata": {},
     "output_type": "execute_result"
    }
   ],
   "source": [
    "r = exp(sqrt(x+1)-sqrt(x))\n",
    "r_ser = r.series(x, oo, n=3)\n",
    "r_ser"
   ]
  },
  {
   "cell_type": "code",
   "execution_count": 53,
   "metadata": {
    "slideshow": {
     "slide_type": "slide"
    }
   },
   "outputs": [],
   "source": [
    "a = Symbol('a')"
   ]
  },
  {
   "cell_type": "code",
   "execution_count": 54,
   "metadata": {},
   "outputs": [
    {
     "data": {
      "image/png": "[encoded data removed]",
      "text/latex": [
       "$\\displaystyle - \\frac{\\log{\\left(\\frac{1}{x} \\right)}}{2} + \\frac{a}{2 x} - \\frac{a^{2}}{4 x^{2}} + \\frac{a^{3}}{6 x^{3}} - \\frac{a^{4}}{8 x^{4}} + \\frac{a^{5}}{10 x^{5}} + O\\left(\\frac{1}{x^{6}}; x\\rightarrow \\infty\\right)$"
      ],
      "text/plain": [
       "     ⎛1⎞                                                  \n",
       "  log⎜─⎟           2      3      4       5                \n",
       "     ⎝x⎠    a     a      a      a       a      ⎛1        ⎞\n",
       "- ────── + ─── - ──── + ──── - ──── + ───── + O⎜──; x → ∞⎟\n",
       "    2      2⋅x      2      3      4       5    ⎜ 6       ⎟\n",
       "                 4⋅x    6⋅x    8⋅x    10⋅x     ⎝x        ⎠"
      ]
     },
     "execution_count": 54,
     "metadata": {},
     "output_type": "execute_result"
    }
   ],
   "source": [
    "b_ser = log(sqrt(x+a)).series(x, oo)\n",
    "b_ser"
   ]
  },
  {
   "cell_type": "markdown",
   "metadata": {
    "slideshow": {
     "slide_type": "slide"
    }
   },
   "source": [
    "## Beispiel mit der Lambert-Funktion"
   ]
  },
  {
   "cell_type": "code",
   "execution_count": 55,
   "metadata": {
    "slideshow": {
     "slide_type": "slide"
    }
   },
   "outputs": [
    {
     "data": {
      "image/png": "[encoded data removed]",
      "text/latex": [
       "$\\displaystyle \\log{\\left(x \\right)} = - a + x$"
      ],
      "text/plain": [
       "log(x) = -a + x"
      ]
     },
     "execution_count": 55,
     "metadata": {},
     "output_type": "execute_result"
    }
   ],
   "source": [
    "glg = Eq(log(x), x-a)\n",
    "glg"
   ]
  },
  {
   "cell_type": "code",
   "execution_count": 56,
   "metadata": {},
   "outputs": [
    {
     "data": {
      "image/png": "[encoded data removed]",
      "text/latex": [
       "$\\displaystyle - W\\left(- e^{- a}\\right)$"
      ],
      "text/plain": [
       "  ⎛  -a⎞\n",
       "-W⎝-ℯ  ⎠"
      ]
     },
     "execution_count": 56,
     "metadata": {},
     "output_type": "execute_result"
    }
   ],
   "source": [
    "lsg = solve(glg, x)\n",
    "f = lsg[0]\n",
    "f"
   ]
  },
  {
   "cell_type": "code",
   "execution_count": 57,
   "metadata": {
    "slideshow": {
     "slide_type": "fragment"
    }
   },
   "outputs": [
    {
     "data": {
      "image/png": "[encoded data removed]",
      "text/latex": [
       "$\\displaystyle O\\left(\\frac{1}{a^{6}}; a\\rightarrow \\infty\\right)$"
      ],
      "text/plain": [
       " ⎛1        ⎞\n",
       "O⎜──; a → ∞⎟\n",
       " ⎜ 6       ⎟\n",
       " ⎝a        ⎠"
      ]
     },
     "execution_count": 57,
     "metadata": {},
     "output_type": "execute_result"
    }
   ],
   "source": [
    "f.series(a, oo)"
   ]
  },
  {
   "cell_type": "code",
   "execution_count": 58,
   "metadata": {
    "slideshow": {
     "slide_type": "slide"
    }
   },
   "outputs": [
    {
     "data": {
      "image/png": "[encoded data removed]",
      "text/latex": [
       "$\\displaystyle - W\\left(- y\\right)$"
      ],
      "text/plain": [
       "-W(-y)"
      ]
     },
     "execution_count": 58,
     "metadata": {},
     "output_type": "execute_result"
    }
   ],
   "source": [
    "y = S('y')\n",
    "g = f.subs(exp(-a), y)\n",
    "g"
   ]
  },
  {
   "cell_type": "code",
   "execution_count": 59,
   "metadata": {},
   "outputs": [
    {
     "data": {
      "image/png": "[encoded data removed]",
      "text/latex": [
       "$\\displaystyle y + y^{2} + \\frac{3 y^{3}}{2} + \\frac{8 y^{4}}{3} + \\frac{125 y^{5}}{24} + O\\left(y^{6}\\right)$"
      ],
      "text/plain": [
       "            3      4        5        \n",
       "     2   3⋅y    8⋅y    125⋅y     ⎛ 6⎞\n",
       "y + y  + ──── + ──── + ────── + O⎝y ⎠\n",
       "          2      3       24          "
      ]
     },
     "execution_count": 59,
     "metadata": {},
     "output_type": "execute_result"
    }
   ],
   "source": [
    "g_ser = g.series(y, 0)\n",
    "g_ser"
   ]
  },
  {
   "cell_type": "code",
   "execution_count": 60,
   "metadata": {},
   "outputs": [
    {
     "data": {
      "image/png": "[encoded data removed]",
      "text/latex": [
       "$\\displaystyle \\frac{125 e^{- 5 a}}{24} + \\frac{8 e^{- 4 a}}{3} + \\frac{3 e^{- 3 a}}{2} + e^{- 2 a} + e^{- a} + O\\left(e^{- 6 a}; a\\rightarrow \\infty\\right)$"
      ],
      "text/plain": [
       "     -5⋅a      -4⋅a      -3⋅a                                \n",
       "125⋅ℯ       8⋅ℯ       3⋅ℯ        -2⋅a    -a    ⎛ -6⋅a       ⎞\n",
       "───────── + ─────── + ─────── + ℯ     + ℯ   + O⎝ℯ    ; a → ∞⎠\n",
       "    24         3         2                                   "
      ]
     },
     "execution_count": 60,
     "metadata": {},
     "output_type": "execute_result"
    }
   ],
   "source": [
    "f_ser = g_ser.subs(y, exp(-a))\n",
    "f_ser"
   ]
  },
  {
   "cell_type": "code",
   "execution_count": 61,
   "metadata": {
    "slideshow": {
     "slide_type": "slide"
    }
   },
   "outputs": [
    {
     "data": {
      "image/png": "[encoded data removed]",
      "text/latex": [
       "$\\displaystyle - \\frac{125 e^{- 5 a}}{24} - \\frac{8 e^{- 4 a}}{3} - \\frac{3 e^{- 3 a}}{2} - e^{- 2 a} - e^{- a} + \\log{\\left(\\frac{125 e^{- 5 a}}{24} + \\frac{8 e^{- 4 a}}{3} + \\frac{3 e^{- 3 a}}{2} + e^{- 2 a} + e^{- a} + O\\left(e^{- 6 a}; a\\rightarrow \\infty\\right) \\right)} + a + O\\left(e^{- 6 a}; a\\rightarrow \\infty\\right)$"
      ],
      "text/plain": [
       "       -5⋅a      -4⋅a      -3⋅a                    ⎛     -5⋅a      -4⋅a      -\n",
       "  125⋅ℯ       8⋅ℯ       3⋅ℯ        -2⋅a    -a      ⎜125⋅ℯ       8⋅ℯ       3⋅ℯ \n",
       "- ───────── - ─────── - ─────── - ℯ     - ℯ   + log⎜───────── + ─────── + ────\n",
       "      24         3         2                       ⎝    24         3         2\n",
       "\n",
       "3⋅a                                ⎞                      \n",
       "       -2⋅a    -a    ⎛ -6⋅a       ⎞⎟        ⎛ -6⋅a       ⎞\n",
       "─── + ℯ     + ℯ   + O⎝ℯ    ; a → ∞⎠⎟ + a + O⎝ℯ    ; a → ∞⎠\n",
       "                                   ⎠                      "
      ]
     },
     "execution_count": 61,
     "metadata": {},
     "output_type": "execute_result"
    }
   ],
   "source": [
    "tmp = (glg.lhs - glg.rhs).subs(x, f_ser)\n",
    "tmp"
   ]
  },
  {
   "cell_type": "code",
   "execution_count": null,
   "metadata": {
    "slideshow": {
     "slide_type": "fragment"
    }
   },
   "outputs": [],
   "source": [
    "#tmp.series(a, oo)  # ValueError"
   ]
  },
  {
   "cell_type": "code",
   "execution_count": 62,
   "metadata": {
    "slideshow": {
     "slide_type": "slide"
    }
   },
   "outputs": [
    {
     "data": {
      "image/png": "[encoded data removed]",
      "text/latex": [
       "$\\displaystyle \\log{\\left(x \\right)} = x + \\log{\\left(y \\right)}$"
      ],
      "text/plain": [
       "log(x) = x + log(y)"
      ]
     },
     "execution_count": 62,
     "metadata": {},
     "output_type": "execute_result"
    }
   ],
   "source": [
    "glg1 = glg.subs(a, -log(y))\n",
    "glg1  "
   ]
  },
  {
   "cell_type": "code",
   "execution_count": 63,
   "metadata": {},
   "outputs": [
    {
     "data": {
      "image/png": "[encoded data removed]",
      "text/latex": [
       "$\\displaystyle - W\\left(- y\\right)$"
      ],
      "text/plain": [
       "-W(-y)"
      ]
     },
     "execution_count": 63,
     "metadata": {},
     "output_type": "execute_result"
    }
   ],
   "source": [
    "lsg1 = solve(glg1, x)\n",
    "f1 = lsg1[0]\n",
    "f1"
   ]
  },
  {
   "cell_type": "code",
   "execution_count": 65,
   "metadata": {
    "slideshow": {
     "slide_type": "slide"
    }
   },
   "outputs": [
    {
     "data": {
      "image/png": "[encoded data removed]",
      "text/latex": [
       "$\\displaystyle y + y^{2} + \\frac{3 y^{3}}{2} + \\frac{8 y^{4}}{3} + \\frac{125 y^{5}}{24} + O\\left(y^{6}\\right)$"
      ],
      "text/plain": [
       "            3      4        5        \n",
       "     2   3⋅y    8⋅y    125⋅y     ⎛ 6⎞\n",
       "y + y  + ──── + ──── + ────── + O⎝y ⎠\n",
       "          2      3       24          "
      ]
     },
     "execution_count": 65,
     "metadata": {},
     "output_type": "execute_result"
    }
   ],
   "source": [
    "f1_ser = f1.series(y, 0)\n",
    "f1_ser"
   ]
  },
  {
   "cell_type": "code",
   "execution_count": 66,
   "metadata": {},
   "outputs": [
    {
     "data": {
      "image/png": "[encoded data removed]",
      "text/latex": [
       "$\\displaystyle O\\left(y^{5}\\right)$"
      ],
      "text/plain": [
       " ⎛ 5⎞\n",
       "O⎝y ⎠"
      ]
     },
     "execution_count": 66,
     "metadata": {},
     "output_type": "execute_result"
    }
   ],
   "source": [
    "(glg1.lhs - glg1.rhs).subs(x, f1_ser).series(y, 0, n=5)"
   ]
  },
  {
   "cell_type": "code",
   "execution_count": null,
   "metadata": {},
   "outputs": [],
   "source": [
    "#(glg1.lhs - glg1.rhs).subs(x, f1_ser).series(y, 0, n=6)  # ValueError"
   ]
  }
 ],
 "metadata": {
  "kernelspec": {
   "display_name": "Python 3",
   "language": "python",
   "name": "python3"
  },
  "language_info": {
   "codemirror_mode": {
    "name": "ipython",
    "version": 3
   },
   "file_extension": ".py",
   "mimetype": "text/x-python",
   "name": "python",
   "nbconvert_exporter": "python",
   "pygments_lexer": "ipython3",
   "version": "3.8.5"
  }
 },
 "nbformat": 4,
 "nbformat_minor": 4
}
