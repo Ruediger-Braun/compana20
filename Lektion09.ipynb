{
 "cells": [
  {
   "cell_type": "markdown",
   "metadata": {},
   "source": [
    "# Computergestützte Mathematik zur Analysis\n",
    "\n",
    "Prof. Dr. Rüdiger Braun\n",
    "\n",
    "Vorlesung vom 07.01.2021"
   ]
  },
  {
   "cell_type": "markdown",
   "metadata": {},
   "source": [
    "# Klausurtermine"
   ]
  },
  {
   "cell_type": "code",
   "execution_count": 1,
   "metadata": {},
   "outputs": [],
   "source": [
    "from sympy import *\n",
    "init_printing()"
   ]
  },
  {
   "cell_type": "markdown",
   "metadata": {},
   "source": [
    "# Lineare Gleichungssysteme"
   ]
  },
  {
   "cell_type": "code",
   "execution_count": 2,
   "metadata": {},
   "outputs": [
    {
     "data": {
      "image/png": "[encoded data removed]",
      "text/latex": [
       "$\\displaystyle \\left[\\begin{matrix}1 & 2 & 3\\\\4 & 5 & 6\\\\7 & 8 & 9\\end{matrix}\\right]$"
      ],
      "text/plain": [
       "⎡1  2  3⎤\n",
       "⎢       ⎥\n",
       "⎢4  5  6⎥\n",
       "⎢       ⎥\n",
       "⎣7  8  9⎦"
      ]
     },
     "execution_count": 2,
     "metadata": {},
     "output_type": "execute_result"
    }
   ],
   "source": [
    "A = Matrix(3,3,range(1,10))\n",
    "A"
   ]
  },
  {
   "cell_type": "code",
   "execution_count": 3,
   "metadata": {},
   "outputs": [
    {
     "data": {
      "image/png": "[encoded data removed]",
      "text/latex": [
       "$\\displaystyle \\left[\\begin{matrix}6\\\\15\\\\24\\end{matrix}\\right]$"
      ],
      "text/plain": [
       "⎡6 ⎤\n",
       "⎢  ⎥\n",
       "⎢15⎥\n",
       "⎢  ⎥\n",
       "⎣24⎦"
      ]
     },
     "execution_count": 3,
     "metadata": {},
     "output_type": "execute_result"
    }
   ],
   "source": [
    "b = Matrix([6,15,24])\n",
    "b"
   ]
  },
  {
   "cell_type": "markdown",
   "metadata": {},
   "source": [
    "Wir wollen $Ax=b$ lösen."
   ]
  },
  {
   "cell_type": "code",
   "execution_count": 4,
   "metadata": {},
   "outputs": [
    {
     "data": {
      "image/png": "[encoded data removed]",
      "text/latex": [
       "$\\displaystyle \\left[\\begin{matrix}x_{1}\\\\x_{2}\\\\x_{3}\\end{matrix}\\right]$"
      ],
      "text/plain": [
       "⎡x₁⎤\n",
       "⎢  ⎥\n",
       "⎢x₂⎥\n",
       "⎢  ⎥\n",
       "⎣x₃⎦"
      ]
     },
     "execution_count": 4,
     "metadata": {},
     "output_type": "execute_result"
    }
   ],
   "source": [
    "x_var = symbols('x1:4')\n",
    "x = Matrix(x_var)\n",
    "x"
   ]
  },
  {
   "cell_type": "code",
   "execution_count": 5,
   "metadata": {},
   "outputs": [
    {
     "data": {
      "image/png": "[encoded data removed]",
      "text/latex": [
       "$\\displaystyle \\left[\\begin{matrix}x_{1} + 2 x_{2} + 3 x_{3}\\\\4 x_{1} + 5 x_{2} + 6 x_{3}\\\\7 x_{1} + 8 x_{2} + 9 x_{3}\\end{matrix}\\right] = \\left[\\begin{matrix}6\\\\15\\\\24\\end{matrix}\\right]$"
      ],
      "text/plain": [
       "⎡ x₁ + 2⋅x₂ + 3⋅x₃ ⎤   ⎡6 ⎤\n",
       "⎢                  ⎥   ⎢  ⎥\n",
       "⎢4⋅x₁ + 5⋅x₂ + 6⋅x₃⎥ = ⎢15⎥\n",
       "⎢                  ⎥   ⎢  ⎥\n",
       "⎣7⋅x₁ + 8⋅x₂ + 9⋅x₃⎦   ⎣24⎦"
      ]
     },
     "execution_count": 5,
     "metadata": {},
     "output_type": "execute_result"
    }
   ],
   "source": [
    "glg = Eq(A*x, b)\n",
    "glg"
   ]
  },
  {
   "cell_type": "code",
   "execution_count": 6,
   "metadata": {},
   "outputs": [
    {
     "data": {
      "image/png": "[encoded data removed]",
      "text/latex": [
       "$\\displaystyle \\left\\{ x_{1} : x_{3}, \\  x_{2} : 3 - 2 x_{3}\\right\\}$"
      ],
      "text/plain": [
       "{x₁: x₃, x₂: 3 - 2⋅x₃}"
      ]
     },
     "execution_count": 6,
     "metadata": {},
     "output_type": "execute_result"
    }
   ],
   "source": [
    "lsg = solve(glg)\n",
    "lsg"
   ]
  },
  {
   "cell_type": "markdown",
   "metadata": {},
   "source": [
    "Also\n",
    "$$\n",
    "\\{ x \\in \\mathbb R^3 \\mid Ax = b \\}\n",
    "= \\left\\{ \\left. \\begin{pmatrix} x_3 \\\\ 3 - 2x_3 \\\\x_3 \\end{pmatrix} \\right| x_3 \\in \\mathbb R \\right\\}.\n",
    "$$"
   ]
  },
  {
   "cell_type": "code",
   "execution_count": 7,
   "metadata": {},
   "outputs": [
    {
     "data": {
      "image/png": "[encoded data removed]",
      "text/latex": [
       "$\\displaystyle 0$"
      ],
      "text/plain": [
       "0"
      ]
     },
     "execution_count": 7,
     "metadata": {},
     "output_type": "execute_result"
    }
   ],
   "source": [
    "A.det()"
   ]
  },
  {
   "cell_type": "markdown",
   "metadata": {},
   "source": [
    "Probe:"
   ]
  },
  {
   "cell_type": "code",
   "execution_count": 8,
   "metadata": {},
   "outputs": [
    {
     "data": {
      "image/png": "[encoded data removed]",
      "text/latex": [
       "$\\displaystyle \\left[\\begin{matrix}x_{3}\\\\3 - 2 x_{3}\\\\x_{3}\\end{matrix}\\right]$"
      ],
      "text/plain": [
       "⎡   x₃   ⎤\n",
       "⎢        ⎥\n",
       "⎢3 - 2⋅x₃⎥\n",
       "⎢        ⎥\n",
       "⎣   x₃   ⎦"
      ]
     },
     "execution_count": 8,
     "metadata": {},
     "output_type": "execute_result"
    }
   ],
   "source": [
    "v = x.subs(lsg)\n",
    "v"
   ]
  },
  {
   "cell_type": "code",
   "execution_count": 9,
   "metadata": {},
   "outputs": [
    {
     "data": {
      "image/png": "[encoded data removed]",
      "text/latex": [
       "$\\displaystyle \\left[\\begin{matrix}0\\\\0\\\\0\\end{matrix}\\right]$"
      ],
      "text/plain": [
       "⎡0⎤\n",
       "⎢ ⎥\n",
       "⎢0⎥\n",
       "⎢ ⎥\n",
       "⎣0⎦"
      ]
     },
     "execution_count": 9,
     "metadata": {},
     "output_type": "execute_result"
    }
   ],
   "source": [
    "A*v - b"
   ]
  },
  {
   "cell_type": "markdown",
   "metadata": {},
   "source": [
    "Konkrete Lösung:"
   ]
  },
  {
   "cell_type": "code",
   "execution_count": 10,
   "metadata": {},
   "outputs": [
    {
     "data": {
      "image/png": "[encoded data removed]",
      "text/latex": [
       "$\\displaystyle \\left[\\begin{matrix}0\\\\3\\\\0\\end{matrix}\\right]$"
      ],
      "text/plain": [
       "⎡0⎤\n",
       "⎢ ⎥\n",
       "⎢3⎥\n",
       "⎢ ⎥\n",
       "⎣0⎦"
      ]
     },
     "execution_count": 10,
     "metadata": {},
     "output_type": "execute_result"
    }
   ],
   "source": [
    "v.subs(x[2], 0)"
   ]
  },
  {
   "cell_type": "markdown",
   "metadata": {},
   "source": [
    "Gleichung ohne Lösung"
   ]
  },
  {
   "cell_type": "code",
   "execution_count": 11,
   "metadata": {},
   "outputs": [
    {
     "data": {
      "image/png": "[encoded data removed]",
      "text/latex": [
       "$\\displaystyle \\left[ \\right]$"
      ],
      "text/plain": [
       "[]"
      ]
     },
     "execution_count": 11,
     "metadata": {},
     "output_type": "execute_result"
    }
   ],
   "source": [
    "b = Matrix([0,2,3])\n",
    "solve(Eq(A*x,b))"
   ]
  },
  {
   "cell_type": "markdown",
   "metadata": {},
   "source": [
    "Kern von~$A$"
   ]
  },
  {
   "cell_type": "code",
   "execution_count": 12,
   "metadata": {},
   "outputs": [
    {
     "data": {
      "image/png": "[encoded data removed]",
      "text/latex": [
       "$\\displaystyle \\text{False}$"
      ],
      "text/plain": [
       "False"
      ]
     },
     "execution_count": 12,
     "metadata": {},
     "output_type": "execute_result"
    }
   ],
   "source": [
    "Eq(A*x, 0)"
   ]
  },
  {
   "cell_type": "code",
   "execution_count": 13,
   "metadata": {},
   "outputs": [
    {
     "data": {
      "image/png": "[encoded data removed]",
      "text/latex": [
       "$\\displaystyle \\left\\{ x_{1} : x_{3}, \\  x_{2} : - 2 x_{3}\\right\\}$"
      ],
      "text/plain": [
       "{x₁: x₃, x₂: -2⋅x₃}"
      ]
     },
     "execution_count": 13,
     "metadata": {},
     "output_type": "execute_result"
    }
   ],
   "source": [
    "solve(A*x, x)"
   ]
  },
  {
   "cell_type": "code",
   "execution_count": 14,
   "metadata": {},
   "outputs": [
    {
     "data": {
      "image/png": "[encoded data removed]",
      "text/latex": [
       "$\\displaystyle \\left[ \\left[\\begin{matrix}1\\\\-2\\\\1\\end{matrix}\\right]\\right]$"
      ],
      "text/plain": [
       "⎡⎡1 ⎤⎤\n",
       "⎢⎢  ⎥⎥\n",
       "⎢⎢-2⎥⎥\n",
       "⎢⎢  ⎥⎥\n",
       "⎣⎣1 ⎦⎦"
      ]
     },
     "execution_count": 14,
     "metadata": {},
     "output_type": "execute_result"
    }
   ],
   "source": [
    "A.nullspace()"
   ]
  },
  {
   "cell_type": "markdown",
   "metadata": {},
   "source": [
    "# EIgenwerte und Eigenvektoren"
   ]
  },
  {
   "cell_type": "code",
   "execution_count": 15,
   "metadata": {},
   "outputs": [
    {
     "data": {
      "image/png": "[encoded data removed]",
      "text/latex": [
       "$\\displaystyle \\left\\{ 0 : 1, \\  \\frac{15}{2} - \\frac{3 \\sqrt{33}}{2} : 1, \\  \\frac{15}{2} + \\frac{3 \\sqrt{33}}{2} : 1\\right\\}$"
      ],
      "text/plain": [
       "⎧      15   3⋅√33     15   3⋅√33   ⎫\n",
       "⎨0: 1, ── - ─────: 1, ── + ─────: 1⎬\n",
       "⎩      2      2       2      2     ⎭"
      ]
     },
     "execution_count": 15,
     "metadata": {},
     "output_type": "execute_result"
    }
   ],
   "source": [
    "A.eigenvals()"
   ]
  },
  {
   "cell_type": "code",
   "execution_count": 16,
   "metadata": {},
   "outputs": [
    {
     "data": {
      "image/png": "[encoded data removed]",
      "text/latex": [
       "$\\displaystyle \\left[ \\left( 0, \\  1, \\  \\left[ \\left[\\begin{matrix}1\\\\-2\\\\1\\end{matrix}\\right]\\right]\\right), \\  \\left( \\frac{15}{2} - \\frac{3 \\sqrt{33}}{2}, \\  1, \\  \\left[ \\left[\\begin{matrix}- \\frac{3 \\sqrt{33}}{22} - \\frac{1}{2}\\\\\\frac{1}{4} - \\frac{3 \\sqrt{33}}{44}\\\\1\\end{matrix}\\right]\\right]\\right), \\  \\left( \\frac{15}{2} + \\frac{3 \\sqrt{33}}{2}, \\  1, \\  \\left[ \\left[\\begin{matrix}- \\frac{1}{2} + \\frac{3 \\sqrt{33}}{22}\\\\\\frac{1}{4} + \\frac{3 \\sqrt{33}}{44}\\\\1\\end{matrix}\\right]\\right]\\right)\\right]$"
      ],
      "text/plain": [
       "⎡                ⎛               ⎡⎡  3⋅√33   1⎤⎤⎞  ⎛               ⎡⎡  1   3⋅√\n",
       "⎢                ⎜               ⎢⎢- ───── - ─⎥⎥⎟  ⎜               ⎢⎢- ─ + ───\n",
       "⎢⎛      ⎡⎡1 ⎤⎤⎞  ⎜               ⎢⎢    22    2⎥⎥⎟  ⎜               ⎢⎢  2     2\n",
       "⎢⎜      ⎢⎢  ⎥⎥⎟  ⎜15   3⋅√33     ⎢⎢           ⎥⎥⎟  ⎜15   3⋅√33     ⎢⎢         \n",
       "⎢⎜0, 1, ⎢⎢-2⎥⎥⎟, ⎜── - ─────, 1, ⎢⎢ 1   3⋅√33 ⎥⎥⎟, ⎜── + ─────, 1, ⎢⎢ 1   3⋅√3\n",
       "⎢⎜      ⎢⎢  ⎥⎥⎟  ⎜2      2       ⎢⎢ ─ - ───── ⎥⎥⎟  ⎜2      2       ⎢⎢ ─ + ────\n",
       "⎢⎝      ⎣⎣1 ⎦⎦⎠  ⎜               ⎢⎢ 4     44  ⎥⎥⎟  ⎜               ⎢⎢ 4     44\n",
       "⎢                ⎜               ⎢⎢           ⎥⎥⎟  ⎜               ⎢⎢         \n",
       "⎣                ⎝               ⎣⎣     1     ⎦⎦⎠  ⎝               ⎣⎣     1   \n",
       "\n",
       "33⎤⎤⎞⎤\n",
       "──⎥⎥⎟⎥\n",
       "2 ⎥⎥⎟⎥\n",
       "  ⎥⎥⎟⎥\n",
       "3 ⎥⎥⎟⎥\n",
       "─ ⎥⎥⎟⎥\n",
       "  ⎥⎥⎟⎥\n",
       "  ⎥⎥⎟⎥\n",
       "  ⎦⎦⎠⎦"
      ]
     },
     "execution_count": 16,
     "metadata": {},
     "output_type": "execute_result"
    }
   ],
   "source": [
    "A.eigenvects(simplify=True)"
   ]
  },
  {
   "cell_type": "code",
   "execution_count": 17,
   "metadata": {},
   "outputs": [
    {
     "data": {
      "image/png": "[encoded data removed]",
      "text/latex": [
       "$\\displaystyle \\left[ \\left( 0, \\  2, \\  \\left[ \\left[\\begin{matrix}0\\\\1\\\\0\\end{matrix}\\right], \\  \\left[\\begin{matrix}0\\\\0\\\\1\\end{matrix}\\right]\\right]\\right), \\  \\left( 1, \\  1, \\  \\left[ \\left[\\begin{matrix}1\\\\0\\\\0\\end{matrix}\\right]\\right]\\right)\\right]$"
      ],
      "text/plain": [
       "⎡⎛      ⎡⎡0⎤  ⎡0⎤⎤⎞  ⎛      ⎡⎡1⎤⎤⎞⎤\n",
       "⎢⎜      ⎢⎢ ⎥  ⎢ ⎥⎥⎟  ⎜      ⎢⎢ ⎥⎥⎟⎥\n",
       "⎢⎜0, 2, ⎢⎢1⎥, ⎢0⎥⎥⎟, ⎜1, 1, ⎢⎢0⎥⎥⎟⎥\n",
       "⎢⎜      ⎢⎢ ⎥  ⎢ ⎥⎥⎟  ⎜      ⎢⎢ ⎥⎥⎟⎥\n",
       "⎣⎝      ⎣⎣0⎦  ⎣1⎦⎦⎠  ⎝      ⎣⎣0⎦⎦⎠⎦"
      ]
     },
     "execution_count": 17,
     "metadata": {},
     "output_type": "execute_result"
    }
   ],
   "source": [
    "B = Matrix(3,3,[1,0,0,0,0,0,0,0,0])\n",
    "B.eigenvects()"
   ]
  },
  {
   "cell_type": "markdown",
   "metadata": {},
   "source": [
    "Für jeden Eigenwert ein Tripel aus Eigenwert, arithmetischer Vielfachheit und Basis des Eigenraums"
   ]
  },
  {
   "cell_type": "code",
   "execution_count": 18,
   "metadata": {},
   "outputs": [
    {
     "data": {
      "image/png": "[encoded data removed]",
      "text/latex": [
       "$\\displaystyle \\left[\\begin{matrix}0 & 1 & 0\\\\0 & 0 & 0\\\\0 & 0 & 0\\end{matrix}\\right]$"
      ],
      "text/plain": [
       "⎡0  1  0⎤\n",
       "⎢       ⎥\n",
       "⎢0  0  0⎥\n",
       "⎢       ⎥\n",
       "⎣0  0  0⎦"
      ]
     },
     "execution_count": 18,
     "metadata": {},
     "output_type": "execute_result"
    }
   ],
   "source": [
    "J = Matrix(3,3,[0,1,0,0,0,0,0,0,0])\n",
    "J"
   ]
  },
  {
   "cell_type": "code",
   "execution_count": 19,
   "metadata": {},
   "outputs": [
    {
     "data": {
      "image/png": "[encoded data removed]",
      "text/latex": [
       "$\\displaystyle \\left[ \\left( 0, \\  3, \\  \\left[ \\left[\\begin{matrix}1\\\\0\\\\0\\end{matrix}\\right], \\  \\left[\\begin{matrix}0\\\\0\\\\1\\end{matrix}\\right]\\right]\\right)\\right]$"
      ],
      "text/plain": [
       "⎡⎛      ⎡⎡1⎤  ⎡0⎤⎤⎞⎤\n",
       "⎢⎜      ⎢⎢ ⎥  ⎢ ⎥⎥⎟⎥\n",
       "⎢⎜0, 3, ⎢⎢0⎥, ⎢0⎥⎥⎟⎥\n",
       "⎢⎜      ⎢⎢ ⎥  ⎢ ⎥⎥⎟⎥\n",
       "⎣⎝      ⎣⎣0⎦  ⎣1⎦⎦⎠⎦"
      ]
     },
     "execution_count": 19,
     "metadata": {},
     "output_type": "execute_result"
    }
   ],
   "source": [
    "J.eigenvects()"
   ]
  },
  {
   "cell_type": "markdown",
   "metadata": {},
   "source": [
    "arithmetische Vielfachheit $>$ geometrische Vielfacheit $\\Longrightarrow$ Matrix nicht diagonalisierbar"
   ]
  },
  {
   "cell_type": "markdown",
   "metadata": {},
   "source": [
    "# Jordanform"
   ]
  },
  {
   "cell_type": "code",
   "execution_count": 20,
   "metadata": {},
   "outputs": [
    {
     "data": {
      "image/png": "[encoded data removed]",
      "text/latex": [
       "$\\displaystyle \\left[\\begin{matrix}-4 & -2 & -3\\\\5 & 3 & 3\\\\5 & 2 & 4\\end{matrix}\\right]$"
      ],
      "text/plain": [
       "⎡-4  -2  -3⎤\n",
       "⎢          ⎥\n",
       "⎢5   3   3 ⎥\n",
       "⎢          ⎥\n",
       "⎣5   2   4 ⎦"
      ]
     },
     "execution_count": 20,
     "metadata": {},
     "output_type": "execute_result"
    }
   ],
   "source": [
    "C = Matrix(3, 3, [-4, -2, -3, 5, 3, 3, 5, 2, 4])\n",
    "C"
   ]
  },
  {
   "cell_type": "code",
   "execution_count": 21,
   "metadata": {},
   "outputs": [
    {
     "data": {
      "image/png": "[encoded data removed]",
      "text/latex": [
       "$\\displaystyle \\left[ \\left( 1, \\  3, \\  \\left[ \\left[\\begin{matrix}- \\frac{2}{5}\\\\1\\\\0\\end{matrix}\\right], \\  \\left[\\begin{matrix}- \\frac{3}{5}\\\\0\\\\1\\end{matrix}\\right]\\right]\\right)\\right]$"
      ],
      "text/plain": [
       "⎡⎛      ⎡⎡-2/5⎤  ⎡-3/5⎤⎤⎞⎤\n",
       "⎢⎜      ⎢⎢    ⎥  ⎢    ⎥⎥⎟⎥\n",
       "⎢⎜1, 3, ⎢⎢ 1  ⎥, ⎢ 0  ⎥⎥⎟⎥\n",
       "⎢⎜      ⎢⎢    ⎥  ⎢    ⎥⎥⎟⎥\n",
       "⎣⎝      ⎣⎣ 0  ⎦  ⎣ 1  ⎦⎦⎠⎦"
      ]
     },
     "execution_count": 21,
     "metadata": {},
     "output_type": "execute_result"
    }
   ],
   "source": [
    "C.eigenvects()"
   ]
  },
  {
   "cell_type": "code",
   "execution_count": 22,
   "metadata": {},
   "outputs": [
    {
     "data": {
      "image/png": "[encoded data removed]",
      "text/latex": [
       "$\\displaystyle \\left( \\left[\\begin{matrix}-5 & 1 & - \\frac{2}{5}\\\\5 & 0 & 1\\\\5 & 0 & 0\\end{matrix}\\right], \\  \\left[\\begin{matrix}1 & 1 & 0\\\\0 & 1 & 0\\\\0 & 0 & 1\\end{matrix}\\right]\\right)$"
      ],
      "text/plain": [
       "⎛⎡-5  1  -2/5⎤  ⎡1  1  0⎤⎞\n",
       "⎜⎢           ⎥  ⎢       ⎥⎟\n",
       "⎜⎢5   0   1  ⎥, ⎢0  1  0⎥⎟\n",
       "⎜⎢           ⎥  ⎢       ⎥⎟\n",
       "⎝⎣5   0   0  ⎦  ⎣0  0  1⎦⎠"
      ]
     },
     "execution_count": 22,
     "metadata": {},
     "output_type": "execute_result"
    }
   ],
   "source": [
    "T, J = C.jordan_form()\n",
    "T, J"
   ]
  },
  {
   "cell_type": "code",
   "execution_count": 23,
   "metadata": {},
   "outputs": [
    {
     "data": {
      "text/plain": [
       "True"
      ]
     },
     "execution_count": 23,
     "metadata": {},
     "output_type": "execute_result"
    }
   ],
   "source": [
    "T*J*T**(-1) == C"
   ]
  },
  {
   "cell_type": "markdown",
   "metadata": {},
   "source": [
    "Die Jordansche Normalform hängt unstetig von den Daten ab"
   ]
  },
  {
   "cell_type": "code",
   "execution_count": 24,
   "metadata": {},
   "outputs": [
    {
     "data": {
      "image/png": "[encoded data removed]",
      "text/latex": [
       "$\\displaystyle \\left[\\begin{matrix}\\delta - 4 & -2 & -3\\\\5 & 3 & 3\\\\5 & 2 & 4\\end{matrix}\\right]$"
      ],
      "text/plain": [
       "⎡δ - 4  -2  -3⎤\n",
       "⎢             ⎥\n",
       "⎢  5    3   3 ⎥\n",
       "⎢             ⎥\n",
       "⎣  5    2   4 ⎦"
      ]
     },
     "execution_count": 24,
     "metadata": {},
     "output_type": "execute_result"
    }
   ],
   "source": [
    "delta = Symbol('delta')\n",
    "C[0,0] += delta\n",
    "C"
   ]
  },
  {
   "cell_type": "code",
   "execution_count": 25,
   "metadata": {},
   "outputs": [
    {
     "data": {
      "image/png": "[encoded data removed]",
      "text/latex": [
       "$\\displaystyle \\left[\\begin{matrix}1 & 0 & 0\\\\0 & \\frac{\\delta}{2} - \\frac{\\sqrt{\\delta^{2} - 20 \\delta}}{2} + 1 & 0\\\\0 & 0 & \\frac{\\delta}{2} + \\frac{\\sqrt{\\delta^{2} - 20 \\delta}}{2} + 1\\end{matrix}\\right]$"
      ],
      "text/plain": [
       "⎡1            0                       0           ⎤\n",
       "⎢                                                 ⎥\n",
       "⎢          ___________                            ⎥\n",
       "⎢         ╱  2                                    ⎥\n",
       "⎢   δ   ╲╱  δ  - 20⋅δ                             ⎥\n",
       "⎢0  ─ - ────────────── + 1            0           ⎥\n",
       "⎢   2         2                                   ⎥\n",
       "⎢                                                 ⎥\n",
       "⎢                                  ___________    ⎥\n",
       "⎢                                 ╱  2            ⎥\n",
       "⎢                           δ   ╲╱  δ  - 20⋅δ     ⎥\n",
       "⎢0            0             ─ + ────────────── + 1⎥\n",
       "⎣                           2         2           ⎦"
      ]
     },
     "execution_count": 25,
     "metadata": {},
     "output_type": "execute_result"
    }
   ],
   "source": [
    "Te, Je = C.jordan_form()\n",
    "Je"
   ]
  },
  {
   "cell_type": "code",
   "execution_count": 26,
   "metadata": {},
   "outputs": [
    {
     "data": {
      "image/png": "[encoded data removed]",
      "text/latex": [
       "$\\displaystyle \\left[\\begin{matrix}1 & 0 & 0\\\\0 & 1 & 0\\\\0 & 0 & 1\\end{matrix}\\right]$"
      ],
      "text/plain": [
       "⎡1  0  0⎤\n",
       "⎢       ⎥\n",
       "⎢0  1  0⎥\n",
       "⎢       ⎥\n",
       "⎣0  0  1⎦"
      ]
     },
     "execution_count": 26,
     "metadata": {},
     "output_type": "execute_result"
    }
   ],
   "source": [
    "Je.limit(delta, 0)"
   ]
  },
  {
   "cell_type": "code",
   "execution_count": 27,
   "metadata": {},
   "outputs": [
    {
     "data": {
      "image/png": "[encoded data removed]",
      "text/latex": [
       "$\\displaystyle \\left[\\begin{matrix}0 & -1 & 0\\\\0 & 0 & 0\\\\0 & 0 & 0\\end{matrix}\\right]$"
      ],
      "text/plain": [
       "⎡0  -1  0⎤\n",
       "⎢        ⎥\n",
       "⎢0  0   0⎥\n",
       "⎢        ⎥\n",
       "⎣0  0   0⎦"
      ]
     },
     "execution_count": 27,
     "metadata": {},
     "output_type": "execute_result"
    }
   ],
   "source": [
    "Je.limit(delta, 0) - J"
   ]
  },
  {
   "cell_type": "markdown",
   "metadata": {},
   "source": [
    "# Normen von Vektoren und Matrizen"
   ]
  },
  {
   "cell_type": "code",
   "execution_count": 28,
   "metadata": {},
   "outputs": [
    {
     "data": {
      "image/png": "[encoded data removed]",
      "text/latex": [
       "$\\displaystyle \\sqrt{14}$"
      ],
      "text/plain": [
       "√14"
      ]
     },
     "execution_count": 28,
     "metadata": {},
     "output_type": "execute_result"
    }
   ],
   "source": [
    "v = Matrix([1,2,3])\n",
    "v.norm()"
   ]
  },
  {
   "cell_type": "code",
   "execution_count": 29,
   "metadata": {},
   "outputs": [
    {
     "data": {
      "image/png": "[encoded data removed]",
      "text/latex": [
       "$\\displaystyle \\sqrt{14}$"
      ],
      "text/plain": [
       "√14"
      ]
     },
     "execution_count": 29,
     "metadata": {},
     "output_type": "execute_result"
    }
   ],
   "source": [
    "sqrt(v[0]**2 + v[1]**2 + v[2]**2)"
   ]
  },
  {
   "cell_type": "code",
   "execution_count": 30,
   "metadata": {},
   "outputs": [
    {
     "data": {
      "image/png": "[encoded data removed]",
      "text/latex": [
       "$\\displaystyle 3$"
      ],
      "text/plain": [
       "3"
      ]
     },
     "execution_count": 30,
     "metadata": {},
     "output_type": "execute_result"
    }
   ],
   "source": [
    "v.norm(oo)"
   ]
  },
  {
   "cell_type": "code",
   "execution_count": 31,
   "metadata": {},
   "outputs": [
    {
     "data": {
      "image/png": "[encoded data removed]",
      "text/latex": [
       "$\\displaystyle 6$"
      ],
      "text/plain": [
       "6"
      ]
     },
     "execution_count": 31,
     "metadata": {},
     "output_type": "execute_result"
    }
   ],
   "source": [
    "v.norm(1)"
   ]
  },
  {
   "cell_type": "code",
   "execution_count": 32,
   "metadata": {},
   "outputs": [
    {
     "data": {
      "image/png": "[encoded data removed]",
      "text/latex": [
       "$\\displaystyle \\sqrt{14}$"
      ],
      "text/plain": [
       "√14"
      ]
     },
     "execution_count": 32,
     "metadata": {},
     "output_type": "execute_result"
    }
   ],
   "source": [
    "v.norm(2)"
   ]
  },
  {
   "cell_type": "code",
   "execution_count": 33,
   "metadata": {},
   "outputs": [
    {
     "data": {
      "image/png": "[encoded data removed]",
      "text/latex": [
       "$\\displaystyle \\left[\\begin{matrix}1 & 2 & 3\\\\4 & 5 & 6\\\\7 & 8 & 9\\end{matrix}\\right]$"
      ],
      "text/plain": [
       "⎡1  2  3⎤\n",
       "⎢       ⎥\n",
       "⎢4  5  6⎥\n",
       "⎢       ⎥\n",
       "⎣7  8  9⎦"
      ]
     },
     "execution_count": 33,
     "metadata": {},
     "output_type": "execute_result"
    }
   ],
   "source": [
    "A"
   ]
  },
  {
   "cell_type": "code",
   "execution_count": 34,
   "metadata": {},
   "outputs": [
    {
     "data": {
      "image/png": "[encoded data removed]",
      "text/latex": [
       "$\\displaystyle \\sqrt{285}$"
      ],
      "text/plain": [
       "√285"
      ]
     },
     "execution_count": 34,
     "metadata": {},
     "output_type": "execute_result"
    }
   ],
   "source": [
    "A.norm()"
   ]
  },
  {
   "cell_type": "code",
   "execution_count": 35,
   "metadata": {},
   "outputs": [
    {
     "data": {
      "image/png": "[encoded data removed]",
      "text/latex": [
       "$\\displaystyle \\left[\\begin{matrix}a & b\\\\c & d\\end{matrix}\\right]$"
      ],
      "text/plain": [
       "⎡a  b⎤\n",
       "⎢    ⎥\n",
       "⎣c  d⎦"
      ]
     },
     "execution_count": 35,
     "metadata": {},
     "output_type": "execute_result"
    }
   ],
   "source": [
    "a,b,c,d = symbols('a b c d')\n",
    "M = Matrix(2,2,[a,b,c,d])\n",
    "M"
   ]
  },
  {
   "cell_type": "code",
   "execution_count": 36,
   "metadata": {},
   "outputs": [
    {
     "data": {
      "image/png": "[encoded data removed]",
      "text/latex": [
       "$\\displaystyle \\sqrt{\\left|{a}\\right|^{2} + \\left|{b}\\right|^{2} + \\left|{c}\\right|^{2} + \\left|{d}\\right|^{2}}$"
      ],
      "text/plain": [
       "   ___________________________\n",
       "  ╱    2      2      2      2 \n",
       "╲╱  │a│  + │b│  + │c│  + │d│  "
      ]
     },
     "execution_count": 36,
     "metadata": {},
     "output_type": "execute_result"
    }
   ],
   "source": [
    "M.norm()"
   ]
  },
  {
   "cell_type": "markdown",
   "metadata": {},
   "source": [
    "DieFrobeniusnorm ist keine Matrixnorm, sie ist aber submultiplikativ, erfüllt also $\\left\\Vert AB \\right\\Vert \\le \\left\\Vert A \\right\\Vert \\left\\Vert B \\right\\Vert $."
   ]
  },
  {
   "cell_type": "code",
   "execution_count": 37,
   "metadata": {},
   "outputs": [
    {
     "data": {
      "image/png": "[encoded data removed]",
      "text/latex": [
       "$\\displaystyle \\sqrt{\\frac{3 \\sqrt{8881}}{2} + \\frac{285}{2}}$"
      ],
      "text/plain": [
       "    _______________\n",
       "   ╱ 3⋅√8881   285 \n",
       "  ╱  ─────── + ─── \n",
       "╲╱      2       2  "
      ]
     },
     "execution_count": 37,
     "metadata": {},
     "output_type": "execute_result"
    }
   ],
   "source": [
    "A.norm(2)"
   ]
  },
  {
   "cell_type": "code",
   "execution_count": 38,
   "metadata": {},
   "outputs": [
    {
     "data": {
      "image/png": "[encoded data removed]",
      "text/latex": [
       "$\\displaystyle \\left[\\begin{matrix}66 & 78 & 90\\\\78 & 93 & 108\\\\90 & 108 & 126\\end{matrix}\\right]$"
      ],
      "text/plain": [
       "⎡66  78   90 ⎤\n",
       "⎢            ⎥\n",
       "⎢78  93   108⎥\n",
       "⎢            ⎥\n",
       "⎣90  108  126⎦"
      ]
     },
     "execution_count": 38,
     "metadata": {},
     "output_type": "execute_result"
    }
   ],
   "source": [
    "B = A.T*A\n",
    "B"
   ]
  },
  {
   "cell_type": "code",
   "execution_count": 39,
   "metadata": {},
   "outputs": [
    {
     "data": {
      "image/png": "[encoded data removed]",
      "text/latex": [
       "$\\displaystyle \\left\\{ 0 : 1, \\  \\frac{285}{2} - \\frac{3 \\sqrt{8881}}{2} : 1, \\  \\frac{3 \\sqrt{8881}}{2} + \\frac{285}{2} : 1\\right\\}$"
      ],
      "text/plain": [
       "⎧      285   3⋅√8881     3⋅√8881   285   ⎫\n",
       "⎨0: 1, ─── - ───────: 1, ─────── + ───: 1⎬\n",
       "⎩       2       2           2       2    ⎭"
      ]
     },
     "execution_count": 39,
     "metadata": {},
     "output_type": "execute_result"
    }
   ],
   "source": [
    "B.eigenvals()"
   ]
  },
  {
   "cell_type": "markdown",
   "metadata": {},
   "source": [
    "# Vektoranalysis"
   ]
  },
  {
   "cell_type": "code",
   "execution_count": 40,
   "metadata": {},
   "outputs": [],
   "source": [
    "x, y, z = symbols('x y z')\n",
    "variablen = [x,y,z]"
   ]
  },
  {
   "cell_type": "code",
   "execution_count": 41,
   "metadata": {},
   "outputs": [
    {
     "data": {
      "image/png": "[encoded data removed]",
      "text/latex": [
       "$\\displaystyle e^{x^{2} + 2 y^{2} + 3 z^{2}}$"
      ],
      "text/plain": [
       "  2      2      2\n",
       " x  + 2⋅y  + 3⋅z \n",
       "ℯ                "
      ]
     },
     "execution_count": 41,
     "metadata": {},
     "output_type": "execute_result"
    }
   ],
   "source": [
    "f = exp(x**2 + 2*y**2 + 3*z**2)\n",
    "f"
   ]
  },
  {
   "cell_type": "code",
   "execution_count": 42,
   "metadata": {},
   "outputs": [
    {
     "data": {
      "image/png": "[encoded data removed]",
      "text/latex": [
       "$\\displaystyle \\left[\\begin{matrix}2 x e^{x^{2} + 2 y^{2} + 3 z^{2}} & 4 y e^{x^{2} + 2 y^{2} + 3 z^{2}} & 6 z e^{x^{2} + 2 y^{2} + 3 z^{2}}\\end{matrix}\\right]$"
      ],
      "text/plain": [
       "⎡      2      2      2        2      2      2        2      2      2⎤\n",
       "⎢     x  + 2⋅y  + 3⋅z        x  + 2⋅y  + 3⋅z        x  + 2⋅y  + 3⋅z ⎥\n",
       "⎣2⋅x⋅ℯ                  4⋅y⋅ℯ                  6⋅z⋅ℯ                ⎦"
      ]
     },
     "execution_count": 42,
     "metadata": {},
     "output_type": "execute_result"
    }
   ],
   "source": [
    "J = Matrix([f]).jacobian(variablen)\n",
    "J"
   ]
  },
  {
   "cell_type": "markdown",
   "metadata": {},
   "source": [
    "Das ist der Gardient, wobei machen Leute den Gradienten als Spaltenvektor schreiben"
   ]
  },
  {
   "cell_type": "code",
   "execution_count": 43,
   "metadata": {},
   "outputs": [
    {
     "data": {
      "image/png": "[encoded data removed]",
      "text/latex": [
       "$\\displaystyle \\left[\\begin{matrix}2 x e^{x^{2} + 2 y^{2} + 3 z^{2}}\\\\4 y e^{x^{2} + 2 y^{2} + 3 z^{2}}\\\\6 z e^{x^{2} + 2 y^{2} + 3 z^{2}}\\end{matrix}\\right]$"
      ],
      "text/plain": [
       "⎡      2      2      2⎤\n",
       "⎢     x  + 2⋅y  + 3⋅z ⎥\n",
       "⎢2⋅x⋅ℯ                ⎥\n",
       "⎢                     ⎥\n",
       "⎢      2      2      2⎥\n",
       "⎢     x  + 2⋅y  + 3⋅z ⎥\n",
       "⎢4⋅y⋅ℯ                ⎥\n",
       "⎢                     ⎥\n",
       "⎢      2      2      2⎥\n",
       "⎢     x  + 2⋅y  + 3⋅z ⎥\n",
       "⎣6⋅z⋅ℯ                ⎦"
      ]
     },
     "execution_count": 43,
     "metadata": {},
     "output_type": "execute_result"
    }
   ],
   "source": [
    "nabla_f = Matrix([f]).jacobian(variablen).T\n",
    "nabla_f"
   ]
  },
  {
   "cell_type": "code",
   "execution_count": 44,
   "metadata": {},
   "outputs": [
    {
     "data": {
      "image/png": "[encoded data removed]",
      "text/latex": [
       "$\\displaystyle \\left[\\begin{matrix}2 x e^{x^{2} + 2 y^{2} + 3 z^{2}} & 4 y e^{x^{2} + 2 y^{2} + 3 z^{2}} & 6 z e^{x^{2} + 2 y^{2} + 3 z^{2}}\\\\4 x e^{2 x^{2} + 4 y^{2} + 6 z^{2}} & 8 y e^{2 x^{2} + 4 y^{2} + 6 z^{2}} & 12 z e^{2 x^{2} + 4 y^{2} + 6 z^{2}}\\\\6 x e^{3 x^{2} + 6 y^{2} + 9 z^{2}} & 12 y e^{3 x^{2} + 6 y^{2} + 9 z^{2}} & 18 z e^{3 x^{2} + 6 y^{2} + 9 z^{2}}\\end{matrix}\\right]$"
      ],
      "text/plain": [
       "⎡       2      2      2          2      2      2           2      2      2  ⎤\n",
       "⎢      x  + 2⋅y  + 3⋅z          x  + 2⋅y  + 3⋅z           x  + 2⋅y  + 3⋅z   ⎥\n",
       "⎢ 2⋅x⋅ℯ                    4⋅y⋅ℯ                     6⋅z⋅ℯ                  ⎥\n",
       "⎢                                                                           ⎥\n",
       "⎢        2      2      2          2      2      2            2      2      2⎥\n",
       "⎢     2⋅x  + 4⋅y  + 6⋅z        2⋅x  + 4⋅y  + 6⋅z          2⋅x  + 4⋅y  + 6⋅z ⎥\n",
       "⎢4⋅x⋅ℯ                    8⋅y⋅ℯ                     12⋅z⋅ℯ                  ⎥\n",
       "⎢                                                                           ⎥\n",
       "⎢        2      2      2           2      2      2           2      2      2⎥\n",
       "⎢     3⋅x  + 6⋅y  + 9⋅z         3⋅x  + 6⋅y  + 9⋅z         3⋅x  + 6⋅y  + 9⋅z ⎥\n",
       "⎣6⋅x⋅ℯ                    12⋅y⋅ℯ                    18⋅z⋅ℯ                  ⎦"
      ]
     },
     "execution_count": 44,
     "metadata": {},
     "output_type": "execute_result"
    }
   ],
   "source": [
    "A = Matrix([f, f**2, f**3])\n",
    "A.jacobian(variablen)"
   ]
  },
  {
   "cell_type": "markdown",
   "metadata": {},
   "source": [
    "Jacobi-Matrix"
   ]
  },
  {
   "cell_type": "code",
   "execution_count": 45,
   "metadata": {},
   "outputs": [
    {
     "data": {
      "image/png": "[encoded data removed]",
      "text/latex": [
       "$\\displaystyle \\left[\\begin{matrix}4 x^{2} e^{x^{2} + 2 y^{2} + 3 z^{2}} + 2 e^{x^{2} + 2 y^{2} + 3 z^{2}} & 8 x y e^{x^{2} + 2 y^{2} + 3 z^{2}} & 12 x z e^{x^{2} + 2 y^{2} + 3 z^{2}}\\\\8 x y e^{x^{2} + 2 y^{2} + 3 z^{2}} & 16 y^{2} e^{x^{2} + 2 y^{2} + 3 z^{2}} + 4 e^{x^{2} + 2 y^{2} + 3 z^{2}} & 24 y z e^{x^{2} + 2 y^{2} + 3 z^{2}}\\\\12 x z e^{x^{2} + 2 y^{2} + 3 z^{2}} & 24 y z e^{x^{2} + 2 y^{2} + 3 z^{2}} & 36 z^{2} e^{x^{2} + 2 y^{2} + 3 z^{2}} + 6 e^{x^{2} + 2 y^{2} + 3 z^{2}}\\end{matrix}\\right]$"
      ],
      "text/plain": [
       "⎡       2      2      2       2      2      2                     2      2    \n",
       "⎢   2  x  + 2⋅y  + 3⋅z       x  + 2⋅y  + 3⋅z                     x  + 2⋅y  + 3\n",
       "⎢4⋅x ⋅ℯ                 + 2⋅ℯ                             8⋅x⋅y⋅ℯ             \n",
       "⎢                                                                             \n",
       "⎢                  2      2      2                     2      2      2       2\n",
       "⎢                 x  + 2⋅y  + 3⋅z                  2  x  + 2⋅y  + 3⋅z       x \n",
       "⎢          8⋅x⋅y⋅ℯ                             16⋅y ⋅ℯ                 + 4⋅ℯ  \n",
       "⎢                                                                             \n",
       "⎢                   2      2      2                               2      2    \n",
       "⎢                  x  + 2⋅y  + 3⋅z                               x  + 2⋅y  + 3\n",
       "⎣          12⋅x⋅z⋅ℯ                                      24⋅y⋅z⋅ℯ             \n",
       "\n",
       "  2                                2      2      2           ⎤\n",
       "⋅z                                x  + 2⋅y  + 3⋅z            ⎥\n",
       "                          12⋅x⋅z⋅ℯ                           ⎥\n",
       "                                                             ⎥\n",
       "      2      2                     2      2      2           ⎥\n",
       " + 2⋅y  + 3⋅z                     x  + 2⋅y  + 3⋅z            ⎥\n",
       "                          24⋅y⋅z⋅ℯ                           ⎥\n",
       "                                                             ⎥\n",
       "  2                     2      2      2       2      2      2⎥\n",
       "⋅z                  2  x  + 2⋅y  + 3⋅z       x  + 2⋅y  + 3⋅z ⎥\n",
       "                36⋅z ⋅ℯ                 + 6⋅ℯ                ⎦"
      ]
     },
     "execution_count": 45,
     "metadata": {},
     "output_type": "execute_result"
    }
   ],
   "source": [
    "H = hessian(f, variablen)\n",
    "H"
   ]
  },
  {
   "cell_type": "markdown",
   "metadata": {},
   "source": [
    "Hesse-Matrix"
   ]
  },
  {
   "cell_type": "code",
   "execution_count": 46,
   "metadata": {},
   "outputs": [
    {
     "data": {
      "text/plain": [
       "True"
      ]
     },
     "execution_count": 46,
     "metadata": {},
     "output_type": "execute_result"
    }
   ],
   "source": [
    "H == H.T"
   ]
  },
  {
   "cell_type": "markdown",
   "metadata": {},
   "source": [
    "Hurwitz-Kriterium"
   ]
  },
  {
   "cell_type": "markdown",
   "metadata": {},
   "source": [
    "* $M$ ist genau dann positiv definit, wenn alle Unterdeterminanten entlang der Hauptdiagonale positiv sind.\n",
    "* $M$ ist genau dann negativ definit, wenn die geraden Unterdeterminanten positiv und die ungeraden negativ sind.\n",
    "* Wenn eine gerade Unterdeterminante negativ ist, dann ist $M$ indefinit."
   ]
  },
  {
   "cell_type": "code",
   "execution_count": 47,
   "metadata": {},
   "outputs": [
    {
     "data": {
      "image/png": "[encoded data removed]",
      "text/latex": [
       "$\\displaystyle \\left[\\begin{matrix}6 e^{4} & 0 & - 12 e^{4}\\\\0 & 4 e^{4} & 0\\\\- 12 e^{4} & 0 & 42 e^{4}\\end{matrix}\\right]$"
      ],
      "text/plain": [
       "⎡    4              4⎤\n",
       "⎢ 6⋅ℯ     0    -12⋅ℯ ⎥\n",
       "⎢                    ⎥\n",
       "⎢           4        ⎥\n",
       "⎢  0     4⋅ℯ     0   ⎥\n",
       "⎢                    ⎥\n",
       "⎢     4            4 ⎥\n",
       "⎣-12⋅ℯ    0    42⋅ℯ  ⎦"
      ]
     },
     "execution_count": 47,
     "metadata": {},
     "output_type": "execute_result"
    }
   ],
   "source": [
    "H1 = H.subs({x:1, y:0, z:-1})\n",
    "H1"
   ]
  },
  {
   "cell_type": "code",
   "execution_count": 48,
   "metadata": {},
   "outputs": [
    {
     "data": {
      "image/png": "[encoded data removed]",
      "text/latex": [
       "$\\displaystyle 6 e^{4}$"
      ],
      "text/plain": [
       "   4\n",
       "6⋅ℯ "
      ]
     },
     "metadata": {},
     "output_type": "display_data"
    },
    {
     "data": {
      "image/png": "[encoded data removed]",
      "text/latex": [
       "$\\displaystyle 24 e^{8}$"
      ],
      "text/plain": [
       "    8\n",
       "24⋅ℯ "
      ]
     },
     "metadata": {},
     "output_type": "display_data"
    },
    {
     "data": {
      "image/png": "[encoded data removed]",
      "text/latex": [
       "$\\displaystyle 432 e^{12}$"
      ],
      "text/plain": [
       "     12\n",
       "432⋅ℯ  "
      ]
     },
     "metadata": {},
     "output_type": "display_data"
    }
   ],
   "source": [
    "for j in range(len(H1[0,:])):\n",
    "    minor = H1[:j+1, :j+1]\n",
    "    display(minor.det())"
   ]
  },
  {
   "cell_type": "markdown",
   "metadata": {},
   "source": [
    "Also positive definit"
   ]
  },
  {
   "cell_type": "code",
   "execution_count": 49,
   "metadata": {},
   "outputs": [
    {
     "data": {
      "image/png": "[encoded data removed]",
      "text/latex": [
       "$\\displaystyle - 6 e^{4}$"
      ],
      "text/plain": [
       "    4\n",
       "-6⋅ℯ "
      ]
     },
     "metadata": {},
     "output_type": "display_data"
    },
    {
     "data": {
      "image/png": "[encoded data removed]",
      "text/latex": [
       "$\\displaystyle 24 e^{8}$"
      ],
      "text/plain": [
       "    8\n",
       "24⋅ℯ "
      ]
     },
     "metadata": {},
     "output_type": "display_data"
    },
    {
     "data": {
      "image/png": "[encoded data removed]",
      "text/latex": [
       "$\\displaystyle - 432 e^{12}$"
      ],
      "text/plain": [
       "      12\n",
       "-432⋅ℯ  "
      ]
     },
     "metadata": {},
     "output_type": "display_data"
    }
   ],
   "source": [
    "H2 = -H1\n",
    "for j in range(len(H2[0,:])):\n",
    "    minor = H2[:j+1, :j+1]\n",
    "    display(minor.det())"
   ]
  },
  {
   "cell_type": "markdown",
   "metadata": {},
   "source": [
    "Wenn eine Unterdeterminante gerader Ordnung negativ ist, dann ist die Matrix indefinit. Notwendig ist dieses Kriterium aber nicht:"
   ]
  },
  {
   "cell_type": "code",
   "execution_count": 50,
   "metadata": {},
   "outputs": [
    {
     "data": {
      "image/png": "[encoded data removed]",
      "text/latex": [
       "$\\displaystyle \\left[\\begin{matrix}0 & 0 & 1\\\\0 & 2 & 0\\\\1 & 0 & 0\\end{matrix}\\right]$"
      ],
      "text/plain": [
       "⎡0  0  1⎤\n",
       "⎢       ⎥\n",
       "⎢0  2  0⎥\n",
       "⎢       ⎥\n",
       "⎣1  0  0⎦"
      ]
     },
     "execution_count": 50,
     "metadata": {},
     "output_type": "execute_result"
    }
   ],
   "source": [
    "M = Matrix(3,3,[0,0,1,0,2,0,1,0,0])\n",
    "M"
   ]
  },
  {
   "cell_type": "code",
   "execution_count": 51,
   "metadata": {},
   "outputs": [
    {
     "data": {
      "image/png": "[encoded data removed]",
      "text/latex": [
       "$\\displaystyle 0$"
      ],
      "text/plain": [
       "0"
      ]
     },
     "metadata": {},
     "output_type": "display_data"
    },
    {
     "data": {
      "image/png": "[encoded data removed]",
      "text/latex": [
       "$\\displaystyle 0$"
      ],
      "text/plain": [
       "0"
      ]
     },
     "metadata": {},
     "output_type": "display_data"
    },
    {
     "data": {
      "image/png": "[encoded data removed]",
      "text/latex": [
       "$\\displaystyle -2$"
      ],
      "text/plain": [
       "-2"
      ]
     },
     "metadata": {},
     "output_type": "display_data"
    }
   ],
   "source": [
    "for j in range(len(H2[0,:])):\n",
    "    minor = M[:j+1, :j+1]\n",
    "    display(minor.det())"
   ]
  },
  {
   "cell_type": "code",
   "execution_count": 52,
   "metadata": {},
   "outputs": [
    {
     "data": {
      "image/png": "[encoded data removed]",
      "text/latex": [
       "$\\displaystyle \\left\\{ -1 : 1, \\  1 : 1, \\  2 : 1\\right\\}$"
      ],
      "text/plain": [
       "{-1: 1, 1: 1, 2: 1}"
      ]
     },
     "execution_count": 52,
     "metadata": {},
     "output_type": "execute_result"
    }
   ],
   "source": [
    "M.eigenvals()"
   ]
  },
  {
   "cell_type": "markdown",
   "metadata": {},
   "source": [
    "also indefinit"
   ]
  },
  {
   "cell_type": "markdown",
   "metadata": {},
   "source": [
    "# Extremwerte in mehreren Veränderlichen"
   ]
  },
  {
   "cell_type": "code",
   "execution_count": 53,
   "metadata": {},
   "outputs": [],
   "source": [
    "f = -x**4/2 - x**2*y**2 - y**4/2 + x**3 - 3*x*y**2"
   ]
  },
  {
   "cell_type": "code",
   "execution_count": 54,
   "metadata": {},
   "outputs": [
    {
     "data": {
      "image/png": "[encoded data removed]",
      "text/latex": [
       "$\\displaystyle \\left[\\begin{matrix}- 2 x^{3} + 3 x^{2} - 2 x y^{2} - 3 y^{2} & - 2 x^{2} y - 6 x y - 2 y^{3} & 0\\end{matrix}\\right]$"
      ],
      "text/plain": [
       "⎡     3      2        2      2       2                3   ⎤\n",
       "⎣- 2⋅x  + 3⋅x  - 2⋅x⋅y  - 3⋅y   - 2⋅x ⋅y - 6⋅x⋅y - 2⋅y   0⎦"
      ]
     },
     "execution_count": 54,
     "metadata": {},
     "output_type": "execute_result"
    }
   ],
   "source": [
    "gr = Matrix([f]).jacobian(variablen)\n",
    "gr"
   ]
  },
  {
   "cell_type": "code",
   "execution_count": 55,
   "metadata": {},
   "outputs": [
    {
     "data": {
      "image/png": "[encoded data removed]",
      "text/latex": [
       "$\\displaystyle \\left[ \\left\\{ x : - \\frac{3}{4}, \\  y : - \\frac{3 \\sqrt{3}}{4}\\right\\}, \\  \\left\\{ x : - \\frac{3}{4}, \\  y : \\frac{3 \\sqrt{3}}{4}\\right\\}, \\  \\left\\{ x : 0, \\  y : 0\\right\\}, \\  \\left\\{ x : \\frac{3}{2}, \\  y : 0\\right\\}\\right]$"
      ],
      "text/plain": [
       "⎡⎧            -3⋅√3 ⎫  ⎧            3⋅√3⎫                              ⎤\n",
       "⎢⎨x: -3/4, y: ──────⎬, ⎨x: -3/4, y: ────⎬, {x: 0, y: 0}, {x: 3/2, y: 0}⎥\n",
       "⎣⎩              4   ⎭  ⎩             4  ⎭                              ⎦"
      ]
     },
     "execution_count": 55,
     "metadata": {},
     "output_type": "execute_result"
    }
   ],
   "source": [
    "lsg = solve(gr)\n",
    "lsg"
   ]
  },
  {
   "cell_type": "markdown",
   "metadata": {},
   "source": [
    "kritische Punkte"
   ]
  },
  {
   "cell_type": "code",
   "execution_count": 56,
   "metadata": {},
   "outputs": [
    {
     "data": {
      "image/png": "[encoded data removed]",
      "text/latex": [
       "$\\displaystyle \\left[\\begin{matrix}- 6 x^{2} + 6 x - 2 y^{2} & - 4 x y - 6 y\\\\- 4 x y - 6 y & - 2 x^{2} - 6 x - 6 y^{2}\\end{matrix}\\right]$"
      ],
      "text/plain": [
       "⎡     2            2                     ⎤\n",
       "⎢- 6⋅x  + 6⋅x - 2⋅y      -4⋅x⋅y - 6⋅y    ⎥\n",
       "⎢                                        ⎥\n",
       "⎢                          2            2⎥\n",
       "⎣   -4⋅x⋅y - 6⋅y      - 2⋅x  - 6⋅x - 6⋅y ⎦"
      ]
     },
     "execution_count": 56,
     "metadata": {},
     "output_type": "execute_result"
    }
   ],
   "source": [
    "H = hessian(f, [x,y])\n",
    "H"
   ]
  },
  {
   "cell_type": "code",
   "execution_count": 57,
   "metadata": {},
   "outputs": [
    {
     "data": {
      "image/png": "[encoded data removed]",
      "text/latex": [
       "$\\displaystyle \\left[\\begin{matrix}- \\frac{45}{4} & \\frac{9 \\sqrt{3}}{4}\\\\\\frac{9 \\sqrt{3}}{4} & - \\frac{27}{4}\\end{matrix}\\right]$"
      ],
      "text/plain": [
       "⎡       9⋅√3 ⎤\n",
       "⎢-45/4  ──── ⎥\n",
       "⎢        4   ⎥\n",
       "⎢            ⎥\n",
       "⎢9⋅√3        ⎥\n",
       "⎢────   -27/4⎥\n",
       "⎣ 4          ⎦"
      ]
     },
     "execution_count": 57,
     "metadata": {},
     "output_type": "execute_result"
    }
   ],
   "source": [
    "H.subs(lsg[0])"
   ]
  },
  {
   "cell_type": "code",
   "execution_count": 58,
   "metadata": {},
   "outputs": [
    {
     "data": {
      "image/png": "[encoded data removed]",
      "text/latex": [
       "$\\displaystyle 432 e^{12}$"
      ],
      "text/plain": [
       "     12\n",
       "432⋅ℯ  "
      ]
     },
     "execution_count": 58,
     "metadata": {},
     "output_type": "execute_result"
    }
   ],
   "source": [
    "H1.det()"
   ]
  },
  {
   "cell_type": "markdown",
   "metadata": {},
   "source": [
    "Hurwitz: $H_1$ negativ definit, weil der erste Minor negativ ist"
   ]
  },
  {
   "cell_type": "code",
   "execution_count": 59,
   "metadata": {},
   "outputs": [
    {
     "data": {
      "image/png": "[encoded data removed]",
      "text/latex": [
       "$\\displaystyle \\left[\\begin{matrix}- \\frac{45}{4} & - \\frac{9 \\sqrt{3}}{4}\\\\- \\frac{9 \\sqrt{3}}{4} & - \\frac{27}{4}\\end{matrix}\\right]$"
      ],
      "text/plain": [
       "⎡        -9⋅√3 ⎤\n",
       "⎢-45/4   ──────⎥\n",
       "⎢          4   ⎥\n",
       "⎢              ⎥\n",
       "⎢-9⋅√3         ⎥\n",
       "⎢──────  -27/4 ⎥\n",
       "⎣  4           ⎦"
      ]
     },
     "execution_count": 59,
     "metadata": {},
     "output_type": "execute_result"
    }
   ],
   "source": [
    "H2 = H.subs(lsg[1])\n",
    "H2"
   ]
  },
  {
   "cell_type": "code",
   "execution_count": 60,
   "metadata": {},
   "outputs": [
    {
     "data": {
      "image/png": "[encoded data removed]",
      "text/latex": [
       "$\\displaystyle \\frac{243}{4}$"
      ],
      "text/plain": [
       "243/4"
      ]
     },
     "execution_count": 60,
     "metadata": {},
     "output_type": "execute_result"
    }
   ],
   "source": [
    "H2.det()"
   ]
  },
  {
   "cell_type": "markdown",
   "metadata": {},
   "source": [
    "dito"
   ]
  },
  {
   "cell_type": "code",
   "execution_count": 61,
   "metadata": {},
   "outputs": [
    {
     "data": {
      "image/png": "[encoded data removed]",
      "text/latex": [
       "$\\displaystyle \\left[\\begin{matrix}0 & 0\\\\0 & 0\\end{matrix}\\right]$"
      ],
      "text/plain": [
       "⎡0  0⎤\n",
       "⎢    ⎥\n",
       "⎣0  0⎦"
      ]
     },
     "execution_count": 61,
     "metadata": {},
     "output_type": "execute_result"
    }
   ],
   "source": [
    "H3 = H.subs(lsg[2])\n",
    "H3"
   ]
  },
  {
   "cell_type": "markdown",
   "metadata": {},
   "source": [
    "müssen wir vertagen"
   ]
  },
  {
   "cell_type": "code",
   "execution_count": 62,
   "metadata": {},
   "outputs": [
    {
     "data": {
      "image/png": "[encoded data removed]",
      "text/latex": [
       "$\\displaystyle \\left[\\begin{matrix}- \\frac{9}{2} & 0\\\\0 & - \\frac{27}{2}\\end{matrix}\\right]$"
      ],
      "text/plain": [
       "⎡-9/2    0  ⎤\n",
       "⎢           ⎥\n",
       "⎣ 0    -27/2⎦"
      ]
     },
     "execution_count": 62,
     "metadata": {},
     "output_type": "execute_result"
    }
   ],
   "source": [
    "H4 = H.subs(lsg[3])\n",
    "H4"
   ]
  },
  {
   "cell_type": "markdown",
   "metadata": {},
   "source": [
    "Hier kann man die Definitheit direkt ablesen."
   ]
  },
  {
   "cell_type": "markdown",
   "metadata": {},
   "source": [
    "zurück zu "
   ]
  },
  {
   "cell_type": "code",
   "execution_count": 63,
   "metadata": {},
   "outputs": [
    {
     "data": {
      "image/png": "[encoded data removed]",
      "text/latex": [
       "$\\displaystyle \\left\\{ x : 0, \\  y : 0\\right\\}$"
      ],
      "text/plain": [
       "{x: 0, y: 0}"
      ]
     },
     "execution_count": 63,
     "metadata": {},
     "output_type": "execute_result"
    }
   ],
   "source": [
    "lsg[2]"
   ]
  },
  {
   "cell_type": "code",
   "execution_count": 64,
   "metadata": {},
   "outputs": [
    {
     "data": {
      "image/png": "[encoded data removed]",
      "text/latex": [
       "$\\displaystyle - \\frac{x^{4}}{2} + x^{3}$"
      ],
      "text/plain": [
       "   4     \n",
       "  x     3\n",
       "- ── + x \n",
       "  2      "
      ]
     },
     "execution_count": 64,
     "metadata": {},
     "output_type": "execute_result"
    }
   ],
   "source": [
    "f_x = f.subs(y,0)\n",
    "f_x"
   ]
  },
  {
   "cell_type": "markdown",
   "metadata": {},
   "source": [
    "Diese Funktion hat in $0$ einen Sattelpunkt"
   ]
  },
  {
   "cell_type": "code",
   "execution_count": 65,
   "metadata": {},
   "outputs": [
    {
     "data": {
      "image/png": "[encoded data removed]",
      "text/plain": [
       "<Figure size 432x288 with 1 Axes>"
      ]
     },
     "metadata": {
      "needs_background": "light"
     },
     "output_type": "display_data"
    }
   ],
   "source": [
    "plot(f_x, (x,-1,2));"
   ]
  },
  {
   "cell_type": "markdown",
   "metadata": {},
   "source": [
    "Die Funktion hat also einen Sattelpunkt im Ursprung und strikte lokale Maxima in den anderen drei kritischen Punkten."
   ]
  },
  {
   "cell_type": "code",
   "execution_count": null,
   "metadata": {},
   "outputs": [],
   "source": []
  }
 ],
 "metadata": {
  "kernelspec": {
   "display_name": "Python 3",
   "language": "python",
   "name": "python3"
  },
  "language_info": {
   "codemirror_mode": {
    "name": "ipython",
    "version": 3
   },
   "file_extension": ".py",
   "mimetype": "text/x-python",
   "name": "python",
   "nbconvert_exporter": "python",
   "pygments_lexer": "ipython3",
   "version": "3.8.5"
  }
 },
 "nbformat": 4,
 "nbformat_minor": 4
}
