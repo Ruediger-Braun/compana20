{
 "cells": [
  {
   "cell_type": "markdown",
   "metadata": {
    "slideshow": {
     "slide_type": "slide"
    }
   },
   "source": [
    "# Computergestützte Mathematik zur Analysis \n",
    "\n",
    "04.02.2021\n",
    "\n",
    "Prof. Dr. Rüdiger Braun"
   ]
  },
  {
   "cell_type": "code",
   "execution_count": 1,
   "metadata": {
    "slideshow": {
     "slide_type": "slide"
    }
   },
   "outputs": [],
   "source": [
    "from sympy import *\n",
    "init_printing()\n",
    "import numpy as np"
   ]
  },
  {
   "cell_type": "markdown",
   "metadata": {
    "slideshow": {
     "slide_type": "slide"
    }
   },
   "source": [
    "# Zufallsvariable"
   ]
  },
  {
   "cell_type": "code",
   "execution_count": 2,
   "metadata": {
    "slideshow": {
     "slide_type": "slide"
    }
   },
   "outputs": [],
   "source": [
    "from sympy.stats import *"
   ]
  },
  {
   "cell_type": "code",
   "execution_count": 3,
   "metadata": {},
   "outputs": [
    {
     "data": {
      "image/png": "[encoded data removed]",
      "text/latex": [
       "$\\displaystyle X$"
      ],
      "text/plain": [
       "X"
      ]
     },
     "execution_count": 3,
     "metadata": {},
     "output_type": "execute_result"
    }
   ],
   "source": [
    "X = DiscreteUniform('X', range(16))\n",
    "X"
   ]
  },
  {
   "cell_type": "code",
   "execution_count": 4,
   "metadata": {},
   "outputs": [
    {
     "data": {
      "image/png": "[encoded data removed]",
      "text/latex": [
       "$\\displaystyle \\frac{155}{2}$"
      ],
      "text/plain": [
       "155/2"
      ]
     },
     "execution_count": 4,
     "metadata": {},
     "output_type": "execute_result"
    }
   ],
   "source": [
    "E(X**2)"
   ]
  },
  {
   "cell_type": "code",
   "execution_count": 5,
   "metadata": {},
   "outputs": [
    {
     "data": {
      "image/png": "[encoded data removed]",
      "text/latex": [
       "$\\displaystyle \\frac{20553}{4}$"
      ],
      "text/plain": [
       "20553/4"
      ]
     },
     "execution_count": 5,
     "metadata": {},
     "output_type": "execute_result"
    }
   ],
   "source": [
    "variance(X**2)"
   ]
  },
  {
   "cell_type": "code",
   "execution_count": 9,
   "metadata": {
    "slideshow": {
     "slide_type": "slide"
    }
   },
   "outputs": [
    {
     "data": {
      "image/png": "[encoded data removed]",
      "text/latex": [
       "$\\displaystyle 5$"
      ],
      "text/plain": [
       "5"
      ]
     },
     "execution_count": 9,
     "metadata": {},
     "output_type": "execute_result"
    }
   ],
   "source": [
    "sample(X)"
   ]
  },
  {
   "cell_type": "code",
   "execution_count": 7,
   "metadata": {},
   "outputs": [],
   "source": [
    "l = []\n",
    "for j in range(10000):\n",
    "    l.append(sample(X))"
   ]
  },
  {
   "cell_type": "markdown",
   "metadata": {
    "slideshow": {
     "slide_type": "slide"
    }
   },
   "source": [
    "# dasselbe in numpy"
   ]
  },
  {
   "cell_type": "code",
   "execution_count": 10,
   "metadata": {
    "slideshow": {
     "slide_type": "slide"
    }
   },
   "outputs": [
    {
     "data": {
      "text/plain": [
       "array([12,  6,  3,  8, 14,  4,  5,  0,  5,  7])"
      ]
     },
     "execution_count": 10,
     "metadata": {},
     "output_type": "execute_result"
    }
   ],
   "source": [
    "np.random.choice(np.arange(16), 10)"
   ]
  },
  {
   "cell_type": "code",
   "execution_count": 11,
   "metadata": {},
   "outputs": [],
   "source": [
    "zv = np.random.choice(np.arange(16), 10000)"
   ]
  },
  {
   "cell_type": "markdown",
   "metadata": {
    "slideshow": {
     "slide_type": "fragment"
    }
   },
   "source": [
    "Was ist der Unterschied?"
   ]
  },
  {
   "cell_type": "code",
   "execution_count": 12,
   "metadata": {
    "slideshow": {
     "slide_type": "slide"
    }
   },
   "outputs": [
    {
     "data": {
      "image/png": "[encoded data removed]",
      "text/latex": [
       "$\\displaystyle \\sqrt{\\sin^{4}{\\left(x \\right)} + 1}$"
      ],
      "text/plain": [
       "   _____________\n",
       "  ╱    4        \n",
       "╲╱  sin (x) + 1 "
      ]
     },
     "execution_count": 12,
     "metadata": {},
     "output_type": "execute_result"
    }
   ],
   "source": [
    "x = S('x')\n",
    "f = sqrt(1+sin(x)**4)\n",
    "f"
   ]
  },
  {
   "cell_type": "code",
   "execution_count": 13,
   "metadata": {
    "slideshow": {
     "slide_type": "fragment"
    }
   },
   "outputs": [],
   "source": [
    "fn = lambdify(x, f)  # \"numpy\" ist default, wenn es installiert ist"
   ]
  },
  {
   "cell_type": "code",
   "execution_count": 14,
   "metadata": {},
   "outputs": [
    {
     "data": {
      "image/png": "[encoded data removed]",
      "text/latex": [
       "$\\displaystyle 1.0$"
      ],
      "text/plain": [
       "1.0"
      ]
     },
     "execution_count": 14,
     "metadata": {},
     "output_type": "execute_result"
    }
   ],
   "source": [
    "fn(0)"
   ]
  },
  {
   "cell_type": "code",
   "execution_count": 15,
   "metadata": {},
   "outputs": [
    {
     "data": {
      "text/plain": [
       "array([1.1524073 , 1.29754935, 1.04287665, ..., 1.399324  , 1.00304307,\n",
       "       1.35850875])"
      ]
     },
     "execution_count": 15,
     "metadata": {},
     "output_type": "execute_result"
    }
   ],
   "source": [
    "fn(zv)  "
   ]
  },
  {
   "cell_type": "markdown",
   "metadata": {
    "slideshow": {
     "slide_type": "fragment"
    }
   },
   "source": [
    "Was passiert hier?"
   ]
  },
  {
   "cell_type": "code",
   "execution_count": 16,
   "metadata": {
    "slideshow": {
     "slide_type": "slide"
    }
   },
   "outputs": [
    {
     "data": {
      "image/png": "[encoded data removed]",
      "text/latex": [
       "$\\displaystyle \\frac{K_{2 i}\\left(x\\right)}{\\sqrt{\\sin^{4}{\\left(x \\right)} + 1}}$"
      ],
      "text/plain": [
       "besselk(2⋅ⅈ, x) \n",
       "────────────────\n",
       "   _____________\n",
       "  ╱    4        \n",
       "╲╱  sin (x) + 1 "
      ]
     },
     "execution_count": 16,
     "metadata": {},
     "output_type": "execute_result"
    }
   ],
   "source": [
    "g = besselk(2*I, x) / f\n",
    "g"
   ]
  },
  {
   "cell_type": "code",
   "execution_count": 17,
   "metadata": {},
   "outputs": [
    {
     "data": {
      "image/png": "[encoded data removed]",
      "text/latex": [
       "$\\displaystyle \\frac{\\left(\\sin^{4}{\\left(x \\right)} + 1\\right)^{2} \\left(2 K_{2 i}\\left(x\\right) + K_{-2 + 2 i}\\left(x\\right) + K_{2 + 2 i}\\left(x\\right)\\right) + 8 \\left(\\sin^{4}{\\left(x \\right)} + 1\\right) \\left(K_{-1 + 2 i}\\left(x\\right) + K_{1 + 2 i}\\left(x\\right)\\right) \\sin^{3}{\\left(x \\right)} \\cos{\\left(x \\right)} + 8 \\left(- 2 \\sin^{6}{\\left(x \\right)} + 3 \\sin^{4}{\\left(x \\right)} + 4 \\sin^{2}{\\left(x \\right)} - 3\\right) \\sin^{2}{\\left(x \\right)} K_{2 i}\\left(x\\right)}{4 \\left(\\sin^{4}{\\left(x \\right)} + 1\\right)^{\\frac{5}{2}}}$"
      ],
      "text/plain": [
       "             2                                                                \n",
       "⎛   4       ⎞                                                                 \n",
       "⎝sin (x) + 1⎠ ⋅(2⋅besselk(2⋅ⅈ, x) + besselk(-2 + 2⋅ⅈ, x) + besselk(2 + 2⋅ⅈ, x)\n",
       "──────────────────────────────────────────────────────────────────────────────\n",
       "                                                                              \n",
       "                                                                              \n",
       "                                                                              \n",
       "\n",
       "                                                                              \n",
       "      ⎛   4       ⎞                                                 3         \n",
       ") + 8⋅⎝sin (x) + 1⎠⋅(besselk(-1 + 2⋅ⅈ, x) + besselk(1 + 2⋅ⅈ, x))⋅sin (x)⋅cos(x\n",
       "──────────────────────────────────────────────────────────────────────────────\n",
       "                                          5/2                                 \n",
       "                             ⎛   4       ⎞                                    \n",
       "                           4⋅⎝sin (x) + 1⎠                                    \n",
       "\n",
       "                                                                       \n",
       "      ⎛       6           4           2       ⎞    2                   \n",
       ") + 8⋅⎝- 2⋅sin (x) + 3⋅sin (x) + 4⋅sin (x) - 3⎠⋅sin (x)⋅besselk(2⋅ⅈ, x)\n",
       "───────────────────────────────────────────────────────────────────────\n",
       "                                                                       \n",
       "                                                                       \n",
       "                                                                       "
      ]
     },
     "execution_count": 17,
     "metadata": {},
     "output_type": "execute_result"
    }
   ],
   "source": [
    "ddg = g.diff(x, 2).simplify()\n",
    "ddg"
   ]
  },
  {
   "cell_type": "code",
   "execution_count": 18,
   "metadata": {
    "slideshow": {
     "slide_type": "slide"
    }
   },
   "outputs": [],
   "source": [
    "ddgn = lambdify(x, ddg)"
   ]
  },
  {
   "cell_type": "code",
   "execution_count": 19,
   "metadata": {},
   "outputs": [
    {
     "ename": "TypeError",
     "evalue": "ufunc 'kv' not supported for the input types, and the inputs could not be safely coerced to any supported types according to the casting rule ''safe''",
     "output_type": "error",
     "traceback": [
      "\u001b[0;31m---------------------------------------------------------------------------\u001b[0m",
      "\u001b[0;31mTypeError\u001b[0m                                 Traceback (most recent call last)",
      "\u001b[0;32m<ipython-input-19-0a2fff32db6f>\u001b[0m in \u001b[0;36m<module>\u001b[0;34m\u001b[0m\n\u001b[0;32m----> 1\u001b[0;31m \u001b[0mddgn\u001b[0m\u001b[0;34m(\u001b[0m\u001b[0;36m1\u001b[0m\u001b[0;34m)\u001b[0m   \u001b[0;31m# TypeError\u001b[0m\u001b[0;34m\u001b[0m\u001b[0;34m\u001b[0m\u001b[0m\n\u001b[0m",
      "\u001b[0;32m<lambdifygenerated-10005>\u001b[0m in \u001b[0;36m_lambdifygenerated\u001b[0;34m(x)\u001b[0m\n\u001b[1;32m      1\u001b[0m \u001b[0;32mdef\u001b[0m \u001b[0m_lambdifygenerated\u001b[0m\u001b[0;34m(\u001b[0m\u001b[0mx\u001b[0m\u001b[0;34m)\u001b[0m\u001b[0;34m:\u001b[0m\u001b[0;34m\u001b[0m\u001b[0;34m\u001b[0m\u001b[0m\n\u001b[0;32m----> 2\u001b[0;31m     \u001b[0;32mreturn\u001b[0m \u001b[0;34m(\u001b[0m\u001b[0;34m(\u001b[0m\u001b[0;36m1\u001b[0m\u001b[0;34m/\u001b[0m\u001b[0;36m4\u001b[0m\u001b[0;34m)\u001b[0m\u001b[0;34m*\u001b[0m\u001b[0;34m(\u001b[0m\u001b[0;34m(\u001b[0m\u001b[0msin\u001b[0m\u001b[0;34m(\u001b[0m\u001b[0mx\u001b[0m\u001b[0;34m)\u001b[0m\u001b[0;34m**\u001b[0m\u001b[0;36m4\u001b[0m \u001b[0;34m+\u001b[0m \u001b[0;36m1\u001b[0m\u001b[0;34m)\u001b[0m\u001b[0;34m**\u001b[0m\u001b[0;36m2\u001b[0m\u001b[0;34m*\u001b[0m\u001b[0;34m(\u001b[0m\u001b[0;36m2\u001b[0m\u001b[0;34m*\u001b[0m\u001b[0mkv\u001b[0m\u001b[0;34m(\u001b[0m\u001b[0;36m2\u001b[0m\u001b[0;34m*\u001b[0m\u001b[0;36m1j\u001b[0m\u001b[0;34m,\u001b[0m \u001b[0mx\u001b[0m\u001b[0;34m)\u001b[0m \u001b[0;34m+\u001b[0m \u001b[0mkv\u001b[0m\u001b[0;34m(\u001b[0m\u001b[0;34m-\u001b[0m\u001b[0;36m2\u001b[0m \u001b[0;34m+\u001b[0m \u001b[0;36m2\u001b[0m\u001b[0;34m*\u001b[0m\u001b[0;36m1j\u001b[0m\u001b[0;34m,\u001b[0m \u001b[0mx\u001b[0m\u001b[0;34m)\u001b[0m \u001b[0;34m+\u001b[0m \u001b[0mkv\u001b[0m\u001b[0;34m(\u001b[0m\u001b[0;36m2\u001b[0m \u001b[0;34m+\u001b[0m \u001b[0;36m2\u001b[0m\u001b[0;34m*\u001b[0m\u001b[0;36m1j\u001b[0m\u001b[0;34m,\u001b[0m \u001b[0mx\u001b[0m\u001b[0;34m)\u001b[0m\u001b[0;34m)\u001b[0m \u001b[0;34m+\u001b[0m \u001b[0;36m8\u001b[0m\u001b[0;34m*\u001b[0m\u001b[0;34m(\u001b[0m\u001b[0msin\u001b[0m\u001b[0;34m(\u001b[0m\u001b[0mx\u001b[0m\u001b[0;34m)\u001b[0m\u001b[0;34m**\u001b[0m\u001b[0;36m4\u001b[0m \u001b[0;34m+\u001b[0m \u001b[0;36m1\u001b[0m\u001b[0;34m)\u001b[0m\u001b[0;34m*\u001b[0m\u001b[0;34m(\u001b[0m\u001b[0mkv\u001b[0m\u001b[0;34m(\u001b[0m\u001b[0;34m-\u001b[0m\u001b[0;36m1\u001b[0m \u001b[0;34m+\u001b[0m \u001b[0;36m2\u001b[0m\u001b[0;34m*\u001b[0m\u001b[0;36m1j\u001b[0m\u001b[0;34m,\u001b[0m \u001b[0mx\u001b[0m\u001b[0;34m)\u001b[0m \u001b[0;34m+\u001b[0m \u001b[0mkv\u001b[0m\u001b[0;34m(\u001b[0m\u001b[0;36m1\u001b[0m \u001b[0;34m+\u001b[0m \u001b[0;36m2\u001b[0m\u001b[0;34m*\u001b[0m\u001b[0;36m1j\u001b[0m\u001b[0;34m,\u001b[0m \u001b[0mx\u001b[0m\u001b[0;34m)\u001b[0m\u001b[0;34m)\u001b[0m\u001b[0;34m*\u001b[0m\u001b[0msin\u001b[0m\u001b[0;34m(\u001b[0m\u001b[0mx\u001b[0m\u001b[0;34m)\u001b[0m\u001b[0;34m**\u001b[0m\u001b[0;36m3\u001b[0m\u001b[0;34m*\u001b[0m\u001b[0mcos\u001b[0m\u001b[0;34m(\u001b[0m\u001b[0mx\u001b[0m\u001b[0;34m)\u001b[0m \u001b[0;34m+\u001b[0m \u001b[0;36m8\u001b[0m\u001b[0;34m*\u001b[0m\u001b[0;34m(\u001b[0m\u001b[0;34m-\u001b[0m\u001b[0;36m2\u001b[0m\u001b[0;34m*\u001b[0m\u001b[0msin\u001b[0m\u001b[0;34m(\u001b[0m\u001b[0mx\u001b[0m\u001b[0;34m)\u001b[0m\u001b[0;34m**\u001b[0m\u001b[0;36m6\u001b[0m \u001b[0;34m+\u001b[0m \u001b[0;36m3\u001b[0m\u001b[0;34m*\u001b[0m\u001b[0msin\u001b[0m\u001b[0;34m(\u001b[0m\u001b[0mx\u001b[0m\u001b[0;34m)\u001b[0m\u001b[0;34m**\u001b[0m\u001b[0;36m4\u001b[0m \u001b[0;34m+\u001b[0m \u001b[0;36m4\u001b[0m\u001b[0;34m*\u001b[0m\u001b[0msin\u001b[0m\u001b[0;34m(\u001b[0m\u001b[0mx\u001b[0m\u001b[0;34m)\u001b[0m\u001b[0;34m**\u001b[0m\u001b[0;36m2\u001b[0m \u001b[0;34m-\u001b[0m \u001b[0;36m3\u001b[0m\u001b[0;34m)\u001b[0m\u001b[0;34m*\u001b[0m\u001b[0msin\u001b[0m\u001b[0;34m(\u001b[0m\u001b[0mx\u001b[0m\u001b[0;34m)\u001b[0m\u001b[0;34m**\u001b[0m\u001b[0;36m2\u001b[0m\u001b[0;34m*\u001b[0m\u001b[0mkv\u001b[0m\u001b[0;34m(\u001b[0m\u001b[0;36m2\u001b[0m\u001b[0;34m*\u001b[0m\u001b[0;36m1j\u001b[0m\u001b[0;34m,\u001b[0m \u001b[0mx\u001b[0m\u001b[0;34m)\u001b[0m\u001b[0;34m)\u001b[0m\u001b[0;34m/\u001b[0m\u001b[0;34m(\u001b[0m\u001b[0msin\u001b[0m\u001b[0;34m(\u001b[0m\u001b[0mx\u001b[0m\u001b[0;34m)\u001b[0m\u001b[0;34m**\u001b[0m\u001b[0;36m4\u001b[0m \u001b[0;34m+\u001b[0m \u001b[0;36m1\u001b[0m\u001b[0;34m)\u001b[0m\u001b[0;34m**\u001b[0m\u001b[0;34m(\u001b[0m\u001b[0;36m5\u001b[0m\u001b[0;34m/\u001b[0m\u001b[0;36m2\u001b[0m\u001b[0;34m)\u001b[0m\u001b[0;34m)\u001b[0m\u001b[0;34m\u001b[0m\u001b[0;34m\u001b[0m\u001b[0m\n\u001b[0m",
      "\u001b[0;31mTypeError\u001b[0m: ufunc 'kv' not supported for the input types, and the inputs could not be safely coerced to any supported types according to the casting rule ''safe''"
     ]
    }
   ],
   "source": [
    "# ddgn(1)   # TypeError"
   ]
  },
  {
   "cell_type": "code",
   "execution_count": 20,
   "metadata": {
    "slideshow": {
     "slide_type": "slide"
    }
   },
   "outputs": [],
   "source": [
    "ddgn = lambdify(x, ddg, modules=['scipy', 'numpy', 'mpmath'])"
   ]
  },
  {
   "cell_type": "code",
   "execution_count": 21,
   "metadata": {},
   "outputs": [
    {
     "data": {
      "text/plain": [
       "mpc(real='-0.1946345572600218', imag='0.0')"
      ]
     },
     "execution_count": 21,
     "metadata": {},
     "output_type": "execute_result"
    }
   ],
   "source": [
    "ddgn(1)"
   ]
  },
  {
   "cell_type": "code",
   "execution_count": 23,
   "metadata": {
    "slideshow": {
     "slide_type": "slide"
    }
   },
   "outputs": [],
   "source": [
    "# ddgn(zv)   # TypeError"
   ]
  },
  {
   "cell_type": "markdown",
   "metadata": {},
   "source": [
    "`mpmath` beherrscht keine ufuncs"
   ]
  },
  {
   "cell_type": "markdown",
   "metadata": {
    "slideshow": {
     "slide_type": "slide"
    }
   },
   "source": [
    "# Ausgabe in anderen Programmiersprachen"
   ]
  },
  {
   "cell_type": "markdown",
   "metadata": {
    "slideshow": {
     "slide_type": "slide"
    }
   },
   "source": [
    "Gesetzt den Fall, Sie haben eine Fortran-Bibliothek, die komplexe Besselfunktionen beherrscht:"
   ]
  },
  {
   "cell_type": "code",
   "execution_count": 24,
   "metadata": {},
   "outputs": [
    {
     "name": "stdout",
     "output_type": "stream",
     "text": [
      "      sqrt(sin(x)**4 + 1)\n"
     ]
    }
   ],
   "source": [
    "print(fcode(f))"
   ]
  },
  {
   "cell_type": "code",
   "execution_count": 25,
   "metadata": {
    "slideshow": {
     "slide_type": "slide"
    }
   },
   "outputs": [
    {
     "name": "stdout",
     "output_type": "stream",
     "text": [
      "C     Not supported in Fortran:\n",
      "C     besselk\n",
      "C     besselk\n",
      "C     besselk\n",
      "C     besselk\n",
      "C     besselk\n",
      "      (1.0d0/4.0d0)*((sin(x)**4 + 1)**2*(2*besselk(2.0*I, x) + besselk(\n",
      "     @ -2.0 + 2.0*I, x) + besselk(2.0 + 2.0*I, x)) + 8*(sin(x)**4 + 1)*(\n",
      "     @ besselk(-1.0 + 2.0*I, x) + besselk(1.0 + 2.0*I, x))*sin(x)**3*cos\n",
      "     @ (x) + 8*(-2*sin(x)**6 + 3*sin(x)**4 + 4*sin(x)**2 - 3)*sin(x)**2*\n",
      "     @ besselk(2.0*I, x))/(sin(x)**4 + 1)**(5.0d0/2.0d0)\n"
     ]
    }
   ],
   "source": [
    "print(fcode(ddg))"
   ]
  },
  {
   "cell_type": "code",
   "execution_count": 26,
   "metadata": {
    "slideshow": {
     "slide_type": "slide"
    }
   },
   "outputs": [
    {
     "name": "stdout",
     "output_type": "stream",
     "text": [
      "      res = (1.0d0/4.0d0)*((sin(x)**4 + 1)**2*(2*my_lib_Kv(cmplx(0,2.0d0\n",
      "     @ ), x) + my_lib_Kv(cmplx(-2.0d0,2.0d0), x) + my_lib_Kv(cmplx(2.0d0\n",
      "     @ ,2.0d0), x)) + 8*(sin(x)**4 + 1)*(my_lib_Kv(cmplx(-1.0d0,2.0d0),\n",
      "     @ x) + my_lib_Kv(cmplx(1.0d0,2.0d0), x))*sin(x)**3*cos(x) + 8*(-2*\n",
      "     @ sin(x)**6 + 3*sin(x)**4 + 4*sin(x)**2 - 3)*sin(x)**2*my_lib_Kv(\n",
      "     @ cmplx(0,2.0d0), x))/(sin(x)**4 + 1)**(5.0d0/2.0d0)\n"
     ]
    }
   ],
   "source": [
    "fc = fcode(ddg, user_functions={'besselk': 'my_lib_Kv'}, assign_to='res', standard=95)\n",
    "print(fc)"
   ]
  },
  {
   "cell_type": "code",
   "execution_count": 27,
   "metadata": {
    "slideshow": {
     "slide_type": "slide"
    }
   },
   "outputs": [
    {
     "name": "stdout",
     "output_type": "stream",
     "text": [
      "// Not supported in C++:\n",
      "// besselk\n",
      "// besselk\n",
      "// besselk\n",
      "// besselk\n",
      "// besselk\n",
      "(1.0/4.0)*(std::pow(std::pow(std::sin(x), 4) + 1, 2)*(2*besselk(2*I, x) + besselk(-2 + 2*I, x) + besselk(2 + 2*I, x)) + 8*(std::pow(std::sin(x), 4) + 1)*(besselk(-1 + 2*I, x) + besselk(1 + 2*I, x))*std::pow(std::sin(x), 3)*std::cos(x) + 8*(-2*std::pow(std::sin(x), 6) + 3*std::pow(std::sin(x), 4) + 4*std::pow(std::sin(x), 2) - 3)*std::pow(std::sin(x), 2)*besselk(2*I, x))/std::pow(std::pow(std::sin(x), 4) + 1, 5.0/2.0)\n"
     ]
    }
   ],
   "source": [
    "cc = cxxcode(ddg)\n",
    "print(cc)"
   ]
  },
  {
   "cell_type": "markdown",
   "metadata": {
    "slideshow": {
     "slide_type": "slide"
    }
   },
   "source": [
    "# Pattern matching "
   ]
  },
  {
   "cell_type": "code",
   "execution_count": 28,
   "metadata": {
    "slideshow": {
     "slide_type": "slide"
    }
   },
   "outputs": [],
   "source": [
    "x = Symbol('x')\n",
    "w = Wild('w')   #  wildcard"
   ]
  },
  {
   "cell_type": "code",
   "execution_count": 29,
   "metadata": {},
   "outputs": [],
   "source": [
    "pattern = sin(w)"
   ]
  },
  {
   "cell_type": "code",
   "execution_count": 30,
   "metadata": {},
   "outputs": [
    {
     "data": {
      "image/png": "[encoded data removed]",
      "text/latex": [
       "$\\displaystyle \\sin{\\left(2 x + \\frac{\\pi}{4} \\right)}$"
      ],
      "text/plain": [
       "   ⎛      π⎞\n",
       "sin⎜2⋅x + ─⎟\n",
       "   ⎝      4⎠"
      ]
     },
     "execution_count": 30,
     "metadata": {},
     "output_type": "execute_result"
    }
   ],
   "source": [
    "a = sin(2*x+pi/4)\n",
    "a"
   ]
  },
  {
   "cell_type": "code",
   "execution_count": 31,
   "metadata": {},
   "outputs": [
    {
     "data": {
      "image/png": "[encoded data removed]",
      "text/latex": [
       "$\\displaystyle \\left\\{ w : 2 x + \\frac{\\pi}{4}\\right\\}$"
      ],
      "text/plain": [
       "⎧         π⎫\n",
       "⎨w: 2⋅x + ─⎬\n",
       "⎩         4⎭"
      ]
     },
     "execution_count": 31,
     "metadata": {},
     "output_type": "execute_result"
    }
   ],
   "source": [
    "m = a.match(pattern)\n",
    "m"
   ]
  },
  {
   "cell_type": "code",
   "execution_count": 33,
   "metadata": {
    "slideshow": {
     "slide_type": "slide"
    }
   },
   "outputs": [
    {
     "data": {
      "image/png": "[encoded data removed]",
      "text/latex": [
       "$\\displaystyle 2 \\sin{\\left(\\frac{w}{2} \\right)} \\cos{\\left(\\frac{w}{2} \\right)}$"
      ],
      "text/plain": [
       "     ⎛w⎞    ⎛w⎞\n",
       "2⋅sin⎜─⎟⋅cos⎜─⎟\n",
       "     ⎝2⎠    ⎝2⎠"
      ]
     },
     "execution_count": 33,
     "metadata": {},
     "output_type": "execute_result"
    }
   ],
   "source": [
    "b = 2*sin(w/2)*cos(w/2)\n",
    "b"
   ]
  },
  {
   "cell_type": "code",
   "execution_count": 34,
   "metadata": {},
   "outputs": [
    {
     "data": {
      "image/png": "[encoded data removed]",
      "text/latex": [
       "$\\displaystyle 2 \\sin{\\left(x + \\frac{\\pi}{8} \\right)} \\cos{\\left(x + \\frac{\\pi}{8} \\right)}$"
      ],
      "text/plain": [
       "     ⎛    π⎞    ⎛    π⎞\n",
       "2⋅sin⎜x + ─⎟⋅cos⎜x + ─⎟\n",
       "     ⎝    8⎠    ⎝    8⎠"
      ]
     },
     "execution_count": 34,
     "metadata": {},
     "output_type": "execute_result"
    }
   ],
   "source": [
    "b.subs(m)"
   ]
  },
  {
   "cell_type": "code",
   "execution_count": 36,
   "metadata": {
    "slideshow": {
     "slide_type": "slide"
    }
   },
   "outputs": [],
   "source": [
    "def expand_sin_x_halbe(term):\n",
    "    w = Wild('w')\n",
    "    pattern = sin(w)\n",
    "    ersetzung = 2*sin(w/2)*cos(w/2)\n",
    "    m = term.match(pattern)\n",
    "    if m:\n",
    "        return ersetzung.subs(m)\n",
    "    else:\n",
    "        return term"
   ]
  },
  {
   "cell_type": "code",
   "execution_count": 37,
   "metadata": {
    "slideshow": {
     "slide_type": "slide"
    }
   },
   "outputs": [
    {
     "data": {
      "image/png": "[encoded data removed]",
      "text/latex": [
       "$\\displaystyle 2 \\sin{\\left(\\frac{3 x}{2} \\right)} \\cos{\\left(\\frac{3 x}{2} \\right)}$"
      ],
      "text/plain": [
       "     ⎛3⋅x⎞    ⎛3⋅x⎞\n",
       "2⋅sin⎜───⎟⋅cos⎜───⎟\n",
       "     ⎝ 2 ⎠    ⎝ 2 ⎠"
      ]
     },
     "execution_count": 37,
     "metadata": {},
     "output_type": "execute_result"
    }
   ],
   "source": [
    "expand_sin_x_halbe(sin(3*x))"
   ]
  },
  {
   "cell_type": "code",
   "execution_count": 38,
   "metadata": {},
   "outputs": [
    {
     "data": {
      "image/png": "[encoded data removed]",
      "text/latex": [
       "$\\displaystyle 0$"
      ],
      "text/plain": [
       "0"
      ]
     },
     "execution_count": 38,
     "metadata": {},
     "output_type": "execute_result"
    }
   ],
   "source": [
    "f = sin(3*x+19)\n",
    "(expand_sin_x_halbe(f)-f).simplify()"
   ]
  },
  {
   "cell_type": "code",
   "execution_count": 40,
   "metadata": {
    "slideshow": {
     "slide_type": "slide"
    }
   },
   "outputs": [
    {
     "data": {
      "image/png": "[encoded data removed]",
      "text/latex": [
       "$\\displaystyle 3 \\sin{\\left(x \\right)}$"
      ],
      "text/plain": [
       "3⋅sin(x)"
      ]
     },
     "execution_count": 40,
     "metadata": {},
     "output_type": "execute_result"
    }
   ],
   "source": [
    "f = 3*sin(x)\n",
    "expand_sin_x_halbe(f)"
   ]
  },
  {
   "cell_type": "code",
   "execution_count": 41,
   "metadata": {},
   "outputs": [
    {
     "data": {
      "text/plain": [
       "sympy.core.mul.Mul"
      ]
     },
     "execution_count": 41,
     "metadata": {},
     "output_type": "execute_result"
    }
   ],
   "source": [
    "f.func"
   ]
  },
  {
   "cell_type": "code",
   "execution_count": 42,
   "metadata": {},
   "outputs": [
    {
     "data": {
      "image/png": "[encoded data removed]",
      "text/latex": [
       "$\\displaystyle \\left( 3, \\  \\sin{\\left(x \\right)}\\right)$"
      ],
      "text/plain": [
       "(3, sin(x))"
      ]
     },
     "execution_count": 42,
     "metadata": {},
     "output_type": "execute_result"
    }
   ],
   "source": [
    "f.args"
   ]
  },
  {
   "cell_type": "code",
   "execution_count": 43,
   "metadata": {
    "slideshow": {
     "slide_type": "slide"
    }
   },
   "outputs": [
    {
     "data": {
      "image/png": "[encoded data removed]",
      "text/latex": [
       "$\\displaystyle 6 \\sin{\\left(\\frac{x}{2} \\right)} \\cos{\\left(\\frac{x}{2} \\right)}$"
      ],
      "text/plain": [
       "     ⎛x⎞    ⎛x⎞\n",
       "6⋅sin⎜─⎟⋅cos⎜─⎟\n",
       "     ⎝2⎠    ⎝2⎠"
      ]
     },
     "execution_count": 43,
     "metadata": {},
     "output_type": "execute_result"
    }
   ],
   "source": [
    "expand_sin_x_halbe(f.args[0]) * expand_sin_x_halbe(f.args[1])"
   ]
  },
  {
   "cell_type": "code",
   "execution_count": 44,
   "metadata": {
    "slideshow": {
     "slide_type": "slide"
    }
   },
   "outputs": [],
   "source": [
    "def expand_sin_x_halbe(ausdr):\n",
    "    ausdr = S(ausdr)\n",
    "    w = Wild('w')\n",
    "    pattern = sin(w)\n",
    "    ersetzung = 2*sin(w/2)*cos(w/2)\n",
    "    m = ausdr.match(pattern)\n",
    "    if m:\n",
    "        res = ersetzung.subs(m)\n",
    "    elif ausdr.is_Mul:\n",
    "        res = 1\n",
    "        for term in ausdr.args:\n",
    "            res = res * expand_sin_x_halbe(term)\n",
    "    elif ausdr.is_Add:\n",
    "        res = 0\n",
    "        for term in ausdr.args:\n",
    "            res = res + expand_sin_x_halbe(term)\n",
    "    else:\n",
    "        res = ausdr\n",
    "    return res"
   ]
  },
  {
   "cell_type": "code",
   "execution_count": 45,
   "metadata": {
    "slideshow": {
     "slide_type": "slide"
    }
   },
   "outputs": [
    {
     "data": {
      "image/png": "[encoded data removed]",
      "text/latex": [
       "$\\displaystyle \\frac{3 \\sin{\\left(x \\right)}}{\\sin^{2}{\\left(\\frac{x}{2} \\right)} + 1}$"
      ],
      "text/plain": [
       "  3⋅sin(x) \n",
       "───────────\n",
       "   2⎛x⎞    \n",
       "sin ⎜─⎟ + 1\n",
       "    ⎝2⎠    "
      ]
     },
     "execution_count": 45,
     "metadata": {},
     "output_type": "execute_result"
    }
   ],
   "source": [
    "b = 3*sin(x)/(1+sin(x/2)**2)\n",
    "b"
   ]
  },
  {
   "cell_type": "code",
   "execution_count": 46,
   "metadata": {},
   "outputs": [
    {
     "data": {
      "image/png": "[encoded data removed]",
      "text/latex": [
       "$\\displaystyle \\frac{6 \\sin{\\left(\\frac{x}{2} \\right)} \\cos{\\left(\\frac{x}{2} \\right)}}{\\sin^{2}{\\left(\\frac{x}{2} \\right)} + 1}$"
      ],
      "text/plain": [
       "     ⎛x⎞    ⎛x⎞\n",
       "6⋅sin⎜─⎟⋅cos⎜─⎟\n",
       "     ⎝2⎠    ⎝2⎠\n",
       "───────────────\n",
       "     2⎛x⎞      \n",
       "  sin ⎜─⎟ + 1  \n",
       "      ⎝2⎠      "
      ]
     },
     "execution_count": 46,
     "metadata": {},
     "output_type": "execute_result"
    }
   ],
   "source": [
    "expand_sin_x_halbe(b)"
   ]
  },
  {
   "cell_type": "code",
   "execution_count": 47,
   "metadata": {
    "slideshow": {
     "slide_type": "slide"
    }
   },
   "outputs": [],
   "source": [
    "x,y,z = symbols('x y z')\n",
    "a = x + y + z"
   ]
  },
  {
   "cell_type": "code",
   "execution_count": 48,
   "metadata": {},
   "outputs": [
    {
     "data": {
      "image/png": "[encoded data removed]",
      "text/latex": [
       "$\\displaystyle \\left( x, \\  y, \\  z\\right)$"
      ],
      "text/plain": [
       "(x, y, z)"
      ]
     },
     "execution_count": 48,
     "metadata": {},
     "output_type": "execute_result"
    }
   ],
   "source": [
    "a.args"
   ]
  },
  {
   "cell_type": "code",
   "execution_count": 49,
   "metadata": {},
   "outputs": [
    {
     "data": {
      "text/plain": [
       "sympy.core.add.Add"
      ]
     },
     "execution_count": 49,
     "metadata": {},
     "output_type": "execute_result"
    }
   ],
   "source": [
    "a.func"
   ]
  },
  {
   "cell_type": "code",
   "execution_count": 50,
   "metadata": {},
   "outputs": [
    {
     "data": {
      "image/png": "[encoded data removed]",
      "text/latex": [
       "$\\displaystyle x + y + z$"
      ],
      "text/plain": [
       "x + y + z"
      ]
     },
     "execution_count": 50,
     "metadata": {},
     "output_type": "execute_result"
    }
   ],
   "source": [
    "a.func(*a.args)"
   ]
  },
  {
   "cell_type": "code",
   "execution_count": 51,
   "metadata": {
    "slideshow": {
     "slide_type": "slide"
    }
   },
   "outputs": [],
   "source": [
    "def expand_sin_x_halbe(ausdr):\n",
    "    ausdr = S(ausdr)\n",
    "    w = Wild('w')\n",
    "    pattern = sin(w)\n",
    "    ersetzung = 2*sin(w/2)*cos(w/2)\n",
    "    m = ausdr.match(pattern)\n",
    "    if m:\n",
    "        res = ersetzung.subs(m)\n",
    "    else:\n",
    "        try:\n",
    "            f = ausdr.func\n",
    "        except AttributeError:\n",
    "            res = ausdr\n",
    "        args = ausdr.args\n",
    "        if len(args) == 0:\n",
    "            res = ausdr\n",
    "        else:\n",
    "            liste = []\n",
    "            for l in args:\n",
    "                liste.append(expand_sin_x_halbe(l))\n",
    "            res = f(*liste)\n",
    "    return res"
   ]
  },
  {
   "cell_type": "code",
   "execution_count": 52,
   "metadata": {
    "slideshow": {
     "slide_type": "slide"
    }
   },
   "outputs": [
    {
     "data": {
      "image/png": "[encoded data removed]",
      "text/latex": [
       "$\\displaystyle 4 \\sin{\\left(\\frac{x}{4} \\right)} \\cos{\\left(\\frac{x}{4} \\right)}$"
      ],
      "text/plain": [
       "     ⎛x⎞    ⎛x⎞\n",
       "4⋅sin⎜─⎟⋅cos⎜─⎟\n",
       "     ⎝4⎠    ⎝4⎠"
      ]
     },
     "execution_count": 52,
     "metadata": {},
     "output_type": "execute_result"
    }
   ],
   "source": [
    "expand_sin_x_halbe(2*sin(x/2))"
   ]
  },
  {
   "cell_type": "code",
   "execution_count": 53,
   "metadata": {},
   "outputs": [
    {
     "data": {
      "image/png": "[encoded data removed]",
      "text/latex": [
       "$\\displaystyle \\frac{6 \\sin{\\left(\\frac{x}{2} \\right)} \\cos{\\left(\\frac{x}{2} \\right)}}{4 \\sin^{2}{\\left(\\frac{x}{4} \\right)} \\cos^{2}{\\left(\\frac{x}{4} \\right)} + 1}$"
      ],
      "text/plain": [
       "        ⎛x⎞    ⎛x⎞   \n",
       "   6⋅sin⎜─⎟⋅cos⎜─⎟   \n",
       "        ⎝2⎠    ⎝2⎠   \n",
       "─────────────────────\n",
       "     2⎛x⎞    2⎛x⎞    \n",
       "4⋅sin ⎜─⎟⋅cos ⎜─⎟ + 1\n",
       "      ⎝4⎠     ⎝4⎠    "
      ]
     },
     "execution_count": 53,
     "metadata": {},
     "output_type": "execute_result"
    }
   ],
   "source": [
    "expand_sin_x_halbe(b)"
   ]
  },
  {
   "cell_type": "markdown",
   "metadata": {
    "slideshow": {
     "slide_type": "slide"
    }
   },
   "source": [
    "# Zurück zu den Besselfunktionen"
   ]
  },
  {
   "cell_type": "code",
   "execution_count": 54,
   "metadata": {
    "slideshow": {
     "slide_type": "slide"
    }
   },
   "outputs": [],
   "source": [
    "nu = S('nu')"
   ]
  },
  {
   "cell_type": "code",
   "execution_count": 55,
   "metadata": {},
   "outputs": [],
   "source": [
    "f = besselj(nu, x)\n",
    "g = bessely(nu, x)"
   ]
  },
  {
   "cell_type": "code",
   "execution_count": 65,
   "metadata": {},
   "outputs": [
    {
     "data": {
      "image/png": "[encoded data removed]",
      "text/latex": [
       "$\\displaystyle \\left[\\begin{matrix}J_{\\nu}\\left(x\\right) & Y_{\\nu}\\left(x\\right)\\\\\\frac{J_{\\nu - 1}\\left(x\\right)}{2} - \\frac{J_{\\nu + 1}\\left(x\\right)}{2} & \\frac{Y_{\\nu - 1}\\left(x\\right)}{2} - \\frac{Y_{\\nu + 1}\\left(x\\right)}{2}\\end{matrix}\\right]$"
      ],
      "text/plain": [
       "⎡            besselj(ν, x)                          bessely(ν, x)            ⎤\n",
       "⎢                                                                            ⎥\n",
       "⎢besselj(ν - 1, x)   besselj(ν + 1, x)  bessely(ν - 1, x)   bessely(ν + 1, x)⎥\n",
       "⎢───────────────── - ─────────────────  ───────────────── - ─────────────────⎥\n",
       "⎣        2                   2                  2                   2        ⎦"
      ]
     },
     "execution_count": 65,
     "metadata": {},
     "output_type": "execute_result"
    }
   ],
   "source": [
    "M = Matrix([[f,g], [f.diff(x), g.diff(x)]])\n",
    "M"
   ]
  },
  {
   "cell_type": "code",
   "execution_count": 66,
   "metadata": {},
   "outputs": [
    {
     "data": {
      "image/png": "[encoded data removed]",
      "text/latex": [
       "$\\displaystyle \\frac{J_{\\nu}\\left(x\\right) Y_{\\nu - 1}\\left(x\\right)}{2} - \\frac{J_{\\nu}\\left(x\\right) Y_{\\nu + 1}\\left(x\\right)}{2} - \\frac{J_{\\nu - 1}\\left(x\\right) Y_{\\nu}\\left(x\\right)}{2} + \\frac{J_{\\nu + 1}\\left(x\\right) Y_{\\nu}\\left(x\\right)}{2}$"
      ],
      "text/plain": [
       "besselj(ν, x)⋅bessely(ν - 1, x)   besselj(ν, x)⋅bessely(ν + 1, x)   besselj(ν \n",
       "─────────────────────────────── - ─────────────────────────────── - ──────────\n",
       "               2                                 2                            \n",
       "\n",
       "- 1, x)⋅bessely(ν, x)   besselj(ν + 1, x)⋅bessely(ν, x)\n",
       "───────────────────── + ───────────────────────────────\n",
       "     2                                 2               "
      ]
     },
     "execution_count": 66,
     "metadata": {},
     "output_type": "execute_result"
    }
   ],
   "source": [
    "W = M.det().expand()\n",
    "W"
   ]
  },
  {
   "cell_type": "markdown",
   "metadata": {},
   "source": [
    "https://dlmf.nist.gov/10.6"
   ]
  },
  {
   "cell_type": "code",
   "execution_count": 58,
   "metadata": {
    "slideshow": {
     "slide_type": "slide"
    }
   },
   "outputs": [],
   "source": [
    "def bessel_forward(ausdr, bessel, nu):\n",
    "    w1 = Wild('w1')\n",
    "    w2 = Wild('w2')\n",
    "    pattern = bessel(w1, w2)\n",
    "    if bessel == besselj or bessel == bessely:\n",
    "        ersetzung = -bessel(nu+2, w2) + 2*(nu+1)/w2*bessel(nu+1, w2)    \n",
    "    m = ausdr.match(pattern)\n",
    "    if m and w1.subs(m) == nu:\n",
    "        res = ersetzung.subs(m)\n",
    "    else:\n",
    "        try:\n",
    "            f = ausdr.func\n",
    "        except AttributeError:\n",
    "            res = ausdr\n",
    "        args = ausdr.args\n",
    "        if len(args) == 0:\n",
    "            res = ausdr\n",
    "        else:\n",
    "            liste = []\n",
    "            for l in args:\n",
    "                liste.append(bessel_forward(l, bessel, nu))\n",
    "            res = f(*liste)\n",
    "    return res"
   ]
  },
  {
   "cell_type": "code",
   "execution_count": 59,
   "metadata": {
    "slideshow": {
     "slide_type": "slide"
    }
   },
   "outputs": [],
   "source": [
    "def bessel_backward(ausdr, bessel, nu):\n",
    "    w1 = Wild('w1')\n",
    "    w2 = Wild('w2')\n",
    "    w3 = Wild('w3')\n",
    "    pattern = bessel(w1, w2)\n",
    "    if bessel == besselj or bessel == bessely:\n",
    "        ersetzung = -bessel(nu-2, w2) + 2*(nu-1)/w2*bessel(nu-1, w2)            \n",
    "    m = ausdr.match(pattern)\n",
    "    if m and w1.subs(m) == nu:\n",
    "        res = ersetzung.subs(m)\n",
    "    else:\n",
    "        try:\n",
    "            f = ausdr.func\n",
    "        except AttributeError:\n",
    "            res = ausdr\n",
    "        args = ausdr.args\n",
    "        if len(args) == 0:\n",
    "            res = ausdr\n",
    "        else:\n",
    "            liste = []\n",
    "            for l in args:\n",
    "                liste.append(bessel_backward(l, bessel, nu))\n",
    "            res = f(*liste)\n",
    "    return res"
   ]
  },
  {
   "cell_type": "code",
   "execution_count": 67,
   "metadata": {
    "slideshow": {
     "slide_type": "slide"
    }
   },
   "outputs": [
    {
     "data": {
      "image/png": "[encoded data removed]",
      "text/latex": [
       "$\\displaystyle \\frac{\\nu J_{\\nu}\\left(x\\right) Y_{\\nu}\\left(x\\right)}{x} - J_{\\nu}\\left(x\\right) Y_{\\nu + 1}\\left(x\\right) - \\frac{J_{\\nu - 1}\\left(x\\right) Y_{\\nu}\\left(x\\right)}{2} + \\frac{J_{\\nu + 1}\\left(x\\right) Y_{\\nu}\\left(x\\right)}{2}$"
      ],
      "text/plain": [
       "ν⋅besselj(ν, x)⋅bessely(ν, x)                                     besselj(ν - \n",
       "───────────────────────────── - besselj(ν, x)⋅bessely(ν + 1, x) - ────────────\n",
       "              x                                                               \n",
       "\n",
       "1, x)⋅bessely(ν, x)   besselj(ν + 1, x)⋅bessely(ν, x)\n",
       "─────────────────── + ───────────────────────────────\n",
       "   2                                 2               "
      ]
     },
     "execution_count": 67,
     "metadata": {},
     "output_type": "execute_result"
    }
   ],
   "source": [
    "tmp = bessel_forward(W, bessely, nu-1).expand()\n",
    "tmp"
   ]
  },
  {
   "cell_type": "code",
   "execution_count": 68,
   "metadata": {},
   "outputs": [
    {
     "data": {
      "image/png": "[encoded data removed]",
      "text/latex": [
       "$\\displaystyle - J_{\\nu}\\left(x\\right) Y_{\\nu + 1}\\left(x\\right) + J_{\\nu + 1}\\left(x\\right) Y_{\\nu}\\left(x\\right)$"
      ],
      "text/plain": [
       "-besselj(ν, x)⋅bessely(ν + 1, x) + besselj(ν + 1, x)⋅bessely(ν, x)"
      ]
     },
     "execution_count": 68,
     "metadata": {},
     "output_type": "execute_result"
    }
   ],
   "source": [
    "tmp = bessel_forward(tmp, besselj, nu-1).expand()\n",
    "tmp"
   ]
  },
  {
   "cell_type": "code",
   "execution_count": 69,
   "metadata": {
    "slideshow": {
     "slide_type": "slide"
    }
   },
   "outputs": [
    {
     "data": {
      "image/png": "[encoded data removed]",
      "text/latex": [
       "$\\displaystyle \\frac{J_{\\nu}\\left(x\\right) Y_{\\nu + 2}\\left(x\\right)}{2} - \\frac{J_{\\nu - 1}\\left(x\\right) Y_{\\nu + 1}\\left(x\\right)}{2} + \\frac{J_{\\nu + 1}\\left(x\\right) Y_{\\nu - 1}\\left(x\\right)}{2} - \\frac{J_{\\nu + 2}\\left(x\\right) Y_{\\nu}\\left(x\\right)}{2}$"
      ],
      "text/plain": [
       "besselj(ν, x)⋅bessely(ν + 2, x)   besselj(ν - 1, x)⋅bessely(ν + 1, x)   bessel\n",
       "─────────────────────────────── - ─────────────────────────────────── + ──────\n",
       "               2                                   2                          \n",
       "\n",
       "j(ν + 1, x)⋅bessely(ν - 1, x)   besselj(ν + 2, x)⋅bessely(ν, x)\n",
       "───────────────────────────── - ───────────────────────────────\n",
       "           2                                   2               "
      ]
     },
     "execution_count": 69,
     "metadata": {},
     "output_type": "execute_result"
    }
   ],
   "source": [
    "tmp = tmp.diff(x).expand()\n",
    "tmp"
   ]
  },
  {
   "cell_type": "code",
   "execution_count": 70,
   "metadata": {},
   "outputs": [
    {
     "data": {
      "image/png": "[encoded data removed]",
      "text/latex": [
       "$\\displaystyle - \\frac{\\nu J_{\\nu}\\left(x\\right) Y_{\\nu + 1}\\left(x\\right)}{x} + \\frac{\\nu J_{\\nu + 1}\\left(x\\right) Y_{\\nu}\\left(x\\right)}{x} + \\frac{J_{\\nu}\\left(x\\right) Y_{\\nu + 2}\\left(x\\right)}{2} - \\frac{J_{\\nu + 2}\\left(x\\right) Y_{\\nu}\\left(x\\right)}{2}$"
      ],
      "text/plain": [
       "  ν⋅besselj(ν, x)⋅bessely(ν + 1, x)   ν⋅besselj(ν + 1, x)⋅bessely(ν, x)   bess\n",
       "- ───────────────────────────────── + ───────────────────────────────── + ────\n",
       "                  x                                   x                       \n",
       "\n",
       "elj(ν, x)⋅bessely(ν + 2, x)   besselj(ν + 2, x)⋅bessely(ν, x)\n",
       "─────────────────────────── - ───────────────────────────────\n",
       "           2                                 2               "
      ]
     },
     "execution_count": 70,
     "metadata": {},
     "output_type": "execute_result"
    }
   ],
   "source": [
    "tmp = bessel_forward(tmp, bessely, nu-1).expand()\n",
    "tmp = bessel_forward(tmp, besselj, nu-1).expand()\n",
    "tmp"
   ]
  },
  {
   "cell_type": "code",
   "execution_count": 71,
   "metadata": {},
   "outputs": [
    {
     "data": {
      "image/png": "[encoded data removed]",
      "text/latex": [
       "$\\displaystyle \\frac{J_{\\nu}\\left(x\\right) Y_{\\nu + 1}\\left(x\\right)}{x} - \\frac{J_{\\nu + 1}\\left(x\\right) Y_{\\nu}\\left(x\\right)}{x}$"
      ],
      "text/plain": [
       "besselj(ν, x)⋅bessely(ν + 1, x)   besselj(ν + 1, x)⋅bessely(ν, x)\n",
       "─────────────────────────────── - ───────────────────────────────\n",
       "               x                                 x               "
      ]
     },
     "execution_count": 71,
     "metadata": {},
     "output_type": "execute_result"
    }
   ],
   "source": [
    "tmp = bessel_backward(tmp, bessely, nu+2).expand()\n",
    "tmp = bessel_backward(tmp, besselj, nu+2).expand()\n",
    "tmp"
   ]
  },
  {
   "cell_type": "markdown",
   "metadata": {
    "slideshow": {
     "slide_type": "fragment"
    }
   },
   "source": [
    " Also erfüllt die Wronskische die Dgl $W'=-\\frac Wx$"
   ]
  },
  {
   "cell_type": "code",
   "execution_count": 72,
   "metadata": {
    "slideshow": {
     "slide_type": "slide"
    }
   },
   "outputs": [
    {
     "data": {
      "image/png": "[encoded data removed]",
      "text/latex": [
       "$\\displaystyle \\frac{d}{d x} y{\\left(x \\right)} = - \\frac{y{\\left(x \\right)}}{x}$"
      ],
      "text/plain": [
       "d          -y(x) \n",
       "──(y(x)) = ──────\n",
       "dx           x   "
      ]
     },
     "execution_count": 72,
     "metadata": {},
     "output_type": "execute_result"
    }
   ],
   "source": [
    "y = Function('y')\n",
    "dgl = Eq(y(x).diff(x), -y(x)/x)\n",
    "dgl"
   ]
  },
  {
   "cell_type": "code",
   "execution_count": 73,
   "metadata": {},
   "outputs": [
    {
     "data": {
      "image/png": "[encoded data removed]",
      "text/latex": [
       "$\\displaystyle y{\\left(x \\right)} = \\frac{C_{1}}{x}$"
      ],
      "text/plain": [
       "       C₁\n",
       "y(x) = ──\n",
       "       x "
      ]
     },
     "execution_count": 73,
     "metadata": {},
     "output_type": "execute_result"
    }
   ],
   "source": [
    "dsolve(dgl)"
   ]
  }
 ],
 "metadata": {
  "celltoolbar": "Slideshow",
  "kernelspec": {
   "display_name": "Python 3",
   "language": "python",
   "name": "python3"
  },
  "language_info": {
   "codemirror_mode": {
    "name": "ipython",
    "version": 3
   },
   "file_extension": ".py",
   "mimetype": "text/x-python",
   "name": "python",
   "nbconvert_exporter": "python",
   "pygments_lexer": "ipython3",
   "version": "3.8.5"
  }
 },
 "nbformat": 4,
 "nbformat_minor": 4
}
