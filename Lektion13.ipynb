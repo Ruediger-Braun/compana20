{
 "cells": [
  {
   "cell_type": "markdown",
   "metadata": {},
   "source": [
    "# Lektion 13"
   ]
  },
  {
   "cell_type": "code",
   "execution_count": null,
   "metadata": {},
   "outputs": [],
   "source": [
    "from sympy import *\n",
    "init_printing()\n",
    "import numpy as np"
   ]
  },
  {
   "cell_type": "markdown",
   "metadata": {},
   "source": [
    "# Zufallsvariable"
   ]
  },
  {
   "cell_type": "code",
   "execution_count": null,
   "metadata": {},
   "outputs": [],
   "source": [
    "from sympy.stats import *"
   ]
  },
  {
   "cell_type": "code",
   "execution_count": null,
   "metadata": {},
   "outputs": [],
   "source": [
    "X = DiscreteUniform('X', range(16))\n",
    "X"
   ]
  },
  {
   "cell_type": "code",
   "execution_count": null,
   "metadata": {},
   "outputs": [],
   "source": [
    "E(X**2)"
   ]
  },
  {
   "cell_type": "code",
   "execution_count": null,
   "metadata": {},
   "outputs": [],
   "source": [
    "variance(X**2)"
   ]
  },
  {
   "cell_type": "code",
   "execution_count": null,
   "metadata": {},
   "outputs": [],
   "source": [
    "sample(X)"
   ]
  },
  {
   "cell_type": "code",
   "execution_count": null,
   "metadata": {},
   "outputs": [],
   "source": [
    "l = []\n",
    "for j in range(10000):\n",
    "    l.append(sample(X))"
   ]
  },
  {
   "cell_type": "markdown",
   "metadata": {},
   "source": [
    "# dasselbe in numpy"
   ]
  },
  {
   "cell_type": "code",
   "execution_count": null,
   "metadata": {},
   "outputs": [],
   "source": [
    "np.random.choice(np.arange(16), 10)"
   ]
  },
  {
   "cell_type": "code",
   "execution_count": null,
   "metadata": {},
   "outputs": [],
   "source": [
    "zv = np.random.choice(np.arange(16), 10000)"
   ]
  },
  {
   "cell_type": "markdown",
   "metadata": {},
   "source": [
    "Was ist der Unterschied?"
   ]
  },
  {
   "cell_type": "code",
   "execution_count": null,
   "metadata": {},
   "outputs": [],
   "source": [
    "x = S('x')\n",
    "f = sqrt(1+sin(x)**4)\n",
    "f"
   ]
  },
  {
   "cell_type": "code",
   "execution_count": null,
   "metadata": {},
   "outputs": [],
   "source": [
    "fn = lambdify(x, f)  # \"numpy\" ist default, wenn es installiert ist"
   ]
  },
  {
   "cell_type": "code",
   "execution_count": null,
   "metadata": {},
   "outputs": [],
   "source": [
    "fn(0)"
   ]
  },
  {
   "cell_type": "code",
   "execution_count": null,
   "metadata": {},
   "outputs": [],
   "source": [
    "fn(zv)  "
   ]
  },
  {
   "cell_type": "markdown",
   "metadata": {},
   "source": [
    "Was passiert hier?"
   ]
  },
  {
   "cell_type": "code",
   "execution_count": null,
   "metadata": {},
   "outputs": [],
   "source": [
    "g = besselk(2*I, x) / f\n",
    "g"
   ]
  },
  {
   "cell_type": "code",
   "execution_count": null,
   "metadata": {},
   "outputs": [],
   "source": [
    "ddg = g.diff(x, 2).simplify()\n",
    "ddg"
   ]
  },
  {
   "cell_type": "code",
   "execution_count": null,
   "metadata": {},
   "outputs": [],
   "source": [
    "ddgn = lambdify(x, ddg)"
   ]
  },
  {
   "cell_type": "code",
   "execution_count": null,
   "metadata": {},
   "outputs": [],
   "source": [
    "# ddgn(1)   # TypeError"
   ]
  },
  {
   "cell_type": "code",
   "execution_count": null,
   "metadata": {},
   "outputs": [],
   "source": [
    "ddgn = lambdify(x, ddg, modules=['scipy', 'numpy', 'mpmath'])"
   ]
  },
  {
   "cell_type": "code",
   "execution_count": null,
   "metadata": {},
   "outputs": [],
   "source": [
    "ddgn(1)"
   ]
  },
  {
   "cell_type": "code",
   "execution_count": null,
   "metadata": {},
   "outputs": [],
   "source": [
    "# ddgn(zv)   # TypeError"
   ]
  },
  {
   "cell_type": "markdown",
   "metadata": {},
   "source": [
    "`mpmath` beherrscht keine ufuncs"
   ]
  },
  {
   "cell_type": "markdown",
   "metadata": {},
   "source": [
    "# Ausgabe in anderen Programmiersprachen"
   ]
  },
  {
   "cell_type": "markdown",
   "metadata": {},
   "source": [
    "Gesetzt den Fall, Sie haben eine Fortran-Bibliothek, die komplexe Besselfunktionen beherrscht:"
   ]
  },
  {
   "cell_type": "code",
   "execution_count": null,
   "metadata": {},
   "outputs": [],
   "source": [
    "print(fcode(f))"
   ]
  },
  {
   "cell_type": "code",
   "execution_count": null,
   "metadata": {},
   "outputs": [],
   "source": [
    "print(fcode(ddg))"
   ]
  },
  {
   "cell_type": "code",
   "execution_count": null,
   "metadata": {},
   "outputs": [],
   "source": [
    "fc = fcode(ddg, user_functions={'besselk': 'my_lib_Kv'}, assign_to='res', standard=95)\n",
    "print(fc)"
   ]
  },
  {
   "cell_type": "code",
   "execution_count": null,
   "metadata": {},
   "outputs": [],
   "source": [
    "cc = cxxcode(ddg)\n",
    "print(cc)"
   ]
  },
  {
   "cell_type": "markdown",
   "metadata": {},
   "source": [
    "# Pattern matching "
   ]
  },
  {
   "cell_type": "code",
   "execution_count": null,
   "metadata": {},
   "outputs": [],
   "source": [
    "x = Symbol('x')\n",
    "w = Wild('w')   #  wildcard"
   ]
  },
  {
   "cell_type": "code",
   "execution_count": null,
   "metadata": {},
   "outputs": [],
   "source": [
    "pattern = sin(w)"
   ]
  },
  {
   "cell_type": "code",
   "execution_count": null,
   "metadata": {},
   "outputs": [],
   "source": [
    "a = sin(2*x+pi/4)\n",
    "a"
   ]
  },
  {
   "cell_type": "code",
   "execution_count": null,
   "metadata": {},
   "outputs": [],
   "source": [
    "m = a.match(pattern)\n",
    "m"
   ]
  },
  {
   "cell_type": "code",
   "execution_count": null,
   "metadata": {},
   "outputs": [],
   "source": [
    "b = 2*sin(w/2)*cos(w/2)\n",
    "b"
   ]
  },
  {
   "cell_type": "code",
   "execution_count": null,
   "metadata": {},
   "outputs": [],
   "source": [
    "b.subs(m)"
   ]
  },
  {
   "cell_type": "code",
   "execution_count": null,
   "metadata": {},
   "outputs": [],
   "source": [
    "def expand_sin_x_halbe(term):\n",
    "    x1 = Wild('w')\n",
    "    pattern = sin(w)\n",
    "    ersetzung = 2*sin(w/2)*cos(w/2)\n",
    "    m = term.match(pattern)\n",
    "    if m:\n",
    "        return ersetzung.subs(m)\n",
    "    else:\n",
    "        return term"
   ]
  },
  {
   "cell_type": "code",
   "execution_count": null,
   "metadata": {},
   "outputs": [],
   "source": [
    "expand_sin_x_halbe(sin(3*x))"
   ]
  },
  {
   "cell_type": "code",
   "execution_count": null,
   "metadata": {},
   "outputs": [],
   "source": [
    "f = sin(3*x+19)\n",
    "(expand_sin_x_halbe(f)-f).simplify()"
   ]
  },
  {
   "cell_type": "code",
   "execution_count": null,
   "metadata": {},
   "outputs": [],
   "source": [
    "f = 3*sin(x)\n",
    "expand_sin_x_halbe(f)"
   ]
  },
  {
   "cell_type": "code",
   "execution_count": null,
   "metadata": {},
   "outputs": [],
   "source": [
    "type(f)"
   ]
  },
  {
   "cell_type": "code",
   "execution_count": null,
   "metadata": {},
   "outputs": [],
   "source": [
    "f.args"
   ]
  },
  {
   "cell_type": "code",
   "execution_count": null,
   "metadata": {},
   "outputs": [],
   "source": [
    "expand_sin_x_halbe(f.args[0]) * expand_sin_x_halbe(f.args[1])"
   ]
  },
  {
   "cell_type": "code",
   "execution_count": null,
   "metadata": {},
   "outputs": [],
   "source": [
    "def expand_sin_x_halbe(ausdr):\n",
    "    ausdr = S(ausdr)\n",
    "    w = Wild('w')\n",
    "    pattern = sin(w)\n",
    "    ersetzung = 2*sin(w/2)*cos(w/2)\n",
    "    m = ausdr.match(pattern)\n",
    "    if m:\n",
    "        res = ersetzung.subs(m)\n",
    "    elif ausdr.is_Mul:\n",
    "        res = 1\n",
    "        for term in ausdr.args:\n",
    "            res = res * expand_sin_x_halbe(term)\n",
    "    elif ausdr.is_Add:\n",
    "        res = 0\n",
    "        for term in ausdr.args:\n",
    "            res = res + expand_sin_x_halbe(term)\n",
    "    else:\n",
    "        res = ausdr\n",
    "    return res"
   ]
  },
  {
   "cell_type": "code",
   "execution_count": null,
   "metadata": {},
   "outputs": [],
   "source": [
    "b = 3*sin(x)/(1+sin(x/2)**2)\n",
    "b"
   ]
  },
  {
   "cell_type": "code",
   "execution_count": null,
   "metadata": {},
   "outputs": [],
   "source": [
    "expand_sin_x_halbe(b)"
   ]
  },
  {
   "cell_type": "code",
   "execution_count": null,
   "metadata": {},
   "outputs": [],
   "source": [
    "x,y,z = symbols('x y z')\n",
    "a = x + y + z"
   ]
  },
  {
   "cell_type": "code",
   "execution_count": null,
   "metadata": {},
   "outputs": [],
   "source": [
    "a.args"
   ]
  },
  {
   "cell_type": "code",
   "execution_count": null,
   "metadata": {},
   "outputs": [],
   "source": [
    "a.func"
   ]
  },
  {
   "cell_type": "code",
   "execution_count": null,
   "metadata": {},
   "outputs": [],
   "source": [
    "a.func(*a.args)"
   ]
  },
  {
   "cell_type": "code",
   "execution_count": null,
   "metadata": {},
   "outputs": [],
   "source": [
    "def expand_sin_x_halbe(ausdr):\n",
    "    ausdr = S(ausdr)\n",
    "    w = Wild('w')\n",
    "    pattern = sin(w)\n",
    "    ersetzung = 2*sin(w/2)*cos(w/2)\n",
    "    m = ausdr.match(pattern)\n",
    "    if m:\n",
    "        res = ersetzung.subs(m)\n",
    "    else:\n",
    "        try:\n",
    "            f = ausdr.func\n",
    "        except AttributeError:\n",
    "            res = ausdr\n",
    "        args = ausdr.args\n",
    "        if len(args) == 0:\n",
    "            res = ausdr\n",
    "        else:\n",
    "            liste = []\n",
    "            for l in args:\n",
    "                liste.append(expand_sin_x_halbe(l))\n",
    "            res = f(*liste)\n",
    "    return res"
   ]
  },
  {
   "cell_type": "code",
   "execution_count": null,
   "metadata": {},
   "outputs": [],
   "source": [
    "expand_sin_x_halbe(2*sin(x/2))"
   ]
  },
  {
   "cell_type": "code",
   "execution_count": null,
   "metadata": {},
   "outputs": [],
   "source": [
    "expand_sin_x_halbe(b)"
   ]
  },
  {
   "cell_type": "markdown",
   "metadata": {},
   "source": [
    "# Zurück zu den Besselfunktionen"
   ]
  },
  {
   "cell_type": "code",
   "execution_count": null,
   "metadata": {},
   "outputs": [],
   "source": [
    "nu = S('nu')"
   ]
  },
  {
   "cell_type": "code",
   "execution_count": null,
   "metadata": {},
   "outputs": [],
   "source": [
    "f = besselj(nu, x)\n",
    "g = bessely(nu, x)"
   ]
  },
  {
   "cell_type": "code",
   "execution_count": null,
   "metadata": {},
   "outputs": [],
   "source": [
    "M = Matrix([[f,g], [f.diff(x), g.diff(x)]])\n",
    "M"
   ]
  },
  {
   "cell_type": "code",
   "execution_count": null,
   "metadata": {},
   "outputs": [],
   "source": [
    "W = M.det().expand()\n",
    "W"
   ]
  },
  {
   "cell_type": "markdown",
   "metadata": {},
   "source": [
    "https://dlmf.nist.gov/10.6"
   ]
  },
  {
   "cell_type": "code",
   "execution_count": null,
   "metadata": {},
   "outputs": [],
   "source": [
    "def bessel_forward(ausdr, bessel, nu):\n",
    "    w1 = Wild('w1')\n",
    "    w2 = Wild('w2')\n",
    "    w3 = Wild('w3')\n",
    "    pattern = bessel(w1, w2)\n",
    "    if bessel == besselj or bessel == bessely:\n",
    "        ersetzung = -bessel(nu+2, w2) + 2*(nu+1)/w2*bessel(nu+1, w2)    \n",
    "    m = ausdr.match(pattern)\n",
    "    if m and w1.subs(m) == nu:\n",
    "        res = ersetzung.subs(m)\n",
    "    else:\n",
    "        try:\n",
    "            f = ausdr.func\n",
    "        except AttributeError:\n",
    "            res = ausdr\n",
    "        args = ausdr.args\n",
    "        if len(args) == 0:\n",
    "            res = ausdr\n",
    "        else:\n",
    "            liste = []\n",
    "            for l in args:\n",
    "                liste.append(bessel_forward(l, bessel, nu))\n",
    "            res = f(*liste)\n",
    "    return res"
   ]
  },
  {
   "cell_type": "code",
   "execution_count": null,
   "metadata": {},
   "outputs": [],
   "source": [
    "def bessel_backward(ausdr, bessel, nu):\n",
    "    w1 = Wild('w1')\n",
    "    w2 = Wild('w2')\n",
    "    w3 = Wild('w3')\n",
    "    pattern = bessel(w1, w2)\n",
    "    if bessel == besselj or bessel == bessely:\n",
    "        ersetzung = -bessel(nu-2, w2) + 2*(nu-1)/w2*bessel(nu-1, w2)            \n",
    "    m = ausdr.match(pattern)\n",
    "    if m and w1.subs(m) == nu:\n",
    "        res = ersetzung.subs(m)\n",
    "    else:\n",
    "        try:\n",
    "            f = ausdr.func\n",
    "        except AttributeError:\n",
    "            res = ausdr\n",
    "        args = ausdr.args\n",
    "        if len(args) == 0:\n",
    "            res = ausdr\n",
    "        else:\n",
    "            liste = []\n",
    "            for l in args:\n",
    "                liste.append(bessel_backward(l, bessel, nu))\n",
    "            res = f(*liste)\n",
    "    return res"
   ]
  },
  {
   "cell_type": "code",
   "execution_count": null,
   "metadata": {},
   "outputs": [],
   "source": [
    "tmp = bessel_forward(W, bessely, nu-1).expand()\n",
    "tmp"
   ]
  },
  {
   "cell_type": "code",
   "execution_count": null,
   "metadata": {},
   "outputs": [],
   "source": [
    "tmp = bessel_forward(tmp, besselj, nu-1).expand()\n",
    "tmp"
   ]
  },
  {
   "cell_type": "code",
   "execution_count": null,
   "metadata": {},
   "outputs": [],
   "source": [
    "tmp = tmp.diff(x).expand()"
   ]
  },
  {
   "cell_type": "code",
   "execution_count": null,
   "metadata": {},
   "outputs": [],
   "source": [
    "tmp = bessel_forward(tmp, bessely, nu-1).expand()\n",
    "tmp = bessel_forward(tmp, besselj, nu-1).expand()\n",
    "tmp"
   ]
  },
  {
   "cell_type": "code",
   "execution_count": null,
   "metadata": {},
   "outputs": [],
   "source": [
    "tmp = bessel_backward(tmp, bessely, nu+2).expand()\n",
    "tmp = bessel_backward(tmp, besselj, nu+2).expand()\n",
    "tmp"
   ]
  },
  {
   "cell_type": "markdown",
   "metadata": {},
   "source": [
    " Also erfüllt die Wronskische die Dgl $W'=-\\frac Wx$"
   ]
  },
  {
   "cell_type": "code",
   "execution_count": null,
   "metadata": {},
   "outputs": [],
   "source": [
    "y = Function('y')\n",
    "dgl = Eq(y(x).diff(), -y(x)/x)\n",
    "dgl"
   ]
  },
  {
   "cell_type": "code",
   "execution_count": null,
   "metadata": {},
   "outputs": [],
   "source": [
    "dsolve(dgl)"
   ]
  },
  {
   "cell_type": "code",
   "execution_count": null,
   "metadata": {},
   "outputs": [],
   "source": []
  }
 ],
 "metadata": {
  "kernelspec": {
   "display_name": "Python 3",
   "language": "python",
   "name": "python3"
  },
  "language_info": {
   "codemirror_mode": {
    "name": "ipython",
    "version": 3
   },
   "file_extension": ".py",
   "mimetype": "text/x-python",
   "name": "python",
   "nbconvert_exporter": "python",
   "pygments_lexer": "ipython3",
   "version": "3.8.5"
  }
 },
 "nbformat": 4,
 "nbformat_minor": 4
}
