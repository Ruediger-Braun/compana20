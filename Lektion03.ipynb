{
 "cells": [
  {
   "cell_type": "code",
   "execution_count": 1,
   "metadata": {
    "slideshow": {
     "slide_type": "slide"
    }
   },
   "outputs": [],
   "source": [
    "from sympy import *\n",
    "x = S('x')\n",
    "n = S('n')"
   ]
  },
  {
   "cell_type": "markdown",
   "metadata": {
    "slideshow": {
     "slide_type": "slide"
    }
   },
   "source": [
    "# Ableitungen"
   ]
  },
  {
   "cell_type": "code",
   "execution_count": 2,
   "metadata": {
    "slideshow": {
     "slide_type": "slide"
    }
   },
   "outputs": [],
   "source": [
    "f = x**n"
   ]
  },
  {
   "cell_type": "code",
   "execution_count": 3,
   "metadata": {},
   "outputs": [
    {
     "data": {
      "text/latex": [
       "$\\displaystyle \\frac{n x^{n}}{x}$"
      ],
      "text/plain": [
       "n*x**n/x"
      ]
     },
     "execution_count": 3,
     "metadata": {},
     "output_type": "execute_result"
    }
   ],
   "source": [
    "f.diff(x)"
   ]
  },
  {
   "cell_type": "code",
   "execution_count": 4,
   "metadata": {},
   "outputs": [
    {
     "data": {
      "text/latex": [
       "$\\displaystyle n x^{n - 1}$"
      ],
      "text/plain": [
       "n*x**(n - 1)"
      ]
     },
     "execution_count": 4,
     "metadata": {},
     "output_type": "execute_result"
    }
   ],
   "source": [
    "f.diff(x).powsimp()"
   ]
  },
  {
   "cell_type": "code",
   "execution_count": 5,
   "metadata": {
    "slideshow": {
     "slide_type": "fragment"
    }
   },
   "outputs": [
    {
     "data": {
      "text/latex": [
       "$\\displaystyle \\frac{n x^{n} \\left(n^{2} - 3 n + 2\\right)}{x^{3}}$"
      ],
      "text/plain": [
       "n*x**n*(n**2 - 3*n + 2)/x**3"
      ]
     },
     "execution_count": 5,
     "metadata": {},
     "output_type": "execute_result"
    }
   ],
   "source": [
    "f.diff(x,x,x)"
   ]
  },
  {
   "cell_type": "code",
   "execution_count": 6,
   "metadata": {},
   "outputs": [
    {
     "data": {
      "text/latex": [
       "$\\displaystyle n x^{n - 3} \\left(n - 2\\right) \\left(n - 1\\right)$"
      ],
      "text/plain": [
       "n*x**(n - 3)*(n - 2)*(n - 1)"
      ]
     },
     "execution_count": 6,
     "metadata": {},
     "output_type": "execute_result"
    }
   ],
   "source": [
    "f.diff(x,x,x).powsimp().factor()"
   ]
  },
  {
   "cell_type": "code",
   "execution_count": 7,
   "metadata": {},
   "outputs": [
    {
     "data": {
      "text/latex": [
       "$\\displaystyle n x^{n - 7} \\left(n - 6\\right) \\left(n - 5\\right) \\left(n - 4\\right) \\left(n - 3\\right) \\left(n - 2\\right) \\left(n - 1\\right)$"
      ],
      "text/plain": [
       "n*x**(n - 7)*(n - 6)*(n - 5)*(n - 4)*(n - 3)*(n - 2)*(n - 1)"
      ]
     },
     "execution_count": 7,
     "metadata": {},
     "output_type": "execute_result"
    }
   ],
   "source": [
    "f.diff(x,7).powsimp().factor()"
   ]
  },
  {
   "cell_type": "code",
   "execution_count": 8,
   "metadata": {
    "slideshow": {
     "slide_type": "slide"
    }
   },
   "outputs": [
    {
     "data": {
      "text/latex": [
       "$\\displaystyle x^{n}$"
      ],
      "text/plain": [
       "x**n"
      ]
     },
     "execution_count": 8,
     "metadata": {},
     "output_type": "execute_result"
    }
   ],
   "source": [
    "f.diff(x,0)"
   ]
  },
  {
   "cell_type": "code",
   "execution_count": 80,
   "metadata": {},
   "outputs": [],
   "source": [
    "#f.diff()   # Fehler:  ValueError"
   ]
  },
  {
   "cell_type": "code",
   "execution_count": 10,
   "metadata": {
    "slideshow": {
     "slide_type": "slide"
    }
   },
   "outputs": [
    {
     "data": {
      "text/latex": [
       "$\\displaystyle - 4 x \\sin^{2}{\\left(x^{2} \\right)} + 2 x$"
      ],
      "text/plain": [
       "-4*x*sin(x**2)**2 + 2*x"
      ]
     },
     "execution_count": 10,
     "metadata": {},
     "output_type": "execute_result"
    }
   ],
   "source": [
    "g = sin(x**2)*cos(x**2)\n",
    "g.diff().trigsimp()"
   ]
  },
  {
   "cell_type": "markdown",
   "metadata": {},
   "source": [
    "So ist das Leben"
   ]
  },
  {
   "cell_type": "markdown",
   "metadata": {
    "slideshow": {
     "slide_type": "slide"
    }
   },
   "source": [
    "# Beispiel:  Grenzwert mit Regel von l'Hôpital"
   ]
  },
  {
   "cell_type": "code",
   "execution_count": 11,
   "metadata": {},
   "outputs": [
    {
     "data": {
      "text/latex": [
       "$\\displaystyle \\frac{\\cos{\\left(\\pi x \\right)}}{2 x - 1}$"
      ],
      "text/plain": [
       "cos(pi*x)/(2*x - 1)"
      ]
     },
     "execution_count": 11,
     "metadata": {},
     "output_type": "execute_result"
    }
   ],
   "source": [
    "a = (cos(pi*x))/(2*x-1)\n",
    "a"
   ]
  },
  {
   "cell_type": "code",
   "execution_count": 12,
   "metadata": {
    "slideshow": {
     "slide_type": "fragment"
    }
   },
   "outputs": [],
   "source": [
    "n = numer(a)   # numer ist keine Methode\n",
    "d = denom(a)"
   ]
  },
  {
   "cell_type": "code",
   "execution_count": 13,
   "metadata": {
    "slideshow": {
     "slide_type": "slide"
    }
   },
   "outputs": [
    {
     "data": {
      "text/latex": [
       "$\\displaystyle - \\pi \\sin{\\left(\\pi x \\right)}$"
      ],
      "text/plain": [
       "-pi*sin(pi*x)"
      ]
     },
     "execution_count": 13,
     "metadata": {},
     "output_type": "execute_result"
    }
   ],
   "source": [
    "n.diff(x)"
   ]
  },
  {
   "cell_type": "code",
   "execution_count": 14,
   "metadata": {},
   "outputs": [
    {
     "data": {
      "text/latex": [
       "$\\displaystyle - \\pi$"
      ],
      "text/plain": [
       "-pi"
      ]
     },
     "execution_count": 14,
     "metadata": {},
     "output_type": "execute_result"
    }
   ],
   "source": [
    "n1 = n.diff(x).subs(x, Rational(1,2))\n",
    "n1"
   ]
  },
  {
   "cell_type": "code",
   "execution_count": 15,
   "metadata": {
    "slideshow": {
     "slide_type": "slide"
    }
   },
   "outputs": [
    {
     "data": {
      "text/latex": [
       "$\\displaystyle 2$"
      ],
      "text/plain": [
       "2"
      ]
     },
     "execution_count": 15,
     "metadata": {},
     "output_type": "execute_result"
    }
   ],
   "source": [
    "d1 = d.diff(x).subs(x, Rational(1,2))\n",
    "d1"
   ]
  },
  {
   "cell_type": "code",
   "execution_count": 16,
   "metadata": {},
   "outputs": [
    {
     "data": {
      "text/latex": [
       "$\\displaystyle - \\frac{\\pi}{2}$"
      ],
      "text/plain": [
       "-pi/2"
      ]
     },
     "execution_count": 16,
     "metadata": {},
     "output_type": "execute_result"
    }
   ],
   "source": [
    "l = n1/d1\n",
    "l"
   ]
  },
  {
   "cell_type": "code",
   "execution_count": 17,
   "metadata": {
    "slideshow": {
     "slide_type": "fragment"
    }
   },
   "outputs": [
    {
     "data": {
      "text/plain": [
       "True"
      ]
     },
     "execution_count": 17,
     "metadata": {},
     "output_type": "execute_result"
    }
   ],
   "source": [
    "l ==  a.limit(x, Rational(1,2))"
   ]
  },
  {
   "cell_type": "markdown",
   "metadata": {
    "slideshow": {
     "slide_type": "slide"
    }
   },
   "source": [
    "# Unbestimmte Integrale"
   ]
  },
  {
   "cell_type": "code",
   "execution_count": 18,
   "metadata": {
    "slideshow": {
     "slide_type": "slide"
    }
   },
   "outputs": [
    {
     "data": {
      "text/latex": [
       "$\\displaystyle x^{n}$"
      ],
      "text/plain": [
       "x**n"
      ]
     },
     "execution_count": 18,
     "metadata": {},
     "output_type": "execute_result"
    }
   ],
   "source": [
    "f"
   ]
  },
  {
   "cell_type": "code",
   "execution_count": 19,
   "metadata": {},
   "outputs": [
    {
     "data": {
      "text/latex": [
       "$\\displaystyle \\int x^{n}\\, dx$"
      ],
      "text/plain": [
       "Integral(x**n, x)"
      ]
     },
     "execution_count": 19,
     "metadata": {},
     "output_type": "execute_result"
    }
   ],
   "source": [
    "I1 = Integral(f, x)  # Warum darf diese Variable nicht I heißen?\n",
    "I1"
   ]
  },
  {
   "cell_type": "code",
   "execution_count": 20,
   "metadata": {},
   "outputs": [
    {
     "data": {
      "text/latex": [
       "$\\displaystyle \\begin{cases} \\frac{x^{n + 1}}{n + 1} & \\text{for}\\: n \\neq -1 \\\\\\log{\\left(x \\right)} & \\text{otherwise} \\end{cases}$"
      ],
      "text/plain": [
       "Piecewise((x**(n + 1)/(n + 1), Ne(n, -1)), (log(x), True))"
      ]
     },
     "execution_count": 20,
     "metadata": {},
     "output_type": "execute_result"
    }
   ],
   "source": [
    "F = I1.doit()\n",
    "F"
   ]
  },
  {
   "cell_type": "code",
   "execution_count": 22,
   "metadata": {
    "slideshow": {
     "slide_type": "fragment"
    }
   },
   "outputs": [
    {
     "data": {
      "text/latex": [
       "$\\displaystyle \\begin{cases} x^{n} & \\text{for}\\: n \\neq -1 \\\\\\frac{1}{x} & \\text{otherwise} \\end{cases}$"
      ],
      "text/plain": [
       "Piecewise((x**n, Ne(n, -1)), (1/x, True))"
      ]
     },
     "execution_count": 22,
     "metadata": {},
     "output_type": "execute_result"
    }
   ],
   "source": [
    "F.diff(x).simplify()"
   ]
  },
  {
   "cell_type": "code",
   "execution_count": 23,
   "metadata": {
    "slideshow": {
     "slide_type": "slide"
    }
   },
   "outputs": [
    {
     "data": {
      "text/latex": [
       "$\\displaystyle \\frac{x^{n + 1}}{n + 1}$"
      ],
      "text/plain": [
       "x**(n + 1)/(n + 1)"
      ]
     },
     "execution_count": 23,
     "metadata": {},
     "output_type": "execute_result"
    }
   ],
   "source": [
    "I1.doit(conds='none')"
   ]
  },
  {
   "cell_type": "markdown",
   "metadata": {
    "slideshow": {
     "slide_type": "fragment"
    }
   },
   "source": [
    "Jetzt liegt die Verantwortung allerdings bei uns!"
   ]
  },
  {
   "cell_type": "code",
   "execution_count": 25,
   "metadata": {
    "slideshow": {
     "slide_type": "slide"
    }
   },
   "outputs": [
    {
     "data": {
      "text/latex": [
       "$\\displaystyle \\int \\frac{1}{x^{4} + 1}\\, dx$"
      ],
      "text/plain": [
       "Integral(1/(x**4 + 1), x)"
      ]
     },
     "execution_count": 25,
     "metadata": {},
     "output_type": "execute_result"
    }
   ],
   "source": [
    "g = 1/(1+x**4)\n",
    "I2 = Integral(g, x)\n",
    "I2"
   ]
  },
  {
   "cell_type": "code",
   "execution_count": 26,
   "metadata": {},
   "outputs": [
    {
     "data": {
      "text/latex": [
       "$\\displaystyle - \\frac{\\sqrt{2} \\log{\\left(x^{2} - \\sqrt{2} x + 1 \\right)}}{8} + \\frac{\\sqrt{2} \\log{\\left(x^{2} + \\sqrt{2} x + 1 \\right)}}{8} + \\frac{\\sqrt{2} \\operatorname{atan}{\\left(\\sqrt{2} x - 1 \\right)}}{4} + \\frac{\\sqrt{2} \\operatorname{atan}{\\left(\\sqrt{2} x + 1 \\right)}}{4}$"
      ],
      "text/plain": [
       "-sqrt(2)*log(x**2 - sqrt(2)*x + 1)/8 + sqrt(2)*log(x**2 + sqrt(2)*x + 1)/8 + sqrt(2)*atan(sqrt(2)*x - 1)/4 + sqrt(2)*atan(sqrt(2)*x + 1)/4"
      ]
     },
     "execution_count": 26,
     "metadata": {},
     "output_type": "execute_result"
    }
   ],
   "source": [
    "G = I2.doit()\n",
    "G"
   ]
  },
  {
   "cell_type": "code",
   "execution_count": 27,
   "metadata": {
    "slideshow": {
     "slide_type": "slide"
    }
   },
   "outputs": [
    {
     "data": {
      "text/plain": [
       "False"
      ]
     },
     "execution_count": 27,
     "metadata": {},
     "output_type": "execute_result"
    }
   ],
   "source": [
    "G.diff(x) == g"
   ]
  },
  {
   "cell_type": "code",
   "execution_count": 28,
   "metadata": {},
   "outputs": [
    {
     "data": {
      "text/latex": [
       "$\\displaystyle - \\frac{\\sqrt{2} \\left(2 x - \\sqrt{2}\\right)}{8 \\left(x^{2} - \\sqrt{2} x + 1\\right)} + \\frac{\\sqrt{2} \\left(2 x + \\sqrt{2}\\right)}{8 \\left(x^{2} + \\sqrt{2} x + 1\\right)} + \\frac{1}{2 \\left(\\left(\\sqrt{2} x + 1\\right)^{2} + 1\\right)} + \\frac{1}{2 \\left(\\left(\\sqrt{2} x - 1\\right)^{2} + 1\\right)}$"
      ],
      "text/plain": [
       "-sqrt(2)*(2*x - sqrt(2))/(8*(x**2 - sqrt(2)*x + 1)) + sqrt(2)*(2*x + sqrt(2))/(8*(x**2 + sqrt(2)*x + 1)) + 1/(2*((sqrt(2)*x + 1)**2 + 1)) + 1/(2*((sqrt(2)*x - 1)**2 + 1))"
      ]
     },
     "execution_count": 28,
     "metadata": {},
     "output_type": "execute_result"
    }
   ],
   "source": [
    "G.diff(x)"
   ]
  },
  {
   "cell_type": "code",
   "execution_count": 29,
   "metadata": {},
   "outputs": [
    {
     "data": {
      "text/latex": [
       "$\\displaystyle \\frac{1}{x^{4} + 1}$"
      ],
      "text/plain": [
       "1/(x**4 + 1)"
      ]
     },
     "execution_count": 29,
     "metadata": {},
     "output_type": "execute_result"
    }
   ],
   "source": [
    "G.diff(x).ratsimp()"
   ]
  },
  {
   "cell_type": "markdown",
   "metadata": {
    "slideshow": {
     "slide_type": "slide"
    }
   },
   "source": [
    "# Bestimmte Integrale"
   ]
  },
  {
   "cell_type": "code",
   "execution_count": 30,
   "metadata": {
    "slideshow": {
     "slide_type": "slide"
    }
   },
   "outputs": [
    {
     "data": {
      "text/latex": [
       "$\\displaystyle \\int\\limits_{-\\infty}^{\\infty} \\frac{1}{x^{4} + 1}\\, dx$"
      ],
      "text/plain": [
       "Integral(1/(x**4 + 1), (x, -oo, oo))"
      ]
     },
     "execution_count": 30,
     "metadata": {},
     "output_type": "execute_result"
    }
   ],
   "source": [
    "I3 = Integral(g, (x,-oo,oo))\n",
    "I3"
   ]
  },
  {
   "cell_type": "code",
   "execution_count": 31,
   "metadata": {},
   "outputs": [
    {
     "data": {
      "text/latex": [
       "$\\displaystyle \\frac{\\sqrt{2} \\pi}{2}$"
      ],
      "text/plain": [
       "sqrt(2)*pi/2"
      ]
     },
     "execution_count": 31,
     "metadata": {},
     "output_type": "execute_result"
    }
   ],
   "source": [
    "I3.doit()"
   ]
  },
  {
   "cell_type": "code",
   "execution_count": 32,
   "metadata": {
    "slideshow": {
     "slide_type": "fragment"
    }
   },
   "outputs": [
    {
     "data": {
      "text/latex": [
       "$\\displaystyle \\frac{\\sqrt{2} \\pi}{2}$"
      ],
      "text/plain": [
       "sqrt(2)*pi/2"
      ]
     },
     "execution_count": 32,
     "metadata": {},
     "output_type": "execute_result"
    }
   ],
   "source": [
    "G.limit(x, oo) - G.limit(x, -oo)"
   ]
  },
  {
   "cell_type": "code",
   "execution_count": 34,
   "metadata": {
    "slideshow": {
     "slide_type": "slide"
    }
   },
   "outputs": [
    {
     "data": {
      "text/latex": [
       "$\\displaystyle \\int\\limits_{0}^{1} \\sqrt{e^{x} + 4}\\, dx$"
      ],
      "text/plain": [
       "Integral(sqrt(exp(x) + 4), (x, 0, 1))"
      ]
     },
     "execution_count": 34,
     "metadata": {},
     "output_type": "execute_result"
    }
   ],
   "source": [
    "h = sqrt(exp(x)+4)\n",
    "I4 = Integral(h, (x,0,1)) \n",
    "I4"
   ]
  },
  {
   "cell_type": "code",
   "execution_count": 36,
   "metadata": {},
   "outputs": [
    {
     "data": {
      "text/latex": [
       "$\\displaystyle - 2 \\sqrt{5} - 2 \\log{\\left(2 + \\sqrt{e + 4} \\right)} + 2 \\log{\\left(-2 + \\sqrt{e + 4} \\right)} - 2 \\log{\\left(-2 + \\sqrt{5} \\right)} + 2 \\log{\\left(2 + \\sqrt{5} \\right)} + 2 \\sqrt{e + 4}$"
      ],
      "text/plain": [
       "-2*sqrt(5) - 2*log(2 + sqrt(E + 4)) + 2*log(-2 + sqrt(E + 4)) - 2*log(-2 + sqrt(5)) + 2*log(2 + sqrt(5)) + 2*sqrt(E + 4)"
      ]
     },
     "execution_count": 36,
     "metadata": {},
     "output_type": "execute_result"
    }
   ],
   "source": [
    "I4.doit()"
   ]
  },
  {
   "cell_type": "markdown",
   "metadata": {
    "slideshow": {
     "slide_type": "fragment"
    }
   },
   "source": [
    "Das konnte er vor 4 Jahren noch nicht. Probe:"
   ]
  },
  {
   "cell_type": "code",
   "execution_count": 37,
   "metadata": {},
   "outputs": [
    {
     "data": {
      "text/latex": [
       "$\\displaystyle 2.38910363799198$"
      ],
      "text/plain": [
       "2.38910363799198"
      ]
     },
     "execution_count": 37,
     "metadata": {},
     "output_type": "execute_result"
    }
   ],
   "source": [
    "I4.doit().n()"
   ]
  },
  {
   "cell_type": "code",
   "execution_count": 38,
   "metadata": {},
   "outputs": [
    {
     "data": {
      "text/latex": [
       "$\\displaystyle 2.38910363799198$"
      ],
      "text/plain": [
       "2.38910363799198"
      ]
     },
     "execution_count": 38,
     "metadata": {},
     "output_type": "execute_result"
    }
   ],
   "source": [
    "I4.n()"
   ]
  },
  {
   "cell_type": "markdown",
   "metadata": {
    "slideshow": {
     "slide_type": "slide"
    }
   },
   "source": [
    "Das ist wirklich verschieden:"
   ]
  },
  {
   "cell_type": "code",
   "execution_count": 39,
   "metadata": {},
   "outputs": [
    {
     "name": "stdout",
     "output_type": "stream",
     "text": [
      "1.06 s ± 19.7 ms per loop (mean ± std. dev. of 7 runs, 1 loop each)\n"
     ]
    }
   ],
   "source": [
    "%%timeit\n",
    "I4.doit().n()"
   ]
  },
  {
   "cell_type": "code",
   "execution_count": 40,
   "metadata": {},
   "outputs": [
    {
     "name": "stdout",
     "output_type": "stream",
     "text": [
      "4.65 ms ± 165 µs per loop (mean ± std. dev. of 7 runs, 100 loops each)\n"
     ]
    }
   ],
   "source": [
    "%%timeit\n",
    "I4.n()"
   ]
  },
  {
   "cell_type": "markdown",
   "metadata": {
    "slideshow": {
     "slide_type": "slide"
    }
   },
   "source": [
    "# Schleifen"
   ]
  },
  {
   "cell_type": "code",
   "execution_count": 43,
   "metadata": {},
   "outputs": [
    {
     "data": {
      "text/plain": [
       "[0, 1, 2, 3, 4, 5, 6, 7, 8, 9]"
      ]
     },
     "execution_count": 43,
     "metadata": {},
     "output_type": "execute_result"
    }
   ],
   "source": [
    "list(range(10))"
   ]
  },
  {
   "cell_type": "code",
   "execution_count": 41,
   "metadata": {
    "slideshow": {
     "slide_type": "slide"
    }
   },
   "outputs": [
    {
     "name": "stdout",
     "output_type": "stream",
     "text": [
      "0\n",
      "1\n",
      "2\n",
      "3\n",
      "4\n",
      "5\n",
      "6\n",
      "7\n",
      "8\n",
      "9\n"
     ]
    }
   ],
   "source": [
    "for j in range(10):\n",
    "    print(j)"
   ]
  },
  {
   "cell_type": "markdown",
   "metadata": {
    "slideshow": {
     "slide_type": "fragment"
    }
   },
   "source": [
    "Blöcke werden durch Einrückung festgelegt"
   ]
  },
  {
   "cell_type": "code",
   "execution_count": 44,
   "metadata": {
    "scrolled": true,
    "slideshow": {
     "slide_type": "slide"
    }
   },
   "outputs": [
    {
     "data": {
      "text/latex": [
       "$\\displaystyle -3$"
      ],
      "text/plain": [
       "-3"
      ]
     },
     "metadata": {},
     "output_type": "display_data"
    },
    {
     "data": {
      "text/latex": [
       "$\\displaystyle - \\frac{3}{2}$"
      ],
      "text/plain": [
       "-3/2"
      ]
     },
     "metadata": {},
     "output_type": "display_data"
    },
    {
     "data": {
      "text/latex": [
       "$\\displaystyle -1$"
      ],
      "text/plain": [
       "-1"
      ]
     },
     "metadata": {},
     "output_type": "display_data"
    },
    {
     "data": {
      "text/latex": [
       "$\\displaystyle - \\frac{3}{4}$"
      ],
      "text/plain": [
       "-3/4"
      ]
     },
     "metadata": {},
     "output_type": "display_data"
    },
    {
     "data": {
      "text/latex": [
       "$\\displaystyle -2$"
      ],
      "text/plain": [
       "-2"
      ]
     },
     "metadata": {},
     "output_type": "display_data"
    },
    {
     "data": {
      "text/latex": [
       "$\\displaystyle -1$"
      ],
      "text/plain": [
       "-1"
      ]
     },
     "metadata": {},
     "output_type": "display_data"
    },
    {
     "data": {
      "text/latex": [
       "$\\displaystyle - \\frac{2}{3}$"
      ],
      "text/plain": [
       "-2/3"
      ]
     },
     "metadata": {},
     "output_type": "display_data"
    },
    {
     "data": {
      "text/latex": [
       "$\\displaystyle - \\frac{1}{2}$"
      ],
      "text/plain": [
       "-1/2"
      ]
     },
     "metadata": {},
     "output_type": "display_data"
    },
    {
     "data": {
      "text/latex": [
       "$\\displaystyle -1$"
      ],
      "text/plain": [
       "-1"
      ]
     },
     "metadata": {},
     "output_type": "display_data"
    },
    {
     "data": {
      "text/latex": [
       "$\\displaystyle - \\frac{1}{2}$"
      ],
      "text/plain": [
       "-1/2"
      ]
     },
     "metadata": {},
     "output_type": "display_data"
    },
    {
     "data": {
      "text/latex": [
       "$\\displaystyle - \\frac{1}{3}$"
      ],
      "text/plain": [
       "-1/3"
      ]
     },
     "metadata": {},
     "output_type": "display_data"
    },
    {
     "data": {
      "text/latex": [
       "$\\displaystyle - \\frac{1}{4}$"
      ],
      "text/plain": [
       "-1/4"
      ]
     },
     "metadata": {},
     "output_type": "display_data"
    },
    {
     "data": {
      "text/latex": [
       "$\\displaystyle 0$"
      ],
      "text/plain": [
       "0"
      ]
     },
     "metadata": {},
     "output_type": "display_data"
    },
    {
     "data": {
      "text/latex": [
       "$\\displaystyle 0$"
      ],
      "text/plain": [
       "0"
      ]
     },
     "metadata": {},
     "output_type": "display_data"
    },
    {
     "data": {
      "text/latex": [
       "$\\displaystyle 0$"
      ],
      "text/plain": [
       "0"
      ]
     },
     "metadata": {},
     "output_type": "display_data"
    },
    {
     "data": {
      "text/latex": [
       "$\\displaystyle 0$"
      ],
      "text/plain": [
       "0"
      ]
     },
     "metadata": {},
     "output_type": "display_data"
    },
    {
     "data": {
      "text/latex": [
       "$\\displaystyle 1$"
      ],
      "text/plain": [
       "1"
      ]
     },
     "metadata": {},
     "output_type": "display_data"
    },
    {
     "data": {
      "text/latex": [
       "$\\displaystyle \\frac{1}{2}$"
      ],
      "text/plain": [
       "1/2"
      ]
     },
     "metadata": {},
     "output_type": "display_data"
    },
    {
     "data": {
      "text/latex": [
       "$\\displaystyle \\frac{1}{3}$"
      ],
      "text/plain": [
       "1/3"
      ]
     },
     "metadata": {},
     "output_type": "display_data"
    },
    {
     "data": {
      "text/latex": [
       "$\\displaystyle \\frac{1}{4}$"
      ],
      "text/plain": [
       "1/4"
      ]
     },
     "metadata": {},
     "output_type": "display_data"
    },
    {
     "data": {
      "text/latex": [
       "$\\displaystyle 2$"
      ],
      "text/plain": [
       "2"
      ]
     },
     "metadata": {},
     "output_type": "display_data"
    },
    {
     "data": {
      "text/latex": [
       "$\\displaystyle 1$"
      ],
      "text/plain": [
       "1"
      ]
     },
     "metadata": {},
     "output_type": "display_data"
    },
    {
     "data": {
      "text/latex": [
       "$\\displaystyle \\frac{2}{3}$"
      ],
      "text/plain": [
       "2/3"
      ]
     },
     "metadata": {},
     "output_type": "display_data"
    },
    {
     "data": {
      "text/latex": [
       "$\\displaystyle \\frac{1}{2}$"
      ],
      "text/plain": [
       "1/2"
      ]
     },
     "metadata": {},
     "output_type": "display_data"
    }
   ],
   "source": [
    "for p in range(-3, 3):\n",
    "    for q in range(1,5):\n",
    "        display(Rational(p,q)) "
   ]
  },
  {
   "cell_type": "code",
   "execution_count": 45,
   "metadata": {
    "scrolled": true,
    "slideshow": {
     "slide_type": "slide"
    }
   },
   "outputs": [
    {
     "name": "stdout",
     "output_type": "stream",
     "text": [
      "p=-3, q=1\n"
     ]
    },
    {
     "data": {
      "text/latex": [
       "$\\displaystyle -3$"
      ],
      "text/plain": [
       "-3"
      ]
     },
     "metadata": {},
     "output_type": "display_data"
    },
    {
     "name": "stdout",
     "output_type": "stream",
     "text": [
      "p=-3, q=2\n"
     ]
    },
    {
     "data": {
      "text/latex": [
       "$\\displaystyle - \\frac{3}{2}$"
      ],
      "text/plain": [
       "-3/2"
      ]
     },
     "metadata": {},
     "output_type": "display_data"
    },
    {
     "name": "stdout",
     "output_type": "stream",
     "text": [
      "p=-3, q=3\n"
     ]
    },
    {
     "data": {
      "text/latex": [
       "$\\displaystyle -1$"
      ],
      "text/plain": [
       "-1"
      ]
     },
     "metadata": {},
     "output_type": "display_data"
    },
    {
     "name": "stdout",
     "output_type": "stream",
     "text": [
      "p=-2, q=1\n"
     ]
    },
    {
     "data": {
      "text/latex": [
       "$\\displaystyle -2$"
      ],
      "text/plain": [
       "-2"
      ]
     },
     "metadata": {},
     "output_type": "display_data"
    },
    {
     "name": "stdout",
     "output_type": "stream",
     "text": [
      "p=-2, q=2\n"
     ]
    },
    {
     "data": {
      "text/latex": [
       "$\\displaystyle -1$"
      ],
      "text/plain": [
       "-1"
      ]
     },
     "metadata": {},
     "output_type": "display_data"
    },
    {
     "name": "stdout",
     "output_type": "stream",
     "text": [
      "p=-2, q=3\n"
     ]
    },
    {
     "data": {
      "text/latex": [
       "$\\displaystyle - \\frac{2}{3}$"
      ],
      "text/plain": [
       "-2/3"
      ]
     },
     "metadata": {},
     "output_type": "display_data"
    },
    {
     "name": "stdout",
     "output_type": "stream",
     "text": [
      "p=-1, q=1\n"
     ]
    },
    {
     "data": {
      "text/latex": [
       "$\\displaystyle -1$"
      ],
      "text/plain": [
       "-1"
      ]
     },
     "metadata": {},
     "output_type": "display_data"
    },
    {
     "name": "stdout",
     "output_type": "stream",
     "text": [
      "p=-1, q=2\n"
     ]
    },
    {
     "data": {
      "text/latex": [
       "$\\displaystyle - \\frac{1}{2}$"
      ],
      "text/plain": [
       "-1/2"
      ]
     },
     "metadata": {},
     "output_type": "display_data"
    },
    {
     "name": "stdout",
     "output_type": "stream",
     "text": [
      "p=-1, q=3\n"
     ]
    },
    {
     "data": {
      "text/latex": [
       "$\\displaystyle - \\frac{1}{3}$"
      ],
      "text/plain": [
       "-1/3"
      ]
     },
     "metadata": {},
     "output_type": "display_data"
    },
    {
     "name": "stdout",
     "output_type": "stream",
     "text": [
      "p=0, q=1\n"
     ]
    },
    {
     "data": {
      "text/latex": [
       "$\\displaystyle 0$"
      ],
      "text/plain": [
       "0"
      ]
     },
     "metadata": {},
     "output_type": "display_data"
    },
    {
     "name": "stdout",
     "output_type": "stream",
     "text": [
      "p=0, q=2\n"
     ]
    },
    {
     "data": {
      "text/latex": [
       "$\\displaystyle 0$"
      ],
      "text/plain": [
       "0"
      ]
     },
     "metadata": {},
     "output_type": "display_data"
    },
    {
     "name": "stdout",
     "output_type": "stream",
     "text": [
      "p=0, q=3\n"
     ]
    },
    {
     "data": {
      "text/latex": [
       "$\\displaystyle 0$"
      ],
      "text/plain": [
       "0"
      ]
     },
     "metadata": {},
     "output_type": "display_data"
    },
    {
     "name": "stdout",
     "output_type": "stream",
     "text": [
      "p=1, q=1\n"
     ]
    },
    {
     "data": {
      "text/latex": [
       "$\\displaystyle 1$"
      ],
      "text/plain": [
       "1"
      ]
     },
     "metadata": {},
     "output_type": "display_data"
    },
    {
     "name": "stdout",
     "output_type": "stream",
     "text": [
      "p=1, q=2\n"
     ]
    },
    {
     "data": {
      "text/latex": [
       "$\\displaystyle \\frac{1}{2}$"
      ],
      "text/plain": [
       "1/2"
      ]
     },
     "metadata": {},
     "output_type": "display_data"
    },
    {
     "name": "stdout",
     "output_type": "stream",
     "text": [
      "p=1, q=3\n"
     ]
    },
    {
     "data": {
      "text/latex": [
       "$\\displaystyle \\frac{1}{3}$"
      ],
      "text/plain": [
       "1/3"
      ]
     },
     "metadata": {},
     "output_type": "display_data"
    },
    {
     "name": "stdout",
     "output_type": "stream",
     "text": [
      "p=2, q=1\n"
     ]
    },
    {
     "data": {
      "text/latex": [
       "$\\displaystyle 2$"
      ],
      "text/plain": [
       "2"
      ]
     },
     "metadata": {},
     "output_type": "display_data"
    },
    {
     "name": "stdout",
     "output_type": "stream",
     "text": [
      "p=2, q=2\n"
     ]
    },
    {
     "data": {
      "text/latex": [
       "$\\displaystyle 1$"
      ],
      "text/plain": [
       "1"
      ]
     },
     "metadata": {},
     "output_type": "display_data"
    },
    {
     "name": "stdout",
     "output_type": "stream",
     "text": [
      "p=2, q=3\n"
     ]
    },
    {
     "data": {
      "text/latex": [
       "$\\displaystyle \\frac{2}{3}$"
      ],
      "text/plain": [
       "2/3"
      ]
     },
     "metadata": {},
     "output_type": "display_data"
    }
   ],
   "source": [
    "for p in range(-3,3):\n",
    "    for q in range(1, 4):\n",
    "        print(f\"p={p}, q={q}\")  # f-String:  für {x} wird der Wert von x eingesetzt\n",
    "        display(Rational(p,q))"
   ]
  },
  {
   "cell_type": "code",
   "execution_count": 46,
   "metadata": {
    "slideshow": {
     "slide_type": "slide"
    }
   },
   "outputs": [
    {
     "data": {
      "text/latex": [
       "$\\displaystyle \\frac{275295799}{77597520}$"
      ],
      "text/plain": [
       "275295799/77597520"
      ]
     },
     "execution_count": 46,
     "metadata": {},
     "output_type": "execute_result"
    }
   ],
   "source": [
    "summe = 0\n",
    "N = 20\n",
    "for n in range(1, N):\n",
    "    summe += Rational(1,n)\n",
    "    \n",
    "summe"
   ]
  },
  {
   "cell_type": "markdown",
   "metadata": {
    "slideshow": {
     "slide_type": "slide"
    }
   },
   "source": [
    "# Listen "
   ]
  },
  {
   "cell_type": "code",
   "execution_count": 47,
   "metadata": {
    "slideshow": {
     "slide_type": "slide"
    }
   },
   "outputs": [
    {
     "data": {
      "text/plain": [
       "[1, 4, 9]"
      ]
     },
     "execution_count": 47,
     "metadata": {},
     "output_type": "execute_result"
    }
   ],
   "source": [
    "l = [1,4,9]\n",
    "l"
   ]
  },
  {
   "cell_type": "code",
   "execution_count": 48,
   "metadata": {},
   "outputs": [
    {
     "data": {
      "text/plain": [
       "[1, 4, 9, 16]"
      ]
     },
     "execution_count": 48,
     "metadata": {},
     "output_type": "execute_result"
    }
   ],
   "source": [
    "l.append(16)\n",
    "l"
   ]
  },
  {
   "cell_type": "code",
   "execution_count": 49,
   "metadata": {},
   "outputs": [
    {
     "data": {
      "text/plain": [
       "1"
      ]
     },
     "execution_count": 49,
     "metadata": {},
     "output_type": "execute_result"
    }
   ],
   "source": [
    "l[0]"
   ]
  },
  {
   "cell_type": "code",
   "execution_count": 50,
   "metadata": {},
   "outputs": [
    {
     "data": {
      "text/plain": [
       "16"
      ]
     },
     "execution_count": 50,
     "metadata": {},
     "output_type": "execute_result"
    }
   ],
   "source": [
    "l[-1]"
   ]
  },
  {
   "cell_type": "code",
   "execution_count": 51,
   "metadata": {
    "slideshow": {
     "slide_type": "slide"
    }
   },
   "outputs": [
    {
     "data": {
      "text/plain": [
       "4"
      ]
     },
     "execution_count": 51,
     "metadata": {},
     "output_type": "execute_result"
    }
   ],
   "source": [
    "len(l)"
   ]
  },
  {
   "cell_type": "code",
   "execution_count": 52,
   "metadata": {},
   "outputs": [
    {
     "data": {
      "text/plain": [
       "[1, 9, 16]"
      ]
     },
     "execution_count": 52,
     "metadata": {},
     "output_type": "execute_result"
    }
   ],
   "source": [
    "del l[1]\n",
    "l"
   ]
  },
  {
   "cell_type": "code",
   "execution_count": 53,
   "metadata": {
    "slideshow": {
     "slide_type": "fragment"
    }
   },
   "outputs": [
    {
     "data": {
      "text/latex": [
       "$\\displaystyle 1$"
      ],
      "text/plain": [
       "1"
      ]
     },
     "metadata": {},
     "output_type": "display_data"
    },
    {
     "data": {
      "text/latex": [
       "$\\displaystyle 3$"
      ],
      "text/plain": [
       "3"
      ]
     },
     "metadata": {},
     "output_type": "display_data"
    },
    {
     "data": {
      "text/latex": [
       "$\\displaystyle 4$"
      ],
      "text/plain": [
       "4"
      ]
     },
     "metadata": {},
     "output_type": "display_data"
    }
   ],
   "source": [
    "for n in l:\n",
    "    display(sqrt(n))"
   ]
  },
  {
   "cell_type": "markdown",
   "metadata": {
    "slideshow": {
     "slide_type": "slide"
    }
   },
   "source": [
    "# Boolesche Operatoren"
   ]
  },
  {
   "cell_type": "code",
   "execution_count": 54,
   "metadata": {
    "slideshow": {
     "slide_type": "slide"
    }
   },
   "outputs": [
    {
     "data": {
      "text/plain": [
       "False"
      ]
     },
     "execution_count": 54,
     "metadata": {},
     "output_type": "execute_result"
    }
   ],
   "source": [
    "1 == 0"
   ]
  },
  {
   "cell_type": "code",
   "execution_count": 55,
   "metadata": {},
   "outputs": [
    {
     "data": {
      "text/plain": [
       "True"
      ]
     },
     "execution_count": 55,
     "metadata": {},
     "output_type": "execute_result"
    }
   ],
   "source": [
    "1 != 0"
   ]
  },
  {
   "cell_type": "code",
   "execution_count": 56,
   "metadata": {
    "slideshow": {
     "slide_type": "fragment"
    }
   },
   "outputs": [
    {
     "data": {
      "text/plain": [
       "True"
      ]
     },
     "execution_count": 56,
     "metadata": {},
     "output_type": "execute_result"
    }
   ],
   "source": [
    "1 <= 2"
   ]
  },
  {
   "cell_type": "markdown",
   "metadata": {},
   "source": [
    "Die anderen Vergleichsoperatoren sind <, > und >="
   ]
  },
  {
   "cell_type": "code",
   "execution_count": 57,
   "metadata": {
    "slideshow": {
     "slide_type": "slide"
    }
   },
   "outputs": [
    {
     "data": {
      "text/plain": [
       "False"
      ]
     },
     "execution_count": 57,
     "metadata": {},
     "output_type": "execute_result"
    }
   ],
   "source": [
    "not True"
   ]
  },
  {
   "cell_type": "markdown",
   "metadata": {},
   "source": [
    "Die binären logischen Operatoren sind & für \"und\" sowie | für \"oder\""
   ]
  },
  {
   "cell_type": "code",
   "execution_count": 58,
   "metadata": {},
   "outputs": [
    {
     "name": "stdout",
     "output_type": "stream",
     "text": [
      "True & True == True\n",
      "True & False == False\n",
      "False & True == False\n",
      "False & False == False\n"
     ]
    }
   ],
   "source": [
    "for a in [True, False]:\n",
    "    for b in [True, False]:\n",
    "        print(f\"{a} & {b} == {a & b}\")"
   ]
  },
  {
   "cell_type": "code",
   "execution_count": 59,
   "metadata": {},
   "outputs": [
    {
     "name": "stdout",
     "output_type": "stream",
     "text": [
      "True | True == True\n",
      "True | False == True\n",
      "False | True == True\n",
      "False | False == False\n"
     ]
    }
   ],
   "source": [
    "for a in [True, False]:\n",
    "    for b in [True, False]:\n",
    "        print(f\"{a} | {b} == {a | b}\")"
   ]
  },
  {
   "cell_type": "markdown",
   "metadata": {
    "slideshow": {
     "slide_type": "slide"
    }
   },
   "source": [
    "# Verzweigungen"
   ]
  },
  {
   "cell_type": "code",
   "execution_count": 60,
   "metadata": {
    "scrolled": true,
    "slideshow": {
     "slide_type": "slide"
    }
   },
   "outputs": [
    {
     "data": {
      "text/latex": [
       "$\\displaystyle -3$"
      ],
      "text/plain": [
       "-3"
      ]
     },
     "metadata": {},
     "output_type": "display_data"
    },
    {
     "data": {
      "text/latex": [
       "$\\displaystyle - \\frac{3}{2}$"
      ],
      "text/plain": [
       "-3/2"
      ]
     },
     "metadata": {},
     "output_type": "display_data"
    },
    {
     "data": {
      "text/latex": [
       "$\\displaystyle -1$"
      ],
      "text/plain": [
       "-1"
      ]
     },
     "metadata": {},
     "output_type": "display_data"
    },
    {
     "data": {
      "text/latex": [
       "$\\displaystyle -2$"
      ],
      "text/plain": [
       "-2"
      ]
     },
     "metadata": {},
     "output_type": "display_data"
    },
    {
     "data": {
      "text/latex": [
       "$\\displaystyle -1$"
      ],
      "text/plain": [
       "-1"
      ]
     },
     "metadata": {},
     "output_type": "display_data"
    },
    {
     "data": {
      "text/latex": [
       "$\\displaystyle - \\frac{2}{3}$"
      ],
      "text/plain": [
       "-2/3"
      ]
     },
     "metadata": {},
     "output_type": "display_data"
    },
    {
     "data": {
      "text/latex": [
       "$\\displaystyle -1$"
      ],
      "text/plain": [
       "-1"
      ]
     },
     "metadata": {},
     "output_type": "display_data"
    },
    {
     "data": {
      "text/latex": [
       "$\\displaystyle - \\frac{1}{2}$"
      ],
      "text/plain": [
       "-1/2"
      ]
     },
     "metadata": {},
     "output_type": "display_data"
    },
    {
     "data": {
      "text/latex": [
       "$\\displaystyle - \\frac{1}{3}$"
      ],
      "text/plain": [
       "-1/3"
      ]
     },
     "metadata": {},
     "output_type": "display_data"
    },
    {
     "data": {
      "text/plain": [
       "0"
      ]
     },
     "metadata": {},
     "output_type": "display_data"
    },
    {
     "data": {
      "text/latex": [
       "$\\displaystyle 1$"
      ],
      "text/plain": [
       "1"
      ]
     },
     "metadata": {},
     "output_type": "display_data"
    },
    {
     "data": {
      "text/latex": [
       "$\\displaystyle \\frac{1}{2}$"
      ],
      "text/plain": [
       "1/2"
      ]
     },
     "metadata": {},
     "output_type": "display_data"
    },
    {
     "data": {
      "text/latex": [
       "$\\displaystyle \\frac{1}{3}$"
      ],
      "text/plain": [
       "1/3"
      ]
     },
     "metadata": {},
     "output_type": "display_data"
    },
    {
     "data": {
      "text/latex": [
       "$\\displaystyle 2$"
      ],
      "text/plain": [
       "2"
      ]
     },
     "metadata": {},
     "output_type": "display_data"
    },
    {
     "data": {
      "text/latex": [
       "$\\displaystyle 1$"
      ],
      "text/plain": [
       "1"
      ]
     },
     "metadata": {},
     "output_type": "display_data"
    },
    {
     "data": {
      "text/latex": [
       "$\\displaystyle \\frac{2}{3}$"
      ],
      "text/plain": [
       "2/3"
      ]
     },
     "metadata": {},
     "output_type": "display_data"
    }
   ],
   "source": [
    "for p in range(-3, 3):\n",
    "    if p == 0:\n",
    "        display(0)\n",
    "    else:\n",
    "        for q in range(1, 4):\n",
    "            display(Rational(p,q))    "
   ]
  },
  {
   "cell_type": "code",
   "execution_count": 61,
   "metadata": {
    "slideshow": {
     "slide_type": "slide"
    }
   },
   "outputs": [
    {
     "name": "stdout",
     "output_type": "stream",
     "text": [
      "0 ist durch 3 teilbar\n",
      "1 lässt bei Division durch 3 den Rest 1\n",
      "3 ist durch 3 teilbar\n",
      "7 lässt bei Division durch 3 den Rest 1\n",
      "15 ist durch 3 teilbar\n",
      "31 lässt bei Division durch 3 den Rest 1\n",
      "63 ist durch 3 teilbar\n",
      "127 lässt bei Division durch 3 den Rest 1\n",
      "255 ist durch 3 teilbar\n",
      "511 lässt bei Division durch 3 den Rest 1\n",
      "1023 ist durch 3 teilbar\n",
      "2047 lässt bei Division durch 3 den Rest 1\n",
      "4095 ist durch 3 teilbar\n",
      "8191 lässt bei Division durch 3 den Rest 1\n",
      "16383 ist durch 3 teilbar\n",
      "32767 lässt bei Division durch 3 den Rest 1\n",
      "65535 ist durch 3 teilbar\n",
      "131071 lässt bei Division durch 3 den Rest 1\n",
      "262143 ist durch 3 teilbar\n",
      "524287 lässt bei Division durch 3 den Rest 1\n"
     ]
    }
   ],
   "source": [
    "for j in range(20):\n",
    "    n = 2**j - 1\n",
    "    rest = n % 3\n",
    "    if rest == 0:\n",
    "        print(f\"{n} ist durch 3 teilbar\")\n",
    "    elif rest == 1:\n",
    "        print(f\"{n} lässt bei Division durch 3 den Rest 1\")\n",
    "    else:\n",
    "        print(f\"{n} lässt bei Division durch 3 den Rest 2\")\n"
   ]
  },
  {
   "cell_type": "markdown",
   "metadata": {
    "slideshow": {
     "slide_type": "slide"
    }
   },
   "source": [
    "Finde das kleinste $m$ mit $\\sum_{j=1}^m \\frac1j > 5 $. "
   ]
  },
  {
   "cell_type": "code",
   "execution_count": 66,
   "metadata": {},
   "outputs": [
    {
     "data": {
      "text/plain": [
       "83"
      ]
     },
     "execution_count": 66,
     "metadata": {},
     "output_type": "execute_result"
    }
   ],
   "source": [
    "summe = 0\n",
    "for m in range(1, 1000000):\n",
    "    summe += Rational(1,m)\n",
    "    if summe > 5:\n",
    "        break\n",
    "\n",
    "m"
   ]
  },
  {
   "cell_type": "markdown",
   "metadata": {},
   "source": [
    "break bricht eine Schleife ab (bei verschachtelten Schleifen die innerste)"
   ]
  },
  {
   "cell_type": "markdown",
   "metadata": {
    "slideshow": {
     "slide_type": "slide"
    }
   },
   "source": [
    "# Polynome"
   ]
  },
  {
   "cell_type": "code",
   "execution_count": 67,
   "metadata": {
    "slideshow": {
     "slide_type": "slide"
    }
   },
   "outputs": [
    {
     "data": {
      "text/latex": [
       "$\\displaystyle x^{4} + 4 x^{3} + 6 x^{2} + 4 x + 1$"
      ],
      "text/plain": [
       "x**4 + 4*x**3 + 6*x**2 + 4*x + 1"
      ]
     },
     "execution_count": 67,
     "metadata": {},
     "output_type": "execute_result"
    }
   ],
   "source": [
    "p = ((x+1)**4).expand()\n",
    "p"
   ]
  },
  {
   "cell_type": "code",
   "execution_count": 71,
   "metadata": {},
   "outputs": [
    {
     "data": {
      "text/latex": [
       "$\\displaystyle 6$"
      ],
      "text/plain": [
       "6"
      ]
     },
     "execution_count": 71,
     "metadata": {},
     "output_type": "execute_result"
    }
   ],
   "source": [
    "p.coeff(x**2)"
   ]
  },
  {
   "cell_type": "code",
   "execution_count": 69,
   "metadata": {},
   "outputs": [
    {
     "data": {
      "text/latex": [
       "$\\displaystyle 1$"
      ],
      "text/plain": [
       "1"
      ]
     },
     "execution_count": 69,
     "metadata": {},
     "output_type": "execute_result"
    }
   ],
   "source": [
    "p.coeff(x, 0)"
   ]
  },
  {
   "cell_type": "code",
   "execution_count": 72,
   "metadata": {},
   "outputs": [
    {
     "data": {
      "text/latex": [
       "$\\displaystyle x^{4} + 1$"
      ],
      "text/plain": [
       "x**4 + 1"
      ]
     },
     "execution_count": 72,
     "metadata": {},
     "output_type": "execute_result"
    }
   ],
   "source": [
    "p.coeff(x**0)"
   ]
  },
  {
   "cell_type": "code",
   "execution_count": 73,
   "metadata": {
    "slideshow": {
     "slide_type": "slide"
    }
   },
   "outputs": [
    {
     "data": {
      "text/latex": [
       "$\\displaystyle x + y + \\left(x + y\\right) e^{x} + \\left(x + 2 y + \\left(x + y\\right) e^{x}\\right)^{2} + \\left(x + 3 y + \\left(x + y\\right) e^{x}\\right)^{3} + \\left(x + 4 y + \\left(x + y\\right) e^{x}\\right)^{4} + \\left(x + 5 y + \\left(x + y\\right) e^{x}\\right)^{5} + 1$"
      ],
      "text/plain": [
       "x + y + (x + y)*exp(x) + (x + 2*y + (x + y)*exp(x))**2 + (x + 3*y + (x + y)*exp(x))**3 + (x + 4*y + (x + y)*exp(x))**4 + (x + 5*y + (x + y)*exp(x))**5 + 1"
      ]
     },
     "execution_count": 73,
     "metadata": {},
     "output_type": "execute_result"
    }
   ],
   "source": [
    "y = S('y')\n",
    "p = 0\n",
    "for j in range(6):\n",
    "    p += (x+j*y + (x+y)*exp(x))**j\n",
    "\n",
    "p"
   ]
  },
  {
   "cell_type": "code",
   "execution_count": 74,
   "metadata": {
    "slideshow": {
     "slide_type": "slide"
    }
   },
   "outputs": [
    {
     "data": {
      "text/latex": [
       "$\\displaystyle x^{5} e^{5 x} + 5 x^{5} e^{4 x} + 10 x^{5} e^{3 x} + 10 x^{5} e^{2 x} + 5 x^{5} e^{x} + x^{5} + 5 x^{4} y e^{5 x} + 45 x^{4} y e^{4 x} + 130 x^{4} y e^{3 x} + 170 x^{4} y e^{2 x} + 105 x^{4} y e^{x} + 25 x^{4} y + x^{4} e^{4 x} + 4 x^{4} e^{3 x} + 6 x^{4} e^{2 x} + 4 x^{4} e^{x} + x^{4} + 10 x^{3} y^{2} e^{5 x} + 130 x^{3} y^{2} e^{4 x} + 580 x^{3} y^{2} e^{3 x} + 1060 x^{3} y^{2} e^{2 x} + 850 x^{3} y^{2} e^{x} + 250 x^{3} y^{2} + 4 x^{3} y e^{4 x} + 28 x^{3} y e^{3 x} + 60 x^{3} y e^{2 x} + 52 x^{3} y e^{x} + 16 x^{3} y + x^{3} e^{3 x} + 3 x^{3} e^{2 x} + 3 x^{3} e^{x} + x^{3} + 10 x^{2} y^{3} e^{5 x} + 170 x^{2} y^{3} e^{4 x} + 1060 x^{2} y^{3} e^{3 x} + 2900 x^{2} y^{3} e^{2 x} + 3250 x^{2} y^{3} e^{x} + 1250 x^{2} y^{3} + 6 x^{2} y^{2} e^{4 x} + 60 x^{2} y^{2} e^{3 x} + 198 x^{2} y^{2} e^{2 x} + 240 x^{2} y^{2} e^{x} + 96 x^{2} y^{2} + 3 x^{2} y e^{3 x} + 15 x^{2} y e^{2 x} + 21 x^{2} y e^{x} + 9 x^{2} y + x^{2} e^{2 x} + 2 x^{2} e^{x} + x^{2} + 5 x y^{4} e^{5 x} + 105 x y^{4} e^{4 x} + 850 x y^{4} e^{3 x} + 3250 x y^{4} e^{2 x} + 5625 x y^{4} e^{x} + 3125 x y^{4} + 4 x y^{3} e^{4 x} + 52 x y^{3} e^{3 x} + 240 x y^{3} e^{2 x} + 448 x y^{3} e^{x} + 256 x y^{3} + 3 x y^{2} e^{3 x} + 21 x y^{2} e^{2 x} + 45 x y^{2} e^{x} + 27 x y^{2} + 2 x y e^{2 x} + 6 x y e^{x} + 4 x y + x e^{x} + x + y^{5} e^{5 x} + 25 y^{5} e^{4 x} + 250 y^{5} e^{3 x} + 1250 y^{5} e^{2 x} + 3125 y^{5} e^{x} + 3125 y^{5} + y^{4} e^{4 x} + 16 y^{4} e^{3 x} + 96 y^{4} e^{2 x} + 256 y^{4} e^{x} + 256 y^{4} + y^{3} e^{3 x} + 9 y^{3} e^{2 x} + 27 y^{3} e^{x} + 27 y^{3} + y^{2} e^{2 x} + 4 y^{2} e^{x} + 4 y^{2} + y e^{x} + y + 1$"
      ],
      "text/plain": [
       "x**5*exp(5*x) + 5*x**5*exp(4*x) + 10*x**5*exp(3*x) + 10*x**5*exp(2*x) + 5*x**5*exp(x) + x**5 + 5*x**4*y*exp(5*x) + 45*x**4*y*exp(4*x) + 130*x**4*y*exp(3*x) + 170*x**4*y*exp(2*x) + 105*x**4*y*exp(x) + 25*x**4*y + x**4*exp(4*x) + 4*x**4*exp(3*x) + 6*x**4*exp(2*x) + 4*x**4*exp(x) + x**4 + 10*x**3*y**2*exp(5*x) + 130*x**3*y**2*exp(4*x) + 580*x**3*y**2*exp(3*x) + 1060*x**3*y**2*exp(2*x) + 850*x**3*y**2*exp(x) + 250*x**3*y**2 + 4*x**3*y*exp(4*x) + 28*x**3*y*exp(3*x) + 60*x**3*y*exp(2*x) + 52*x**3*y*exp(x) + 16*x**3*y + x**3*exp(3*x) + 3*x**3*exp(2*x) + 3*x**3*exp(x) + x**3 + 10*x**2*y**3*exp(5*x) + 170*x**2*y**3*exp(4*x) + 1060*x**2*y**3*exp(3*x) + 2900*x**2*y**3*exp(2*x) + 3250*x**2*y**3*exp(x) + 1250*x**2*y**3 + 6*x**2*y**2*exp(4*x) + 60*x**2*y**2*exp(3*x) + 198*x**2*y**2*exp(2*x) + 240*x**2*y**2*exp(x) + 96*x**2*y**2 + 3*x**2*y*exp(3*x) + 15*x**2*y*exp(2*x) + 21*x**2*y*exp(x) + 9*x**2*y + x**2*exp(2*x) + 2*x**2*exp(x) + x**2 + 5*x*y**4*exp(5*x) + 105*x*y**4*exp(4*x) + 850*x*y**4*exp(3*x) + 3250*x*y**4*exp(2*x) + 5625*x*y**4*exp(x) + 3125*x*y**4 + 4*x*y**3*exp(4*x) + 52*x*y**3*exp(3*x) + 240*x*y**3*exp(2*x) + 448*x*y**3*exp(x) + 256*x*y**3 + 3*x*y**2*exp(3*x) + 21*x*y**2*exp(2*x) + 45*x*y**2*exp(x) + 27*x*y**2 + 2*x*y*exp(2*x) + 6*x*y*exp(x) + 4*x*y + x*exp(x) + x + y**5*exp(5*x) + 25*y**5*exp(4*x) + 250*y**5*exp(3*x) + 1250*y**5*exp(2*x) + 3125*y**5*exp(x) + 3125*y**5 + y**4*exp(4*x) + 16*y**4*exp(3*x) + 96*y**4*exp(2*x) + 256*y**4*exp(x) + 256*y**4 + y**3*exp(3*x) + 9*y**3*exp(2*x) + 27*y**3*exp(x) + 27*y**3 + y**2*exp(2*x) + 4*y**2*exp(x) + 4*y**2 + y*exp(x) + y + 1"
      ]
     },
     "execution_count": 74,
     "metadata": {},
     "output_type": "execute_result"
    }
   ],
   "source": [
    "p1 = p.expand()\n",
    "p1"
   ]
  },
  {
   "cell_type": "code",
   "execution_count": 75,
   "metadata": {
    "slideshow": {
     "slide_type": "slide"
    }
   },
   "outputs": [
    {
     "data": {
      "text/latex": [
       "$\\displaystyle x^{5} \\left(e^{5 x} + 5 e^{4 x} + 10 e^{3 x} + 10 e^{2 x} + 5 e^{x} + 1\\right) + x^{4} \\left(5 y e^{5 x} + 45 y e^{4 x} + 130 y e^{3 x} + 170 y e^{2 x} + 105 y e^{x} + 25 y + e^{4 x} + 4 e^{3 x} + 6 e^{2 x} + 4 e^{x} + 1\\right) + x^{3} \\left(10 y^{2} e^{5 x} + 130 y^{2} e^{4 x} + 580 y^{2} e^{3 x} + 1060 y^{2} e^{2 x} + 850 y^{2} e^{x} + 250 y^{2} + 4 y e^{4 x} + 28 y e^{3 x} + 60 y e^{2 x} + 52 y e^{x} + 16 y + e^{3 x} + 3 e^{2 x} + 3 e^{x} + 1\\right) + x^{2} \\left(10 y^{3} e^{5 x} + 170 y^{3} e^{4 x} + 1060 y^{3} e^{3 x} + 2900 y^{3} e^{2 x} + 3250 y^{3} e^{x} + 1250 y^{3} + 6 y^{2} e^{4 x} + 60 y^{2} e^{3 x} + 198 y^{2} e^{2 x} + 240 y^{2} e^{x} + 96 y^{2} + 3 y e^{3 x} + 15 y e^{2 x} + 21 y e^{x} + 9 y + e^{2 x} + 2 e^{x} + 1\\right) + x \\left(5 y^{4} e^{5 x} + 105 y^{4} e^{4 x} + 850 y^{4} e^{3 x} + 3250 y^{4} e^{2 x} + 5625 y^{4} e^{x} + 3125 y^{4} + 4 y^{3} e^{4 x} + 52 y^{3} e^{3 x} + 240 y^{3} e^{2 x} + 448 y^{3} e^{x} + 256 y^{3} + 3 y^{2} e^{3 x} + 21 y^{2} e^{2 x} + 45 y^{2} e^{x} + 27 y^{2} + 2 y e^{2 x} + 6 y e^{x} + 4 y + e^{x} + 1\\right) + y^{5} e^{5 x} + 25 y^{5} e^{4 x} + 250 y^{5} e^{3 x} + 1250 y^{5} e^{2 x} + 3125 y^{5} e^{x} + 3125 y^{5} + y^{4} e^{4 x} + 16 y^{4} e^{3 x} + 96 y^{4} e^{2 x} + 256 y^{4} e^{x} + 256 y^{4} + y^{3} e^{3 x} + 9 y^{3} e^{2 x} + 27 y^{3} e^{x} + 27 y^{3} + y^{2} e^{2 x} + 4 y^{2} e^{x} + 4 y^{2} + y e^{x} + y + 1$"
      ],
      "text/plain": [
       "x**5*(exp(5*x) + 5*exp(4*x) + 10*exp(3*x) + 10*exp(2*x) + 5*exp(x) + 1) + x**4*(5*y*exp(5*x) + 45*y*exp(4*x) + 130*y*exp(3*x) + 170*y*exp(2*x) + 105*y*exp(x) + 25*y + exp(4*x) + 4*exp(3*x) + 6*exp(2*x) + 4*exp(x) + 1) + x**3*(10*y**2*exp(5*x) + 130*y**2*exp(4*x) + 580*y**2*exp(3*x) + 1060*y**2*exp(2*x) + 850*y**2*exp(x) + 250*y**2 + 4*y*exp(4*x) + 28*y*exp(3*x) + 60*y*exp(2*x) + 52*y*exp(x) + 16*y + exp(3*x) + 3*exp(2*x) + 3*exp(x) + 1) + x**2*(10*y**3*exp(5*x) + 170*y**3*exp(4*x) + 1060*y**3*exp(3*x) + 2900*y**3*exp(2*x) + 3250*y**3*exp(x) + 1250*y**3 + 6*y**2*exp(4*x) + 60*y**2*exp(3*x) + 198*y**2*exp(2*x) + 240*y**2*exp(x) + 96*y**2 + 3*y*exp(3*x) + 15*y*exp(2*x) + 21*y*exp(x) + 9*y + exp(2*x) + 2*exp(x) + 1) + x*(5*y**4*exp(5*x) + 105*y**4*exp(4*x) + 850*y**4*exp(3*x) + 3250*y**4*exp(2*x) + 5625*y**4*exp(x) + 3125*y**4 + 4*y**3*exp(4*x) + 52*y**3*exp(3*x) + 240*y**3*exp(2*x) + 448*y**3*exp(x) + 256*y**3 + 3*y**2*exp(3*x) + 21*y**2*exp(2*x) + 45*y**2*exp(x) + 27*y**2 + 2*y*exp(2*x) + 6*y*exp(x) + 4*y + exp(x) + 1) + y**5*exp(5*x) + 25*y**5*exp(4*x) + 250*y**5*exp(3*x) + 1250*y**5*exp(2*x) + 3125*y**5*exp(x) + 3125*y**5 + y**4*exp(4*x) + 16*y**4*exp(3*x) + 96*y**4*exp(2*x) + 256*y**4*exp(x) + 256*y**4 + y**3*exp(3*x) + 9*y**3*exp(2*x) + 27*y**3*exp(x) + 27*y**3 + y**2*exp(2*x) + 4*y**2*exp(x) + 4*y**2 + y*exp(x) + y + 1"
      ]
     },
     "execution_count": 75,
     "metadata": {},
     "output_type": "execute_result"
    }
   ],
   "source": [
    "p2 = p1.collect(x)\n",
    "p2"
   ]
  },
  {
   "cell_type": "code",
   "execution_count": 76,
   "metadata": {
    "slideshow": {
     "slide_type": "slide"
    }
   },
   "outputs": [
    {
     "data": {
      "text/latex": [
       "$\\displaystyle 10 y^{3} e^{5 x} + 170 y^{3} e^{4 x} + 1060 y^{3} e^{3 x} + 2900 y^{3} e^{2 x} + 3250 y^{3} e^{x} + 1250 y^{3} + 6 y^{2} e^{4 x} + 60 y^{2} e^{3 x} + 198 y^{2} e^{2 x} + 240 y^{2} e^{x} + 96 y^{2} + 3 y e^{3 x} + 15 y e^{2 x} + 21 y e^{x} + 9 y + e^{2 x} + 2 e^{x} + 1$"
      ],
      "text/plain": [
       "10*y**3*exp(5*x) + 170*y**3*exp(4*x) + 1060*y**3*exp(3*x) + 2900*y**3*exp(2*x) + 3250*y**3*exp(x) + 1250*y**3 + 6*y**2*exp(4*x) + 60*y**2*exp(3*x) + 198*y**2*exp(2*x) + 240*y**2*exp(x) + 96*y**2 + 3*y*exp(3*x) + 15*y*exp(2*x) + 21*y*exp(x) + 9*y + exp(2*x) + 2*exp(x) + 1"
      ]
     },
     "execution_count": 76,
     "metadata": {},
     "output_type": "execute_result"
    }
   ],
   "source": [
    "c2 = p2.coeff(x**2)\n",
    "c2"
   ]
  },
  {
   "cell_type": "code",
   "execution_count": 77,
   "metadata": {},
   "outputs": [
    {
     "data": {
      "text/latex": [
       "$\\displaystyle y^{3} \\left(10 e^{5 x} + 170 e^{4 x} + 1060 e^{3 x} + 2900 e^{2 x} + 3250 e^{x} + 1250\\right) + y^{2} \\left(6 e^{4 x} + 60 e^{3 x} + 198 e^{2 x} + 240 e^{x} + 96\\right) + y \\left(3 e^{3 x} + 15 e^{2 x} + 21 e^{x} + 9\\right) + e^{2 x} + 2 e^{x} + 1$"
      ],
      "text/plain": [
       "y**3*(10*exp(5*x) + 170*exp(4*x) + 1060*exp(3*x) + 2900*exp(2*x) + 3250*exp(x) + 1250) + y**2*(6*exp(4*x) + 60*exp(3*x) + 198*exp(2*x) + 240*exp(x) + 96) + y*(3*exp(3*x) + 15*exp(2*x) + 21*exp(x) + 9) + exp(2*x) + 2*exp(x) + 1"
      ]
     },
     "execution_count": 77,
     "metadata": {},
     "output_type": "execute_result"
    }
   ],
   "source": [
    "c2a = c2.collect(y)\n",
    "c2a"
   ]
  },
  {
   "cell_type": "code",
   "execution_count": 79,
   "metadata": {
    "scrolled": true,
    "slideshow": {
     "slide_type": "slide"
    }
   },
   "outputs": [
    {
     "data": {
      "text/latex": [
       "$\\displaystyle x^{5} \\left(e^{5 x} + 5 e^{4 x} + 10 e^{3 x} + 10 e^{2 x} + 5 e^{x} + 1\\right) + x^{4} \\left(y \\left(5 e^{5 x} + 45 e^{4 x} + 130 e^{3 x} + 170 e^{2 x} + 105 e^{x} + 25\\right) + e^{4 x} + 4 e^{3 x} + 6 e^{2 x} + 4 e^{x} + 1\\right) + x^{3} \\left(y^{2} \\left(10 e^{5 x} + 130 e^{4 x} + 580 e^{3 x} + 1060 e^{2 x} + 850 e^{x} + 250\\right) + y \\left(4 e^{4 x} + 28 e^{3 x} + 60 e^{2 x} + 52 e^{x} + 16\\right) + e^{3 x} + 3 e^{2 x} + 3 e^{x} + 1\\right) + x^{2} \\left(y^{3} \\left(10 e^{5 x} + 170 e^{4 x} + 1060 e^{3 x} + 2900 e^{2 x} + 3250 e^{x} + 1250\\right) + y^{2} \\left(6 e^{4 x} + 60 e^{3 x} + 198 e^{2 x} + 240 e^{x} + 96\\right) + y \\left(3 e^{3 x} + 15 e^{2 x} + 21 e^{x} + 9\\right) + e^{2 x} + 2 e^{x} + 1\\right) + x \\left(y^{4} \\left(5 e^{5 x} + 105 e^{4 x} + 850 e^{3 x} + 3250 e^{2 x} + 5625 e^{x} + 3125\\right) + y^{3} \\left(4 e^{4 x} + 52 e^{3 x} + 240 e^{2 x} + 448 e^{x} + 256\\right) + y^{2} \\left(3 e^{3 x} + 21 e^{2 x} + 45 e^{x} + 27\\right) + y \\left(2 e^{2 x} + 6 e^{x} + 4\\right) + e^{x} + 1\\right) + y^{5} e^{5 x} + 25 y^{5} e^{4 x} + 250 y^{5} e^{3 x} + 1250 y^{5} e^{2 x} + 3125 y^{5} e^{x} + 3125 y^{5} + y^{4} e^{4 x} + 16 y^{4} e^{3 x} + 96 y^{4} e^{2 x} + 256 y^{4} e^{x} + 256 y^{4} + y^{3} e^{3 x} + 9 y^{3} e^{2 x} + 27 y^{3} e^{x} + 27 y^{3} + y^{2} e^{2 x} + 4 y^{2} e^{x} + 4 y^{2} + y e^{x} + y + 1$"
      ],
      "text/plain": [
       "x**5*(exp(5*x) + 5*exp(4*x) + 10*exp(3*x) + 10*exp(2*x) + 5*exp(x) + 1) + x**4*(y*(5*exp(5*x) + 45*exp(4*x) + 130*exp(3*x) + 170*exp(2*x) + 105*exp(x) + 25) + exp(4*x) + 4*exp(3*x) + 6*exp(2*x) + 4*exp(x) + 1) + x**3*(y**2*(10*exp(5*x) + 130*exp(4*x) + 580*exp(3*x) + 1060*exp(2*x) + 850*exp(x) + 250) + y*(4*exp(4*x) + 28*exp(3*x) + 60*exp(2*x) + 52*exp(x) + 16) + exp(3*x) + 3*exp(2*x) + 3*exp(x) + 1) + x**2*(y**3*(10*exp(5*x) + 170*exp(4*x) + 1060*exp(3*x) + 2900*exp(2*x) + 3250*exp(x) + 1250) + y**2*(6*exp(4*x) + 60*exp(3*x) + 198*exp(2*x) + 240*exp(x) + 96) + y*(3*exp(3*x) + 15*exp(2*x) + 21*exp(x) + 9) + exp(2*x) + 2*exp(x) + 1) + x*(y**4*(5*exp(5*x) + 105*exp(4*x) + 850*exp(3*x) + 3250*exp(2*x) + 5625*exp(x) + 3125) + y**3*(4*exp(4*x) + 52*exp(3*x) + 240*exp(2*x) + 448*exp(x) + 256) + y**2*(3*exp(3*x) + 21*exp(2*x) + 45*exp(x) + 27) + y*(2*exp(2*x) + 6*exp(x) + 4) + exp(x) + 1) + y**5*exp(5*x) + 25*y**5*exp(4*x) + 250*y**5*exp(3*x) + 1250*y**5*exp(2*x) + 3125*y**5*exp(x) + 3125*y**5 + y**4*exp(4*x) + 16*y**4*exp(3*x) + 96*y**4*exp(2*x) + 256*y**4*exp(x) + 256*y**4 + y**3*exp(3*x) + 9*y**3*exp(2*x) + 27*y**3*exp(x) + 27*y**3 + y**2*exp(2*x) + 4*y**2*exp(x) + 4*y**2 + y*exp(x) + y + 1"
      ]
     },
     "execution_count": 79,
     "metadata": {},
     "output_type": "execute_result"
    }
   ],
   "source": [
    "p3 = p2\n",
    "for j in range(6):\n",
    "    c = p3.coeff(x, j)\n",
    "    c2 = c.collect(y)\n",
    "    p3 = p3.subs(c, c2)\n",
    "p3"
   ]
  }
 ],
 "metadata": {
  "kernelspec": {
   "display_name": "Python 3",
   "language": "python",
   "name": "python3"
  },
  "language_info": {
   "codemirror_mode": {
    "name": "ipython",
    "version": 3
   },
   "file_extension": ".py",
   "mimetype": "text/x-python",
   "name": "python",
   "nbconvert_exporter": "python",
   "pygments_lexer": "ipython3",
   "version": "3.8.5"
  }
 },
 "nbformat": 4,
 "nbformat_minor": 4
}
