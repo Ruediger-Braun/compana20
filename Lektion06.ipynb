{
 "cells": [
  {
   "cell_type": "code",
   "execution_count": 1,
   "metadata": {
    "slideshow": {
     "slide_type": "slide"
    }
   },
   "outputs": [],
   "source": [
    "from sympy import *\n",
    "init_printing()\n",
    "x = S('x')\n",
    "y = S('y')"
   ]
  },
  {
   "cell_type": "markdown",
   "metadata": {
    "slideshow": {
     "slide_type": "slide"
    }
   },
   "source": [
    "# Annahmen bei Integralen"
   ]
  },
  {
   "cell_type": "code",
   "execution_count": 2,
   "metadata": {},
   "outputs": [
    {
     "data": {
      "image/png": "[encoded data removed]",
      "text/latex": [
       "$\\displaystyle \\int\\limits_{-\\infty}^{\\infty} e^{- a x^{2}}\\, dx$"
      ],
      "text/plain": [
       "∞           \n",
       "⌠           \n",
       "⎮       2   \n",
       "⎮   -a⋅x    \n",
       "⎮  ℯ      dx\n",
       "⌡           \n",
       "-∞          "
      ]
     },
     "execution_count": 2,
     "metadata": {},
     "output_type": "execute_result"
    }
   ],
   "source": [
    "a = S('a')\n",
    "f = exp(-a*x**2)\n",
    "I1 = Integral(f, (x, -oo, oo))\n",
    "I1"
   ]
  },
  {
   "cell_type": "code",
   "execution_count": 3,
   "metadata": {},
   "outputs": [
    {
     "data": {
      "image/png": "[encoded data removed]",
      "text/latex": [
       "$\\displaystyle \\begin{cases} \\frac{\\sqrt{\\pi}}{\\sqrt{a}} & \\text{for}\\: \\left|{\\arg{\\left(a \\right)}}\\right| \\leq \\frac{\\pi}{2} \\\\\\int\\limits_{-\\infty}^{\\infty} e^{- a x^{2}}\\, dx & \\text{otherwise} \\end{cases}$"
      ],
      "text/plain": [
       "⎧     √π                      π\n",
       "⎪     ──       for │arg(a)│ ≤ ─\n",
       "⎪     √a                      2\n",
       "⎪                              \n",
       "⎪∞                             \n",
       "⎨⌠                             \n",
       "⎪⎮       2                     \n",
       "⎪⎮   -a⋅x                      \n",
       "⎪⎮  ℯ      dx     otherwise    \n",
       "⎪⌡                             \n",
       "⎩-∞                            "
      ]
     },
     "execution_count": 3,
     "metadata": {},
     "output_type": "execute_result"
    }
   ],
   "source": [
    "I1.doit()"
   ]
  },
  {
   "cell_type": "code",
   "execution_count": 4,
   "metadata": {
    "slideshow": {
     "slide_type": "fragment"
    }
   },
   "outputs": [
    {
     "data": {
      "image/png": "[encoded data removed]",
      "text/latex": [
       "$\\displaystyle \\begin{cases} \\frac{\\sqrt{\\pi}}{\\sqrt{a}} & \\text{for}\\: \\left|{\\arg{\\left(a \\right)}}\\right| \\leq \\frac{\\pi}{2} \\\\\\int\\limits_{-\\infty}^{\\infty} e^{- a x^{2}}\\, dx & \\text{otherwise} \\end{cases}$"
      ],
      "text/plain": [
       "⎧     √π                      π\n",
       "⎪     ──       for │arg(a)│ ≤ ─\n",
       "⎪     √a                      2\n",
       "⎪                              \n",
       "⎪∞                             \n",
       "⎨⌠                             \n",
       "⎪⎮       2                     \n",
       "⎪⎮   -a⋅x                      \n",
       "⎪⎮  ℯ      dx     otherwise    \n",
       "⎪⌡                             \n",
       "⎩-∞                            "
      ]
     },
     "execution_count": 4,
     "metadata": {},
     "output_type": "execute_result"
    }
   ],
   "source": [
    "a = Symbol( 'a', positive=True)\n",
    "I1.doit()"
   ]
  },
  {
   "cell_type": "markdown",
   "metadata": {
    "slideshow": {
     "slide_type": "slide"
    }
   },
   "source": [
    "einfachste Lösung:  `f` und `I1` noch einmal definieren"
   ]
  },
  {
   "cell_type": "code",
   "execution_count": 5,
   "metadata": {},
   "outputs": [
    {
     "data": {
      "image/png": "[encoded data removed]",
      "text/latex": [
       "$\\displaystyle \\frac{\\sqrt{\\pi}}{\\sqrt{a}}$"
      ],
      "text/plain": [
       "√π\n",
       "──\n",
       "√a"
      ]
     },
     "execution_count": 5,
     "metadata": {},
     "output_type": "execute_result"
    }
   ],
   "source": [
    "I1.subs(S('a'), a).doit()"
   ]
  },
  {
   "cell_type": "markdown",
   "metadata": {
    "slideshow": {
     "slide_type": "slide"
    }
   },
   "source": [
    "# Die Argumentfunktion"
   ]
  },
  {
   "cell_type": "code",
   "execution_count": 6,
   "metadata": {
    "slideshow": {
     "slide_type": "slide"
    }
   },
   "outputs": [
    {
     "data": {
      "image/png": "[encoded data removed]",
      "text/latex": [
       "$\\displaystyle 0$"
      ],
      "text/plain": [
       "0"
      ]
     },
     "execution_count": 6,
     "metadata": {},
     "output_type": "execute_result"
    }
   ],
   "source": [
    "p = Symbol('p', positive=True)\n",
    "arg(p)"
   ]
  },
  {
   "cell_type": "code",
   "execution_count": 8,
   "metadata": {},
   "outputs": [
    {
     "data": {
      "image/png": "[encoded data removed]",
      "text/latex": [
       "$\\displaystyle \\text{NaN}$"
      ],
      "text/plain": [
       "nan"
      ]
     },
     "execution_count": 8,
     "metadata": {},
     "output_type": "execute_result"
    }
   ],
   "source": [
    "arg(0)"
   ]
  },
  {
   "cell_type": "code",
   "execution_count": 7,
   "metadata": {},
   "outputs": [
    {
     "data": {
      "image/png": "[encoded data removed]",
      "text/latex": [
       "$\\displaystyle \\pi$"
      ],
      "text/plain": [
       "π"
      ]
     },
     "execution_count": 7,
     "metadata": {},
     "output_type": "execute_result"
    }
   ],
   "source": [
    "n = Symbol('n', negative=True)\n",
    "arg(n)"
   ]
  },
  {
   "cell_type": "code",
   "execution_count": 9,
   "metadata": {
    "slideshow": {
     "slide_type": "slide"
    }
   },
   "outputs": [
    {
     "data": {
      "image/png": "[encoded data removed]",
      "text/plain": [
       "<Figure size 432x288 with 1 Axes>"
      ]
     },
     "metadata": {
      "needs_background": "light"
     },
     "output_type": "display_data"
    }
   ],
   "source": [
    "plot(arg(exp(I*x)));"
   ]
  },
  {
   "cell_type": "markdown",
   "metadata": {
    "slideshow": {
     "slide_type": "slide"
    }
   },
   "source": [
    "# Beispiel für ein Integral einer periodischen Funktion"
   ]
  },
  {
   "cell_type": "code",
   "execution_count": 10,
   "metadata": {
    "slideshow": {
     "slide_type": "slide"
    }
   },
   "outputs": [
    {
     "data": {
      "image/png": "[encoded data removed]",
      "text/latex": [
       "$\\displaystyle \\frac{x}{2} - \\frac{\\sin{\\left(x \\right)} \\cos{\\left(x \\right)}}{2}$"
      ],
      "text/plain": [
       "x   sin(x)⋅cos(x)\n",
       "─ - ─────────────\n",
       "2         2      "
      ]
     },
     "execution_count": 10,
     "metadata": {},
     "output_type": "execute_result"
    }
   ],
   "source": [
    "f = sin(x)**2\n",
    "F = Integral(f, x).doit()\n",
    "F"
   ]
  },
  {
   "cell_type": "code",
   "execution_count": 11,
   "metadata": {},
   "outputs": [
    {
     "data": {
      "image/png": "[encoded data removed]",
      "text/plain": [
       "<Figure size 432x288 with 1 Axes>"
      ]
     },
     "metadata": {
      "needs_background": "light"
     },
     "output_type": "display_data"
    }
   ],
   "source": [
    "plot(f, F);"
   ]
  },
  {
   "cell_type": "code",
   "execution_count": 12,
   "metadata": {
    "slideshow": {
     "slide_type": "slide"
    }
   },
   "outputs": [
    {
     "data": {
      "image/png": "[encoded data removed]",
      "text/latex": [
       "$\\displaystyle \\int \\frac{1}{2 - \\cos{\\left(x \\right)}}\\, dx$"
      ],
      "text/plain": [
       "⌠              \n",
       "⎮     1        \n",
       "⎮ ────────── dx\n",
       "⎮ 2 - cos(x)   \n",
       "⌡              "
      ]
     },
     "execution_count": 12,
     "metadata": {},
     "output_type": "execute_result"
    }
   ],
   "source": [
    "f = 1/(2-cos(x))\n",
    "I2 = Integral(f, x)\n",
    "I2"
   ]
  },
  {
   "cell_type": "code",
   "execution_count": 13,
   "metadata": {},
   "outputs": [
    {
     "data": {
      "image/png": "[encoded data removed]",
      "text/latex": [
       "$\\displaystyle \\frac{2 \\sqrt{3} \\left(\\operatorname{atan}{\\left(\\sqrt{3} \\tan{\\left(\\frac{x}{2} \\right)} \\right)} + \\pi \\left\\lfloor{\\frac{\\frac{x}{2} - \\frac{\\pi}{2}}{\\pi}}\\right\\rfloor\\right)}{3}$"
      ],
      "text/plain": [
       "     ⎛                    ⎢x   π⎥⎞\n",
       "     ⎜                    ⎢─ - ─⎥⎟\n",
       "     ⎜    ⎛      ⎛x⎞⎞     ⎢2   2⎥⎟\n",
       "2⋅√3⋅⎜atan⎜√3⋅tan⎜─⎟⎟ + π⋅⎢─────⎥⎟\n",
       "     ⎝    ⎝      ⎝2⎠⎠     ⎣  π  ⎦⎠\n",
       "──────────────────────────────────\n",
       "                3                 "
      ]
     },
     "execution_count": 13,
     "metadata": {},
     "output_type": "execute_result"
    }
   ],
   "source": [
    "F = I2.doit()\n",
    "F"
   ]
  },
  {
   "cell_type": "code",
   "execution_count": 14,
   "metadata": {
    "slideshow": {
     "slide_type": "fragment"
    }
   },
   "outputs": [
    {
     "data": {
      "image/png": "[encoded data removed]",
      "text/latex": [
       "$\\displaystyle \\left\\lfloor{x}\\right\\rfloor$"
      ],
      "text/plain": [
       "⌊x⌋"
      ]
     },
     "execution_count": 14,
     "metadata": {},
     "output_type": "execute_result"
    }
   ],
   "source": [
    "floor(x)"
   ]
  },
  {
   "cell_type": "code",
   "execution_count": 15,
   "metadata": {},
   "outputs": [
    {
     "data": {
      "image/png": "[encoded data removed]",
      "text/latex": [
       "$\\displaystyle 3$"
      ],
      "text/plain": [
       "3"
      ]
     },
     "execution_count": 15,
     "metadata": {},
     "output_type": "execute_result"
    }
   ],
   "source": [
    "floor(pi)"
   ]
  },
  {
   "cell_type": "code",
   "execution_count": 16,
   "metadata": {},
   "outputs": [
    {
     "data": {
      "image/png": "[encoded data removed]",
      "text/latex": [
       "$\\displaystyle -4$"
      ],
      "text/plain": [
       "-4"
      ]
     },
     "execution_count": 16,
     "metadata": {},
     "output_type": "execute_result"
    }
   ],
   "source": [
    "floor(-pi)"
   ]
  },
  {
   "cell_type": "code",
   "execution_count": 17,
   "metadata": {
    "slideshow": {
     "slide_type": "slide"
    }
   },
   "outputs": [
    {
     "data": {
      "image/png": "[encoded data removed]",
      "text/plain": [
       "<Figure size 432x288 with 1 Axes>"
      ]
     },
     "metadata": {
      "needs_background": "light"
     },
     "output_type": "display_data"
    }
   ],
   "source": [
    "plot(F);"
   ]
  },
  {
   "cell_type": "markdown",
   "metadata": {
    "slideshow": {
     "slide_type": "slide"
    }
   },
   "source": [
    "Wofür wird `floor` benutzt?"
   ]
  },
  {
   "cell_type": "code",
   "execution_count": 18,
   "metadata": {
    "slideshow": {
     "slide_type": "fragment"
    }
   },
   "outputs": [],
   "source": [
    "def null(x):\n",
    "    return 0"
   ]
  },
  {
   "cell_type": "code",
   "execution_count": 20,
   "metadata": {},
   "outputs": [
    {
     "data": {
      "image/png": "[encoded data removed]",
      "text/latex": [
       "$\\displaystyle \\frac{2 \\sqrt{3} \\operatorname{atan}{\\left(\\sqrt{3} \\tan{\\left(\\frac{x}{2} \\right)} \\right)}}{3}$"
      ],
      "text/plain": [
       "         ⎛      ⎛x⎞⎞\n",
       "2⋅√3⋅atan⎜√3⋅tan⎜─⎟⎟\n",
       "         ⎝      ⎝2⎠⎠\n",
       "────────────────────\n",
       "         3          "
      ]
     },
     "execution_count": 20,
     "metadata": {},
     "output_type": "execute_result"
    }
   ],
   "source": [
    "F2 = F.replace(floor, null)\n",
    "F2"
   ]
  },
  {
   "cell_type": "code",
   "execution_count": 21,
   "metadata": {
    "slideshow": {
     "slide_type": "slide"
    }
   },
   "outputs": [
    {
     "data": {
      "image/png": "[encoded data removed]",
      "text/plain": [
       "<Figure size 432x288 with 1 Axes>"
      ]
     },
     "metadata": {
      "needs_background": "light"
     },
     "output_type": "display_data"
    }
   ],
   "source": [
    "plot(F2, F-F2);"
   ]
  },
  {
   "cell_type": "code",
   "execution_count": 22,
   "metadata": {
    "slideshow": {
     "slide_type": "slide"
    }
   },
   "outputs": [
    {
     "data": {
      "image/png": "[encoded data removed]",
      "text/latex": [
       "$\\displaystyle \\frac{2 \\sqrt{3} \\left(\\frac{\\sqrt{3} \\left(\\frac{\\tan^{2}{\\left(\\frac{x}{2} \\right)}}{2} + \\frac{1}{2}\\right)}{3 \\tan^{2}{\\left(\\frac{x}{2} \\right)} + 1} + \\frac{\\left. \\frac{d}{d \\xi_{1}} \\left\\lfloor{\\xi_{1}}\\right\\rfloor \\right|_{\\substack{ \\xi_{1}=\\frac{\\frac{x}{2} - \\frac{\\pi}{2}}{\\pi} }}}{2}\\right)}{3}$"
      ],
      "text/plain": [
       "     ⎛   ⎛   2⎛x⎞    ⎞                  x   π⎞\n",
       "     ⎜   ⎜tan ⎜─⎟    ⎟   ⎛ d       ⎞│   ─ - ─⎟\n",
       "     ⎜   ⎜    ⎝2⎠   1⎟   ⎜───(⌊ξ₁⌋)⎟│   2   2⎟\n",
       "     ⎜√3⋅⎜─────── + ─⎟   ⎝dξ₁      ⎠│ξ₁=─────⎟\n",
       "     ⎜   ⎝   2      2⎠                    π  ⎟\n",
       "2⋅√3⋅⎜──────────────── + ────────────────────⎟\n",
       "     ⎜      2⎛x⎞                  2          ⎟\n",
       "     ⎜ 3⋅tan ⎜─⎟ + 1                         ⎟\n",
       "     ⎝       ⎝2⎠                             ⎠\n",
       "──────────────────────────────────────────────\n",
       "                      3                       "
      ]
     },
     "execution_count": 22,
     "metadata": {},
     "output_type": "execute_result"
    }
   ],
   "source": [
    "F.diff(x)"
   ]
  },
  {
   "cell_type": "code",
   "execution_count": 24,
   "metadata": {},
   "outputs": [
    {
     "data": {
      "image/png": "[encoded data removed]",
      "text/latex": [
       "$\\displaystyle \\frac{2 \\left(\\frac{\\tan^{2}{\\left(\\frac{x}{2} \\right)}}{2} + \\frac{1}{2}\\right)}{3 \\tan^{2}{\\left(\\frac{x}{2} \\right)} + 1}$"
      ],
      "text/plain": [
       "  ⎛   2⎛x⎞    ⎞\n",
       "  ⎜tan ⎜─⎟    ⎟\n",
       "  ⎜    ⎝2⎠   1⎟\n",
       "2⋅⎜─────── + ─⎟\n",
       "  ⎝   2      2⎠\n",
       "───────────────\n",
       "      2⎛x⎞     \n",
       " 3⋅tan ⎜─⎟ + 1 \n",
       "       ⎝2⎠     "
      ]
     },
     "execution_count": 24,
     "metadata": {},
     "output_type": "execute_result"
    }
   ],
   "source": [
    "F2.diff(x) "
   ]
  },
  {
   "cell_type": "code",
   "execution_count": 25,
   "metadata": {},
   "outputs": [
    {
     "data": {
      "image/png": "[encoded data removed]",
      "text/latex": [
       "$\\displaystyle \\frac{1}{2 - \\cos{\\left(x \\right)}}$"
      ],
      "text/plain": [
       "    1     \n",
       "──────────\n",
       "2 - cos(x)"
      ]
     },
     "execution_count": 25,
     "metadata": {},
     "output_type": "execute_result"
    }
   ],
   "source": [
    "F2.diff(x).trigsimp()"
   ]
  },
  {
   "cell_type": "markdown",
   "metadata": {
    "slideshow": {
     "slide_type": "slide"
    }
   },
   "source": [
    "# weitere Integrale"
   ]
  },
  {
   "cell_type": "code",
   "execution_count": 26,
   "metadata": {
    "slideshow": {
     "slide_type": "slide"
    }
   },
   "outputs": [],
   "source": [
    "f = 1/(1-x**2)**Rational(3,2)"
   ]
  },
  {
   "cell_type": "code",
   "execution_count": 27,
   "metadata": {},
   "outputs": [
    {
     "data": {
      "image/png": "[encoded data removed]",
      "text/latex": [
       "$\\displaystyle \\int \\frac{1}{\\left(1 - x^{2}\\right)^{\\frac{3}{2}}}\\, dx$"
      ],
      "text/plain": [
       "⌠               \n",
       "⎮      1        \n",
       "⎮ ─────────── dx\n",
       "⎮         3/2   \n",
       "⎮ ⎛     2⎞      \n",
       "⎮ ⎝1 - x ⎠      \n",
       "⌡               "
      ]
     },
     "execution_count": 27,
     "metadata": {},
     "output_type": "execute_result"
    }
   ],
   "source": [
    "I3 = Integral(f, x)\n",
    "I3"
   ]
  },
  {
   "cell_type": "code",
   "execution_count": 28,
   "metadata": {
    "slideshow": {
     "slide_type": "fragment"
    }
   },
   "outputs": [
    {
     "data": {
      "image/png": "[encoded data removed]",
      "text/latex": [
       "$\\displaystyle \\begin{cases} - \\frac{i x}{\\sqrt{x^{2} - 1}} & \\text{for}\\: \\left|{x^{2}}\\right| > 1 \\\\\\frac{x}{\\sqrt{1 - x^{2}}} & \\text{otherwise} \\end{cases}$"
      ],
      "text/plain": [
       "⎧   -ⅈ⋅x          │ 2│    \n",
       "⎪───────────  for │x │ > 1\n",
       "⎪   ________              \n",
       "⎪  ╱  2                   \n",
       "⎪╲╱  x  - 1               \n",
       "⎨                         \n",
       "⎪     x                   \n",
       "⎪───────────   otherwise  \n",
       "⎪   ________              \n",
       "⎪  ╱      2               \n",
       "⎩╲╱  1 - x                "
      ]
     },
     "execution_count": 28,
     "metadata": {},
     "output_type": "execute_result"
    }
   ],
   "source": [
    "F = I3.doit()\n",
    "F"
   ]
  },
  {
   "cell_type": "code",
   "execution_count": 29,
   "metadata": {},
   "outputs": [
    {
     "data": {
      "image/png": "[encoded data removed]",
      "text/latex": [
       "$\\displaystyle \\begin{cases} \\frac{i}{\\left(x^{2} - 1\\right)^{\\frac{3}{2}}} & \\text{for}\\: \\left|{x^{2}}\\right| > 1 \\\\\\frac{1}{\\left(1 - x^{2}\\right)^{\\frac{3}{2}}} & \\text{otherwise} \\end{cases}$"
      ],
      "text/plain": [
       "⎧     ⅈ           │ 2│    \n",
       "⎪───────────  for │x │ > 1\n",
       "⎪        3/2              \n",
       "⎪⎛ 2    ⎞                 \n",
       "⎪⎝x  - 1⎠                 \n",
       "⎨                         \n",
       "⎪     1                   \n",
       "⎪───────────   otherwise  \n",
       "⎪        3/2              \n",
       "⎪⎛     2⎞                 \n",
       "⎩⎝1 - x ⎠                 "
      ]
     },
     "execution_count": 29,
     "metadata": {},
     "output_type": "execute_result"
    }
   ],
   "source": [
    "F.diff(x).simplify()"
   ]
  },
  {
   "cell_type": "code",
   "execution_count": 30,
   "metadata": {
    "slideshow": {
     "slide_type": "slide"
    }
   },
   "outputs": [
    {
     "data": {
      "image/png": "[encoded data removed]",
      "text/latex": [
       "$\\displaystyle \\int\\limits_{-\\infty}^{\\infty} \\frac{1}{a^{2} + x^{2}}\\, dx$"
      ],
      "text/plain": [
       "∞            \n",
       "⌠            \n",
       "⎮     1      \n",
       "⎮  ─────── dx\n",
       "⎮   2    2   \n",
       "⎮  a  + x    \n",
       "⌡            \n",
       "-∞           "
      ]
     },
     "execution_count": 30,
     "metadata": {},
     "output_type": "execute_result"
    }
   ],
   "source": [
    "a = S('a')\n",
    "I4 = Integral(1/(x**2+a**2), (x,-oo,oo))\n",
    "I4"
   ]
  },
  {
   "cell_type": "code",
   "execution_count": 31,
   "metadata": {},
   "outputs": [
    {
     "data": {
      "image/png": "[encoded data removed]",
      "text/latex": [
       "$\\displaystyle \\begin{cases} \\frac{\\pi}{a} & \\text{for}\\: \\left(2 \\left|{\\arg{\\left(a \\right)}}\\right| < \\pi \\wedge \\frac{1}{a^{2}} \\neq 0 \\wedge 2 \\left|{\\arg{\\left(a \\right)}}\\right| \\neq \\pi\\right) \\vee 2 \\left|{\\arg{\\left(a \\right)}}\\right| < \\pi \\\\\\int\\limits_{-\\infty}^{\\infty} \\frac{1}{a^{2} + x^{2}}\\, dx & \\text{otherwise} \\end{cases}$"
      ],
      "text/plain": [
       "⎧      π            ⎛                 1                      ⎞                \n",
       "⎪      ─        for ⎜2⋅│arg(a)│ < π ∧ ── ≠ 0 ∧ 2⋅│arg(a)│ ≠ π⎟ ∨ 2⋅│arg(a)│ < \n",
       "⎪      a            ⎜                  2                     ⎟                \n",
       "⎪                   ⎝                 a                      ⎠                \n",
       "⎪                                                                             \n",
       "⎪∞                                                                            \n",
       "⎨⌠                                                                            \n",
       "⎪⎮     1                                                                      \n",
       "⎪⎮  ─────── dx                             otherwise                          \n",
       "⎪⎮   2    2                                                                   \n",
       "⎪⎮  a  + x                                                                    \n",
       "⎪⌡                                                                            \n",
       "⎩-∞                                                                           \n",
       "\n",
       " \n",
       "π\n",
       " \n",
       " \n",
       " \n",
       " \n",
       " \n",
       " \n",
       " \n",
       " \n",
       " \n",
       " \n",
       " "
      ]
     },
     "execution_count": 31,
     "metadata": {},
     "output_type": "execute_result"
    }
   ],
   "source": [
    "I4.doit()"
   ]
  },
  {
   "cell_type": "code",
   "execution_count": 32,
   "metadata": {
    "slideshow": {
     "slide_type": "fragment"
    }
   },
   "outputs": [
    {
     "data": {
      "image/png": "[encoded data removed]",
      "text/latex": [
       "$\\displaystyle \\int\\limits_{-\\infty}^{\\infty} \\frac{1}{a^{2} + x^{2}}\\, dx$"
      ],
      "text/plain": [
       "∞            \n",
       "⌠            \n",
       "⎮     1      \n",
       "⎮  ─────── dx\n",
       "⎮   2    2   \n",
       "⎮  a  + x    \n",
       "⌡            \n",
       "-∞           "
      ]
     },
     "execution_count": 32,
     "metadata": {},
     "output_type": "execute_result"
    }
   ],
   "source": [
    "a = Symbol('a', positive=True)\n",
    "I5 = Integral(1/(x**2+a**2), (x,-oo,oo))\n",
    "I5"
   ]
  },
  {
   "cell_type": "code",
   "execution_count": 33,
   "metadata": {},
   "outputs": [
    {
     "data": {
      "image/png": "[encoded data removed]",
      "text/latex": [
       "$\\displaystyle \\frac{\\pi}{a}$"
      ],
      "text/plain": [
       "π\n",
       "─\n",
       "a"
      ]
     },
     "execution_count": 33,
     "metadata": {},
     "output_type": "execute_result"
    }
   ],
   "source": [
    "I5.doit()"
   ]
  },
  {
   "cell_type": "code",
   "execution_count": 34,
   "metadata": {
    "slideshow": {
     "slide_type": "slide"
    }
   },
   "outputs": [
    {
     "data": {
      "image/png": "[encoded data removed]",
      "text/latex": [
       "$\\displaystyle \\text{NaN}$"
      ],
      "text/plain": [
       "nan"
      ]
     },
     "execution_count": 34,
     "metadata": {},
     "output_type": "execute_result"
    }
   ],
   "source": [
    "I6 = Integral(1/(x**2-1), (x,-oo,oo))\n",
    "I6.doit()"
   ]
  },
  {
   "cell_type": "markdown",
   "metadata": {
    "slideshow": {
     "slide_type": "slide"
    }
   },
   "source": [
    "# Summen"
   ]
  },
  {
   "cell_type": "code",
   "execution_count": 35,
   "metadata": {
    "slideshow": {
     "slide_type": "slide"
    }
   },
   "outputs": [],
   "source": [
    "n = S('n')"
   ]
  },
  {
   "cell_type": "code",
   "execution_count": 36,
   "metadata": {},
   "outputs": [
    {
     "data": {
      "image/png": "[encoded data removed]",
      "text/latex": [
       "$\\displaystyle \\sum_{n=0}^{\\infty} \\frac{\\left(-1\\right)^{n} x^{2 n + 1}}{\\left(2 n + 1\\right)!}$"
      ],
      "text/plain": [
       "  ∞                 \n",
       " ____               \n",
       " ╲                  \n",
       "  ╲       n  2⋅n + 1\n",
       "   ╲  (-1) ⋅x       \n",
       "   ╱  ──────────────\n",
       "  ╱     (2⋅n + 1)!  \n",
       " ╱                  \n",
       " ‾‾‾‾               \n",
       "n = 0               "
      ]
     },
     "execution_count": 36,
     "metadata": {},
     "output_type": "execute_result"
    }
   ],
   "source": [
    "S1 = Sum((-1)**n*x**(2*n+1)/factorial(2*n+1), (n,0,oo))\n",
    "S1"
   ]
  },
  {
   "cell_type": "code",
   "execution_count": 38,
   "metadata": {},
   "outputs": [
    {
     "data": {
      "image/png": "[encoded data removed]",
      "text/latex": [
       "$\\displaystyle \\sin{\\left(x \\right)}$"
      ],
      "text/plain": [
       "sin(x)"
      ]
     },
     "execution_count": 38,
     "metadata": {},
     "output_type": "execute_result"
    }
   ],
   "source": [
    "S1.doit()"
   ]
  },
  {
   "cell_type": "code",
   "execution_count": 39,
   "metadata": {
    "slideshow": {
     "slide_type": "slide"
    }
   },
   "outputs": [
    {
     "data": {
      "image/png": "[encoded data removed]",
      "text/latex": [
       "$\\displaystyle \\sum_{n=0}^{\\infty} q^{n}$"
      ],
      "text/plain": [
       "  ∞     \n",
       " ___    \n",
       " ╲      \n",
       "  ╲    n\n",
       "  ╱   q \n",
       " ╱      \n",
       " ‾‾‾    \n",
       "n = 0   "
      ]
     },
     "execution_count": 39,
     "metadata": {},
     "output_type": "execute_result"
    }
   ],
   "source": [
    "q = S('q')\n",
    "n = S('n')\n",
    "S1 = Sum(q**n, (n, 0, oo))\n",
    "S1"
   ]
  },
  {
   "cell_type": "code",
   "execution_count": 40,
   "metadata": {},
   "outputs": [
    {
     "data": {
      "image/png": "[encoded data removed]",
      "text/latex": [
       "$\\displaystyle \\begin{cases} \\frac{1}{1 - q} & \\text{for}\\: \\left|{q}\\right| < 1 \\\\\\sum_{n=0}^{\\infty} q^{n} & \\text{otherwise} \\end{cases}$"
      ],
      "text/plain": [
       "⎧   1                 \n",
       "⎪ ─────    for │q│ < 1\n",
       "⎪ 1 - q               \n",
       "⎪                     \n",
       "⎪  ∞                  \n",
       "⎪ ___                 \n",
       "⎨ ╲                   \n",
       "⎪  ╲    n             \n",
       "⎪  ╱   q    otherwise \n",
       "⎪ ╱                   \n",
       "⎪ ‾‾‾                 \n",
       "⎪n = 0                \n",
       "⎩                     "
      ]
     },
     "execution_count": 40,
     "metadata": {},
     "output_type": "execute_result"
    }
   ],
   "source": [
    "res = S1.doit()\n",
    "res"
   ]
  },
  {
   "cell_type": "code",
   "execution_count": 41,
   "metadata": {
    "slideshow": {
     "slide_type": "fragment"
    }
   },
   "outputs": [
    {
     "name": "stdout",
     "output_type": "stream",
     "text": [
      "Piecewise((1/(1 - q), Abs(q) < 1), (Sum(q**n, (n, 0, oo)), True))\n"
     ]
    }
   ],
   "source": [
    "print(res)"
   ]
  },
  {
   "cell_type": "code",
   "execution_count": 42,
   "metadata": {},
   "outputs": [
    {
     "data": {
      "image/png": "[encoded data removed]",
      "text/latex": [
       "$\\displaystyle \\frac{1}{1 - q}$"
      ],
      "text/plain": [
       "  1  \n",
       "─────\n",
       "1 - q"
      ]
     },
     "execution_count": 42,
     "metadata": {},
     "output_type": "execute_result"
    }
   ],
   "source": [
    "res.subs(Abs(q)<1, True)"
   ]
  },
  {
   "cell_type": "code",
   "execution_count": 43,
   "metadata": {
    "slideshow": {
     "slide_type": "slide"
    }
   },
   "outputs": [
    {
     "data": {
      "image/png": "[encoded data removed]",
      "text/latex": [
       "$\\displaystyle \\sum_{j=1}^{n} \\frac{1}{j^{2}}$"
      ],
      "text/plain": [
       "  n     \n",
       " ____   \n",
       " ╲      \n",
       "  ╲   1 \n",
       "   ╲  ──\n",
       "   ╱   2\n",
       "  ╱   j \n",
       " ╱      \n",
       " ‾‾‾‾   \n",
       "j = 1   "
      ]
     },
     "execution_count": 43,
     "metadata": {},
     "output_type": "execute_result"
    }
   ],
   "source": [
    "j = S('j')\n",
    "S2 = Sum(1/j**2, (j,1,n))\n",
    "S2"
   ]
  },
  {
   "cell_type": "code",
   "execution_count": 44,
   "metadata": {},
   "outputs": [
    {
     "data": {
      "image/png": "[encoded data removed]",
      "text/latex": [
       "$\\displaystyle \\operatorname{harmonic}{\\left(n,2 \\right)}$"
      ],
      "text/plain": [
       "harmonic(n, 2)"
      ]
     },
     "execution_count": 44,
     "metadata": {},
     "output_type": "execute_result"
    }
   ],
   "source": [
    "tmp = S2.doit()\n",
    "tmp"
   ]
  },
  {
   "cell_type": "code",
   "execution_count": 45,
   "metadata": {},
   "outputs": [
    {
     "data": {
      "image/png": "[encoded data removed]",
      "text/latex": [
       "$\\displaystyle \\frac{\\pi^{2}}{6}$"
      ],
      "text/plain": [
       " 2\n",
       "π \n",
       "──\n",
       "6 "
      ]
     },
     "execution_count": 45,
     "metadata": {},
     "output_type": "execute_result"
    }
   ],
   "source": [
    "tmp.limit(n, oo)"
   ]
  },
  {
   "cell_type": "code",
   "execution_count": 46,
   "metadata": {
    "slideshow": {
     "slide_type": "fragment"
    }
   },
   "outputs": [
    {
     "data": {
      "image/png": "[encoded data removed]",
      "text/latex": [
       "$\\displaystyle \\frac{\\pi^{2}}{6}$"
      ],
      "text/plain": [
       " 2\n",
       "π \n",
       "──\n",
       "6 "
      ]
     },
     "execution_count": 46,
     "metadata": {},
     "output_type": "execute_result"
    }
   ],
   "source": [
    "Sum(1/j**2, (j,1,oo)).doit()"
   ]
  },
  {
   "cell_type": "code",
   "execution_count": 47,
   "metadata": {},
   "outputs": [
    {
     "data": {
      "image/png": "[encoded data removed]",
      "text/latex": [
       "$\\displaystyle \\zeta\\left(3\\right)$"
      ],
      "text/plain": [
       "ζ(3)"
      ]
     },
     "execution_count": 47,
     "metadata": {},
     "output_type": "execute_result"
    }
   ],
   "source": [
    "Sum(1/j**3, (j,1,oo)).doit()"
   ]
  },
  {
   "cell_type": "markdown",
   "metadata": {
    "slideshow": {
     "slide_type": "slide"
    }
   },
   "source": [
    "# Zeichenketten \n",
    "\n",
    "Strings"
   ]
  },
  {
   "cell_type": "code",
   "execution_count": 48,
   "metadata": {
    "slideshow": {
     "slide_type": "slide"
    }
   },
   "outputs": [
    {
     "data": {
      "text/plain": [
       "True"
      ]
     },
     "execution_count": 48,
     "metadata": {},
     "output_type": "execute_result"
    }
   ],
   "source": [
    "\"Text\" == 'Text'"
   ]
  },
  {
   "cell_type": "code",
   "execution_count": 49,
   "metadata": {},
   "outputs": [
    {
     "data": {
      "text/plain": [
       "'Bruttopreis = 2.72€ plus 0.43520000000000003€ Mehrwertsteuer'"
      ]
     },
     "execution_count": 49,
     "metadata": {},
     "output_type": "execute_result"
    }
   ],
   "source": [
    "netto = 2.72\n",
    "f\"Bruttopreis = {netto}€ plus {netto*0.16}€ Mehrwertsteuer\""
   ]
  },
  {
   "cell_type": "markdown",
   "metadata": {
    "slideshow": {
     "slide_type": "fragment"
    }
   },
   "source": [
    "Alternativ:"
   ]
  },
  {
   "cell_type": "code",
   "execution_count": 50,
   "metadata": {},
   "outputs": [
    {
     "data": {
      "text/plain": [
       "'Bruttopreis = 2.72€ plus 0.44€ Mehrwertsteuer'"
      ]
     },
     "execution_count": 50,
     "metadata": {},
     "output_type": "execute_result"
    }
   ],
   "source": [
    "\"Bruttopreis = {:.2f}€ plus {:.2f}€ Mehrwertsteuer\".format(netto, 0.16*netto)"
   ]
  },
  {
   "cell_type": "markdown",
   "metadata": {},
   "source": [
    "Für Details siehe: https://docs.python.org/3/library/string.html#format-string-syntax"
   ]
  }
 ],
 "metadata": {
  "kernelspec": {
   "display_name": "Python 3",
   "language": "python",
   "name": "python3"
  },
  "language_info": {
   "codemirror_mode": {
    "name": "ipython",
    "version": 3
   },
   "file_extension": ".py",
   "mimetype": "text/x-python",
   "name": "python",
   "nbconvert_exporter": "python",
   "pygments_lexer": "ipython3",
   "version": "3.8.5"
  }
 },
 "nbformat": 4,
 "nbformat_minor": 4
}
