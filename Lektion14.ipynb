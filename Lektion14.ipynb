{
 "cells": [
  {
   "cell_type": "code",
   "execution_count": null,
   "metadata": {},
   "outputs": [],
   "source": [
    "from sympy import *\n",
    "init_printing()\n",
    "import numpy as np\n",
    "from matplotlib import pyplot as plt"
   ]
  },
  {
   "cell_type": "code",
   "execution_count": null,
   "metadata": {},
   "outputs": [],
   "source": [
    "x = S('x')\n",
    "y = Function('y')"
   ]
  },
  {
   "cell_type": "code",
   "execution_count": null,
   "metadata": {},
   "outputs": [],
   "source": [
    "dgl = Eq(y(x).diff(x), sqrt(x*y(x)))\n",
    "dgl"
   ]
  },
  {
   "cell_type": "code",
   "execution_count": null,
   "metadata": {},
   "outputs": [],
   "source": [
    "lsg = dsolve(dgl)\n",
    "lsg"
   ]
  },
  {
   "cell_type": "code",
   "execution_count": null,
   "metadata": {},
   "outputs": [],
   "source": [
    "phi = lsg.rhs"
   ]
  },
  {
   "cell_type": "code",
   "execution_count": null,
   "metadata": {},
   "outputs": [],
   "source": [
    "w_liste = [Rational(1,50), Rational(1,9)]\n",
    "fn = []\n",
    "for w in w_liste:\n",
    "    ab_glg = Eq(phi.subs(x,1), w)\n",
    "    ab_lsg = solve({ab_glg})\n",
    "    for l in ab_lsg:\n",
    "        f_ab = phi.subs(l)\n",
    "        display(f_ab)\n",
    "        fn.append(lambdify(x, f_ab))"
   ]
  },
  {
   "cell_type": "code",
   "execution_count": null,
   "metadata": {},
   "outputs": [],
   "source": [
    "xn = np.linspace(0, 1.2)\n",
    "fig = plt.figure()\n",
    "ax = fig.add_subplot(111)\n",
    "for ff in fn:\n",
    "    ax.plot(xn, ff(xn))"
   ]
  },
  {
   "cell_type": "code",
   "execution_count": null,
   "metadata": {},
   "outputs": [],
   "source": [
    "nx = 15\n",
    "ny = 19 \n",
    "xq = np.linspace(0, 1.2, nx)\n",
    "yq = np.linspace(0, .5, ny)\n",
    "X, Y = np.meshgrid(xq, yq)\n",
    "vf = np.zeros_like(X)\n",
    "for j in range(nx):\n",
    "    for k in range(ny):\n",
    "        vf[k,j] = dgl.rhs.subs({x: xq[j], y(x): yq[k]})\n",
    "U = np.ones_like(X)\n",
    "V = vf\n",
    "ax.quiver(X, Y, U, V, angles='xy');"
   ]
  },
  {
   "cell_type": "code",
   "execution_count": null,
   "metadata": {},
   "outputs": [],
   "source": [
    "fig"
   ]
  },
  {
   "cell_type": "markdown",
   "metadata": {},
   "source": [
    "Die ganzen fallenden Äste sind Unsinn"
   ]
  },
  {
   "cell_type": "markdown",
   "metadata": {},
   "source": [
    "# Bernoullische Differentialgleichungen "
   ]
  },
  {
   "cell_type": "markdown",
   "metadata": {},
   "source": [
    "Eine Differentialgleichung der Form\n",
    "  \\begin{equation*}\n",
    "    y' + g(x) y + h(x) y^\\alpha = 0. \\qquad (1)\n",
    "  \\end{equation*}\n",
    "heißt *Bernoullische Differentialgleichung."
   ]
  },
  {
   "cell_type": "markdown",
   "metadata": {},
   "source": [
    "Durch die Substitution $y=w^{1/(1-\\alpha)}$ wird sie in eine lineare Differentialgleichung transformiert.  Das geht aber nur dort, wo $w>0$."
   ]
  },
  {
   "cell_type": "code",
   "execution_count": null,
   "metadata": {},
   "outputs": [],
   "source": [
    "alpha = Rational(1,2)\n",
    "1/(1-alpha)"
   ]
  },
  {
   "cell_type": "code",
   "execution_count": null,
   "metadata": {},
   "outputs": [],
   "source": [
    "w = Function('w', positive=True)"
   ]
  },
  {
   "cell_type": "code",
   "execution_count": null,
   "metadata": {},
   "outputs": [],
   "source": [
    "ldgl = dgl.subs(y(x), w(x)**2)\n",
    "ldgl"
   ]
  },
  {
   "cell_type": "code",
   "execution_count": null,
   "metadata": {},
   "outputs": [],
   "source": [
    "tmp = ldgl.doit()\n",
    "tmp"
   ]
  },
  {
   "cell_type": "code",
   "execution_count": null,
   "metadata": {},
   "outputs": [],
   "source": [
    "l = tmp.lhs/w(x)\n",
    "l"
   ]
  },
  {
   "cell_type": "code",
   "execution_count": null,
   "metadata": {},
   "outputs": [],
   "source": [
    "r = tmp.rhs.subs(abs(w(x)), w(x))/w(x)\n",
    "r"
   ]
  },
  {
   "cell_type": "code",
   "execution_count": null,
   "metadata": {},
   "outputs": [],
   "source": [
    "dgl2 = Eq(l, r)\n",
    "dgl2"
   ]
  },
  {
   "cell_type": "code",
   "execution_count": null,
   "metadata": {},
   "outputs": [],
   "source": [
    "lsg = dsolve(dgl2)\n",
    "lsg"
   ]
  },
  {
   "cell_type": "markdown",
   "metadata": {},
   "source": [
    "Die Anfangsbedingung $y(1)=\\frac19$ übesetzt sich zu $2w(1)=\\frac13$."
   ]
  },
  {
   "cell_type": "code",
   "execution_count": null,
   "metadata": {},
   "outputs": [],
   "source": [
    "psi = lsg.rhs\n",
    "ab = Eq(psi.subs(x,1), Rational(1,3))\n",
    "ab"
   ]
  },
  {
   "cell_type": "markdown",
   "metadata": {},
   "source": [
    "Also $C_1=0$ und"
   ]
  },
  {
   "cell_type": "code",
   "execution_count": null,
   "metadata": {},
   "outputs": [],
   "source": [
    "C1 = S('C1')\n",
    "y1 = psi.subs(C1, 0)**2\n",
    "y1"
   ]
  },
  {
   "cell_type": "markdown",
   "metadata": {},
   "source": [
    "Die falsche Lösung entsteht, wenn man erst quadriert"
   ]
  },
  {
   "cell_type": "code",
   "execution_count": null,
   "metadata": {},
   "outputs": [],
   "source": [
    "phi_f = psi**2\n",
    "phi_f"
   ]
  },
  {
   "cell_type": "code",
   "execution_count": null,
   "metadata": {},
   "outputs": [],
   "source": [
    "ab_f = Eq(phi_f.subs(x,1), Rational(1,9))\n",
    "ab_f"
   ]
  },
  {
   "cell_type": "code",
   "execution_count": null,
   "metadata": {},
   "outputs": [],
   "source": [
    "lsg_f = solve(ab_f)\n",
    "lsg_f"
   ]
  },
  {
   "cell_type": "code",
   "execution_count": null,
   "metadata": {},
   "outputs": [],
   "source": [
    "psi.subs(C1, lsg_f[0]).subs(x,1)"
   ]
  },
  {
   "cell_type": "markdown",
   "metadata": {},
   "source": [
    "Dort ist $w<0$.  Deswegen ist in dem Plot die rote Kurve falsch und die grüne auf ganzer Länge richtig."
   ]
  },
  {
   "cell_type": "code",
   "execution_count": null,
   "metadata": {},
   "outputs": [],
   "source": [
    "ab = Eq(psi.subs(x,1), 1/sqrt(50))\n",
    "ab"
   ]
  },
  {
   "cell_type": "code",
   "execution_count": null,
   "metadata": {},
   "outputs": [],
   "source": [
    "lsg_ab = solve(ab)\n",
    "lsg_ab"
   ]
  },
  {
   "cell_type": "code",
   "execution_count": null,
   "metadata": {},
   "outputs": [],
   "source": [
    "psi2 = psi.subs(C1, lsg_ab[0])\n",
    "psi2"
   ]
  },
  {
   "cell_type": "code",
   "execution_count": null,
   "metadata": {},
   "outputs": [],
   "source": [
    "lsg2 = solve(Eq(psi2, 0))\n",
    "lsg2"
   ]
  },
  {
   "cell_type": "code",
   "execution_count": null,
   "metadata": {},
   "outputs": [],
   "source": [
    "lsg2[0].n()\n"
   ]
  },
  {
   "cell_type": "markdown",
   "metadata": {},
   "source": [
    "Links davon gibt es keine Lösung dieser AWA."
   ]
  },
  {
   "cell_type": "code",
   "execution_count": null,
   "metadata": {},
   "outputs": [],
   "source": [
    "y2 = psi2**2\n",
    "y2"
   ]
  },
  {
   "cell_type": "code",
   "execution_count": null,
   "metadata": {},
   "outputs": [],
   "source": [
    "f1 = lambdify(x, y1)\n",
    "f2 = lambdify(x, y2)"
   ]
  },
  {
   "cell_type": "code",
   "execution_count": null,
   "metadata": {},
   "outputs": [],
   "source": [
    "fig = plt.figure()\n",
    "ax = fig.add_subplot(111)\n",
    "xn = np.linspace(0, 1.2)\n",
    "ax.plot(xn, f1(xn))\n",
    "# xn = np.linspace(lsg2[0].n(), 1.2)   # TypeError\n",
    "# ax.plot(xn, f2(xn));"
   ]
  },
  {
   "cell_type": "markdown",
   "metadata": {},
   "source": [
    "# Beliebige Genauigkeit"
   ]
  },
  {
   "cell_type": "code",
   "execution_count": null,
   "metadata": {},
   "outputs": [],
   "source": [
    "pi.n(n=100)"
   ]
  },
  {
   "cell_type": "code",
   "execution_count": null,
   "metadata": {},
   "outputs": [],
   "source": [
    "lsg2[0].n(n=100)"
   ]
  },
  {
   "cell_type": "code",
   "execution_count": null,
   "metadata": {},
   "outputs": [],
   "source": [
    "I1 = 2*Integral(sqrt(1-x**2), (x,-1,1))\n",
    "I1"
   ]
  },
  {
   "cell_type": "code",
   "execution_count": null,
   "metadata": {},
   "outputs": [],
   "source": [
    "I1.n(n=100)"
   ]
  },
  {
   "cell_type": "markdown",
   "metadata": {},
   "source": [
    "# Parametrische 2D Plots "
   ]
  },
  {
   "cell_type": "code",
   "execution_count": null,
   "metadata": {},
   "outputs": [],
   "source": [
    "t = np.linspace(0, 2*np.pi, 550)"
   ]
  },
  {
   "cell_type": "code",
   "execution_count": null,
   "metadata": {},
   "outputs": [],
   "source": [
    "plt.plot(np.cos(7*t), np.sin(11*t), 'g')\n",
    "plt.plot(np.cos(.1+7*t), np.sin(11*t), 'r')\n",
    "plt.axis('image')\n",
    "plt.xticks([]);  # <-  leere Liste: keine Ticks"
   ]
  },
  {
   "cell_type": "markdown",
   "metadata": {},
   "source": [
    "# Implizite Plots in 2D"
   ]
  },
  {
   "cell_type": "code",
   "execution_count": null,
   "metadata": {},
   "outputs": [],
   "source": [
    "def f(x, y):\n",
    "    return (x**2+y**2)**2 + 3*x**2*y - y**3"
   ]
  },
  {
   "cell_type": "code",
   "execution_count": null,
   "metadata": {},
   "outputs": [],
   "source": [
    "x = np.linspace(-1.1, 1.1, 701)\n",
    "y = np.linspace(-1.1, 1.1, 701)\n",
    "X, Y = np.meshgrid(x, y)\n",
    "Z = f(X, Y)"
   ]
  },
  {
   "cell_type": "code",
   "execution_count": null,
   "metadata": {},
   "outputs": [],
   "source": [
    "fig = plt.figure()\n",
    "ax = fig.add_subplot(111)\n",
    "ax.set_xlabel('x')\n",
    "ax.set_ylabel('y')\n",
    "ax.contour(X, Y, Z, levels=[0])\n",
    "ax.axis('equal');"
   ]
  },
  {
   "cell_type": "markdown",
   "metadata": {},
   "source": [
    "# Implizite Plots in 3D "
   ]
  },
  {
   "cell_type": "code",
   "execution_count": null,
   "metadata": {},
   "outputs": [],
   "source": [
    "from skimage import measure "
   ]
  },
  {
   "cell_type": "code",
   "execution_count": null,
   "metadata": {},
   "outputs": [],
   "source": [
    "xn = np.linspace(-1.1, 1.1)\n",
    "yn = np.linspace(-1.1, 1.1)\n",
    "zn = np.linspace(-1.1, 1.1)\n",
    "X, Y , Z = np.meshgrid(xn, yn, zn)\n",
    "h = X**2 + Y**2 + Z**2"
   ]
  },
  {
   "cell_type": "code",
   "execution_count": null,
   "metadata": {},
   "outputs": [],
   "source": [
    "verts, faces, normals, values = measure.marching_cubes_lewiner(h, 1)"
   ]
  },
  {
   "cell_type": "code",
   "execution_count": null,
   "metadata": {},
   "outputs": [],
   "source": [
    "faces[0]"
   ]
  },
  {
   "cell_type": "code",
   "execution_count": null,
   "metadata": {},
   "outputs": [],
   "source": [
    "verts[0]"
   ]
  },
  {
   "cell_type": "code",
   "execution_count": null,
   "metadata": {},
   "outputs": [],
   "source": [
    "faces.shape"
   ]
  },
  {
   "cell_type": "code",
   "execution_count": null,
   "metadata": {},
   "outputs": [],
   "source": [
    "fig = plt.figure()\n",
    "ax = fig.add_subplot(111, projection='3d')\n",
    "ax.plot_trisurf(verts[:,0], verts[:,1], faces, verts[:, 2], cmap=plt.cm.viridis);"
   ]
  },
  {
   "cell_type": "markdown",
   "metadata": {},
   "source": [
    "Die Ecken der Dreiecke sind in dem Raum der Indices interpoliert. Das heißt die Achsenbeschriftung ist falsch.\n",
    "\n",
    "Beim nächsten Beispiel beheben wir dieses Problem durch Interpolation."
   ]
  },
  {
   "cell_type": "code",
   "execution_count": null,
   "metadata": {},
   "outputs": [],
   "source": [
    "np.interp(2.3, [1,2,3], [1,2,4])"
   ]
  },
  {
   "cell_type": "code",
   "execution_count": null,
   "metadata": {},
   "outputs": [],
   "source": [
    "xn = np.linspace(-1.8, 1.2)\n",
    "yn = np.linspace(-1.3, 1.3)\n",
    "zn = np.linspace(-1.3, 1.3)\n",
    "X, Y, Z = np.meshgrid(xn, yn, zn)\n",
    "h = Y**2 - (X-1)*(X+1)**2 - Z**2"
   ]
  },
  {
   "cell_type": "code",
   "execution_count": null,
   "metadata": {},
   "outputs": [],
   "source": [
    "verts, faces, n, v = measure.marching_cubes_lewiner(h, 0)  \n",
    "len(faces)"
   ]
  },
  {
   "cell_type": "code",
   "execution_count": null,
   "metadata": {},
   "outputs": [],
   "source": [
    "fig = plt.figure()\n",
    "ax = fig.add_subplot(111, projection='3d')\n",
    "xi = np.interp(verts[:,0], np.arange(len(xn)), xn)\n",
    "yi = np.interp(verts[:,1], np.arange(len(yn)), yn)\n",
    "zi = np.interp(verts[:,2], np.arange(len(zn)), zn)\n",
    "ax.plot_trisurf(xi, yi, faces, zi, cmap=plt.cm.plasma)\n",
    "ax.view_init(38, -20); "
   ]
  },
  {
   "cell_type": "code",
   "execution_count": null,
   "metadata": {},
   "outputs": [],
   "source": [
    "verts[0:10,0]"
   ]
  },
  {
   "cell_type": "code",
   "execution_count": null,
   "metadata": {},
   "outputs": [],
   "source": [
    "xi[0:10]"
   ]
  },
  {
   "cell_type": "code",
   "execution_count": null,
   "metadata": {},
   "outputs": [],
   "source": [
    "xn[0:2]"
   ]
  },
  {
   "cell_type": "markdown",
   "metadata": {},
   "source": [
    "# Klausurbewertung"
   ]
  },
  {
   "cell_type": "markdown",
   "metadata": {},
   "source": [
    "Zur Bewertung Ihrer Klausur werden die Ausgaben gelöscht und mit \n",
    "\n",
    "Cell->Run All\n",
    "\n",
    "alle Befehle von oben nach unten ausgeführt.  Achten Sie darauf, dass Ihre Zellen in dieser Reihenfolge Sinn machen."
   ]
  },
  {
   "cell_type": "markdown",
   "metadata": {},
   "source": [
    "Die Richtigkeit der Ergebnisse ist wichtig. "
   ]
  }
 ],
 "metadata": {
  "kernelspec": {
   "display_name": "Python 3",
   "language": "python",
   "name": "python3"
  },
  "language_info": {
   "codemirror_mode": {
    "name": "ipython",
    "version": 3
   },
   "file_extension": ".py",
   "mimetype": "text/x-python",
   "name": "python",
   "nbconvert_exporter": "python",
   "pygments_lexer": "ipython3",
   "version": "3.8.5"
  }
 },
 "nbformat": 4,
 "nbformat_minor": 4
}
